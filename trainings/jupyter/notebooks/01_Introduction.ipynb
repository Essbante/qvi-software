{
 "cells": [
  {
   "cell_type": "markdown",
   "id": "18b19cae-d421-4312-a89f-4f62a040b622",
   "metadata": {
    "editable": true,
    "slideshow": {
     "slide_type": ""
    },
    "tags": []
   },
   "source": [
    "## Welcome to the vLEI Training - 101!\n",
    "\n",
    "This collection of Jupyter Notebooks is designed to guide you through the foundational concepts of the Key Event Receipt Infrastructure (KERI), followed by the workings of the verifiable Legal Entity Identifier (vLEI) ecosystem, which is built on top of KERI and Authentic Chained Data Containers (ACDC).\n",
    "\n",
    "🚧 add brief intro about keri and vLEI\n",
    "\n",
    "By working through these notebooks, you will:\n",
    "- **Understand KERI and ACDC Fundamentals**: Grasp the core principles of the foundational technologies behind vLEI\n",
    "- **Appreciate KERI’s Security Flexibility**: Explore the range of cryptographic and architectural options KERI provides for secure key management\n",
    "- **Develop a Mental Model of vLEI**: Build a conceptual understanding of how the vLEI system functions and fits into real-world identity ecosystems\n",
    "- **Comprehend Key Workflows**: Learn how essential processes like the Qualified vLEI Issuer (QVI) workflow operate within the vLEI framework\n",
    "- **Build Your Own Proof of Concept (PoC)**: Gain the knowledge, tools, and templates to begin designing and implementing your own vLEI-enabled applications\n",
    "- 🚧 Review alignment later\n",
    "\n",
    "### Prerequisites:\n",
    "\n",
    "The training aims to be accessible, but having this background knowledge will certainly smooth your learning journey into the world of KERI.\n",
    "\n",
    "1.  **Command-Line Interface (CLI) Familiarity:** The training will involve using the KERI Command Line Interface (KLI). Therefore, having some prior experience working with a terminal or command prompt (like Bash, Zsh, PowerShell, or Windows CMD) is highly beneficial. Knowing how to navigate directories (`cd`), list files (`ls` or `dir`), and execute commands will make following along much easier.\n",
    "\n",
    "2.  **Conceptual Understanding of Digital Identity:** A general awareness of digital identity concepts, how online accounts work, and perhaps some of the limitations of traditional systems will provide useful context for understanding KERI's purpose.\n",
    "\n",
    "3.  **Basic Cryptography Concepts:** While we'll explain KERI-specific details, having a basic understanding of what public and private keys are and the general idea behind digital signatures will give you a head start in grasping how Controllers exercise authority and how the Key Event Log (KEL) is secured.\n",
    "\n",
    "5.  **Python Programming:** Eventually, the training may involve Python scripting to interact with KERI libraries or automate tasks. Basic familiarity with Python syntax (variables, functions, control flow) will be helpful at that stage.\n",
    "\n",
    "6.  **Docker Basics:** For setting up more complex KERI environments or running components like witnesses or agents, a basic understanding of Docker concepts (containers, images, `docker-compose`) may be required later in the training.\n",
    "\n",
    "\n",
    "### Versions:\n",
    "\n",
    "This material was created and tested to work with:\n",
    "\n",
    "- **Keripy v1.1.32**\n"
   ]
  }
 ],
 "metadata": {
  "kernelspec": {
   "display_name": "Python 3 (ipykernel)",
   "language": "python",
   "name": "python3"
  },
  "language_info": {
   "codemirror_mode": {
    "name": "ipython",
    "version": 3
   },
   "file_extension": ".py",
   "mimetype": "text/x-python",
   "name": "python",
   "nbconvert_exporter": "python",
   "pygments_lexer": "ipython3",
   "version": "3.12.9"
  }
 },
 "nbformat": 4,
 "nbformat_minor": 5
}
