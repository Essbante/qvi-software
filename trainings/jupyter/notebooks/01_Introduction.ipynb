{
 "cells": [
  {
   "cell_type": "markdown",
   "id": "18b19cae-d421-4312-a89f-4f62a040b622",
   "metadata": {
    "editable": true,
    "slideshow": {
     "slide_type": ""
    },
    "tags": []
   },
   "source": [
    "## Welcome to the vLEI Training - 101!\n",
    "\n",
    "This collection of Jupyter Notebooks is designed to guide you through the foundational concepts of the Key Event Receipt Infrastructure (KERI) and Authentic Chained Data Containers (ACDC) protocols, followed by the workings of the verifiable Legal Entity Identifier (vLEI) ecosystem. We aim to equip you with the foundational knowledge needed to build applications leveraging this powerful identity technology.\n",
    "\n",
    "After completing this training, you will:\n",
    "- Understand the KERI protocol\n",
    "- Understand the ACDC protocol\n",
    "- Understand the vLEI ecosystem and QVI workflow\n",
    "- Have the basis to develop your own vLEI POC\n",
    "\n",
    "\n",
    "### Prerequisites:\n",
    "\n",
    "The training aims to be accessible, but having background knowledge will certainly smooth your learning journey.\n",
    "\n",
    "1.  **Command-Line Interface (CLI) Familiarity:** The training will involve using the KERI Command Line Interface (KLI). Therefore, having prior experience working with a terminal or command prompt (like Bash, Zsh, PowerShell, or Windows CMD) is highly beneficial. \n",
    "\n",
    "2.  **Conceptual Understanding of Digital Identity:** A general awareness of digital identity concepts, how online accounts work, and perhaps some of the limitations of traditional systems will provide useful context for understanding KERI's purpose.\n",
    "\n",
    "3.  **Basic Cryptography Concepts:** Having a basic understanding of what public and private keys are and the general idea behind digital signatures and hash functions will give you a head start.\n",
    "\n",
    "5.  **Python Programming:** Eventually, the training will involve Python scripting to interact with KERI libraries. Basic familiarity with Python will be helpful at that stage.\n",
    "\n",
    "6.  **Docker Basics:** For setting up more complex KERI environments or running components like witnesses or agents, a basic understanding of Docker concepts (containers, images, `docker-compose`) will be useful later in the training.\n",
    "\n",
    "\n",
    "### Versions:\n",
    "\n",
    "This material was created and tested to work with:\n",
    "\n",
    "- **Keripy v1.1.32**\n"
   ]
  },
  {
   "cell_type": "markdown",
   "id": "d490a930-6b70-4d84-8362-d7fd6c2a1cbc",
   "metadata": {},
   "source": [
    "<div class=\"alert alert-info\">\n",
    "  <b>🧩 DID YOU KNOW?</b><hr>\n",
    "While the KERI and ACDC protocols and the vLEI ecosystem provide a strong foundation for secure identifiers, credentials and organizational identity, achieving comprehensive security requires additional efforts. Real-world security relies on a combination of factors: the protocols must be implemented correctly according to their specification, and the overall solution must also be robustly designed and deployed. Furthermore, general information security best practices remain crucial; even the strongest cryptographic protocol can be undermined by external factors such as poor private key management, vulnerabilities in the infrastructure, or susceptibility to social engineering attacks that trick users into compromising their keys. Therefore, effective security is a holistic effort combining technical strengths with sound operational security measures.\n",
    "</div>\n",
    "\n"
   ]
  }
 ],
 "metadata": {
  "kernelspec": {
   "display_name": "Python 3 (ipykernel)",
   "language": "python",
   "name": "python3"
  },
  "language_info": {
   "codemirror_mode": {
    "name": "ipython",
    "version": 3
   },
   "file_extension": ".py",
   "mimetype": "text/x-python",
   "name": "python",
   "nbconvert_exporter": "python",
   "pygments_lexer": "ipython3",
   "version": "3.12.9"
  }
 },
 "nbformat": 4,
 "nbformat_minor": 5
}
