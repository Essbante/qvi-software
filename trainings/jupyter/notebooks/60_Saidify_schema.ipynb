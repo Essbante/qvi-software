{
 "cells": [
  {
   "cell_type": "markdown",
   "id": "e0004b7b-7bb9-4489-abf8-45ecec869680",
   "metadata": {
    "editable": true,
    "slideshow": {
     "slide_type": ""
    },
    "tags": []
   },
   "source": [
    "## Schema SAIDs\n",
    "\n",
    "A key feature of KERI and ACDCs is the use of SAIDs (Self-Addressing Identifiers) for schemas. The SAID in a schema's `$id` field is a hash of the canonical form of that schema block.\n",
    "\n",
    "* **Why it matters:**\n",
    "    * **Integrity:** If anyone modifies the schema file after its SAID has been calculated and embedded, the SAID will no longer match the content, making tampering evident.\n",
    "    * **Immutability:** Once a schema version is SAIDified and published, it's cryptographically locked. New versions require a new SAID.\n",
    "    * **Lookup:** SAIDs provide a universal, unique identifier to retrieve a specific, verified version of a schema.\n",
    "      \n",
    "Calculating and embedding these SAIDs requires a specific process, often called **\"SAIDifying\"**. This involves calculating the SAIDs for the innermost blocks (like attributes, edges, rules) first, embedding them, and then calculating the SAID for the next level up, until the top-level schema SAID is computed.\n",
    "\n",
    "## Practical: SAIDifying a Schema with KLI\n",
    "\n",
    "Let's create a very simple schema and process it using the `kli` tool.\n",
    "\n",
    "### Step 1: Write the Schema JSON\n",
    "\n",
    "First, create a JSON file (e.g., `sample_credential_schema.json`) with the basic structure. Notice the `$id` fields are initially empty strings `\"\"` – they will be filled in by `kli`.\n",
    "\n",
    "### Step 2: SAIDify the Schema\n",
    "\n",
    "Now, we need to process the schema to embed the Self-Addressing Identifiers (SAIDs). For this, we have a convenient [Python script](scripts/saidify.py) available in the scripts folder. We will use this script, which calculates the required digests from the content and adds the SAIDs to the file. "
   ]
  },
  {
   "cell_type": "code",
   "execution_count": 1,
   "id": "a70be2f6-449f-4697-ae66-7d53dc766253",
   "metadata": {},
   "outputs": [
    {
     "name": "stdout",
     "output_type": "stream",
     "text": [
      "Successfully wrote processed data to ./config/schemas/sample_schema.json\n",
      "\n",
      "calculated saids ($id):\n",
      "\u001b[0;32m\"EEARD7SAMt2xhHfcWLZW7UoGGmQtMfsmBN9cOUGO0y44\"\u001b[0m\n",
      "\u001b[0;32m\"ED614TseulOlXWhFNsOcKIKt9Na0gCByugqyKVsva-gl\"\u001b[0m\n"
     ]
    }
   ],
   "source": [
    "from scripts.saidify import process_schema_file\n",
    "\n",
    "# Run the saidify script\n",
    "process_schema_file(\"./config/schemas/sample_schema.bak.json\", \"./config/schemas/sample_schema.json\", True)\n",
    "\n",
    "# Displays all \"$id\" values from any JSON objects found recursively in the schema file\n",
    "print(\"\\ncalculated saids ($id):\")\n",
    "!jq '.. | objects | .[\"$id\"]? // empty' ./config/schemas/sample_schema.json\n"
   ]
  },
  {
   "cell_type": "markdown",
   "id": "fc021a56-2ded-44e0-9313-65e32a40581b",
   "metadata": {},
   "source": [
    "After running this command, if you inspect simple_credential_schema.json again, you will see that the previously empty `\"$id\": \"\"` fields (both the top-level one and the one inside the a block) have been populated with SAID strings (long Base64-like identifiers).\n",
    "\n",
    "For example, the top-level `$id` might now look something like:\n",
    "`\"$id\": \"EABC123abc...\"` \n",
    "And the $id inside the a block might look like:\n",
    "`\"$id\": \"EFGH456def...\"`\n",
    "\n",
    "(Note: The actual SAIDs generated will depend on the exact content and formatting used by the kli saidify tool at the time of execution.)\n",
    "\n",
    "You now have a cryptographically verifiable schema identified by its top-level SAID!"
   ]
  },
  {
   "cell_type": "markdown",
   "id": "71c14e31-d6e2-439d-921c-f158a7d9f560",
   "metadata": {},
   "source": [
    "<div class=\"alert alert-info\">\n",
    "  <b>💡 TIP</b><hr>\n",
    "    The KERI command-line tool (`kli`) provides the <code>kli saidify</code> command. When used like <code>kli saidify --file &lt;filename&gt; --label '&lt;label&gt;'</code>, it calculates a SAID for the specified file content and can embed it into the field matching the label (e.g., <code>\"$id\"</code> at the top level).\n",
    "    <br><br>\n",
    "    However, automatically processing nested structures and dependencies within complex ACDC schemas typically requires helper tools (like KASLCred) or custom scripts to ensure all inner SAIDs are calculated and embedded correctly before the final outer SAID is generated.\n",
    "</div>"
   ]
  },
  {
   "cell_type": "markdown",
   "id": "d3dc956e-6363-4966-bfe1-94ed69ed1355",
   "metadata": {},
   "source": [
    "### Step 3: Caching Schemas (Conceptual) 🚧\n",
    "For an issuer to issue an ACDC using this schema, and for a recipient/verifier to validate it, they both need access to this exact, SAIDified schema definition.\n",
    "\n",
    "How do they get it? The SAID acts as a universal lookup key. Common ways to make schemas available include:\n",
    "\n",
    "- Simple Web Server: Host the SAIDified JSON file on a basic web server (like the vLEI-server mentioned in the tutorial ). Controllers can be configured (often via OOBIs, covered later) to fetch the schema from that URL using its SAID.   \n",
    "- Content-Addressable Network: Store the schema on a network like IPFS, where the SAID naturally aligns with the content hash used for retrieval.\n",
    "- Direct Exchange: For specific interactions, the schema could potentially be exchanged directly between parties (though less common for widely used schemas).\n",
    "The key point is that the schema, identified by its SAID, must be retrievable by parties needing to issue or verify credentials based on it.\n",
    "\n",
    "In the next notebook, we'll use our SAIDified schema to set up a Credential Registry and issue our first actual ACDC."
   ]
  }
 ],
 "metadata": {
  "kernelspec": {
   "display_name": "Python 3 (ipykernel)",
   "language": "python",
   "name": "python3"
  },
  "language_info": {
   "codemirror_mode": {
    "name": "ipython",
    "version": 3
   },
   "file_extension": ".py",
   "mimetype": "text/x-python",
   "name": "python",
   "nbconvert_exporter": "python",
   "pygments_lexer": "ipython3",
   "version": "3.12.9"
  }
 },
 "nbformat": 4,
 "nbformat_minor": 5
}
