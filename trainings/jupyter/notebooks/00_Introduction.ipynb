{
 "cells": [
  {
   "cell_type": "markdown",
   "id": "18b19cae-d421-4312-a89f-4f62a040b622",
   "metadata": {
    "editable": true,
    "slideshow": {
     "slide_type": ""
    },
    "tags": []
   },
   "source": [
    "## Welcome to the vLEI Documentation!\n",
    "\n",
    "This collection of Jupyter Notebooks is designed to guide you through the concepts and practical applications of the verifiable Legal Entity Identifier (vLEI) ecosystem, built upon the Key Event Receipt Infrastructure (KERI) and Authentic Chained Data Containers (ACDC).\n",
    "\n",
    "prerequisites:\n",
    "- basic understanding of asymmetric cryptography\n",
    "- python\n",
    "- docker\n",
    "\n",
    "By working through these notebooks, you will:\n",
    "\n",
    "* **Understand KERI/ACDC Fundamentals:** Grasp the core principles behind these foundational technologies\n",
    "* **Develop a Mental Model:** Gain a conceptual understanding of how the vLEI system operates\n",
    "* **Appreciate Security Flexibility:** Recognize the range of security options KERI provides\n",
    "* **Comprehend Key Processes:** Understand essential workflows, such as the Qualified vLEI Issuer (QVI) workflow\n",
    "* **Build Your Own PoC:** Be equipped with the knowledge, recipes, and templates necessary to start developing your own Proof-of-Concept (PoC) applications leveraging vLEI\n",
    "\n",
    "Let's get started!  \n",
    "\n",
    "\n",
    "\n",
    "## TOC\n",
    "\n",
    "[Introduction](01_Introduction.ipynb)\n",
    "\n",
    "\n",
    "<div class=\"alert alert-warning\">\n",
    "  <b>🔍 TROUBLESHOOTING</b><hr>\n",
    "    <li>use the <code>clear_keri()</code> to clear the keystore</li>\n",
    "    <li>restart the kernell</li>    \n",
    "</div>"
   ]
  },
  {
   "cell_type": "code",
   "execution_count": null,
   "id": "a4d53ae6-f6a9-47c8-837b-4722a9aa93cc",
   "metadata": {
    "editable": true,
    "slideshow": {
     "slide_type": ""
    },
    "tags": []
   },
   "outputs": [],
   "source": []
  }
 ],
 "metadata": {
  "kernelspec": {
   "display_name": "Python 3 (ipykernel)",
   "language": "python",
   "name": "python3"
  },
  "language_info": {
   "codemirror_mode": {
    "name": "ipython",
    "version": 3
   },
   "file_extension": ".py",
   "mimetype": "text/x-python",
   "name": "python",
   "nbconvert_exporter": "python",
   "pygments_lexer": "ipython3",
   "version": "3.12.9"
  }
 },
 "nbformat": 4,
 "nbformat_minor": 5
}
