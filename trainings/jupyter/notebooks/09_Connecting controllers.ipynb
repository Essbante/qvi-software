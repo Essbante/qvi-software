{
 "cells": [
  {
   "cell_type": "code",
   "execution_count": 3,
   "id": "5867b578-f95c-4ab1-a74a-9f4a1f3e4738",
   "metadata": {
    "editable": true,
    "slideshow": {
     "slide_type": ""
    },
    "tags": []
   },
   "outputs": [],
   "source": [
    "# Imports and Utility functions\n",
    "from scripts.utils import clear_keri\n",
    "from scripts.utils import exec"
   ]
  },
  {
   "cell_type": "markdown",
   "id": "ae3fdd7f-7e40-46fb-a4d6-0616a94dab39",
   "metadata": {},
   "source": [
    "# Connecting controllers\n",
    "\n",
    "So far, we have done only basic operations with AIDs in an isolated way. That has limited use in practical applications; after all, establishing identity verification mechanisms only becomes meaningful when interacting with others. In KERI, this interaction starts with controllers needing to discover and securely connect with each other.\n",
    "\n",
    "In our context, this means we need to establish connections between controllers. We've already seen a similar process when pairing transferable AIDs with witnesses. Now, let's explore how controllers can directly connect using Out-of-Band Introductions (OOBIs) and enhance trust with challenge responses.\n",
    "\n",
    "**Keystores**\n",
    "We are going to use two different keystores called `keystore_a` and `keystore_b`, both initialized using the `keystore_init_config.json` configuration. This means they will both load the same initial set of three witness contacts, providing a common ground for discovering AID key states.\n"
   ]
  },
  {
   "cell_type": "code",
   "execution_count": 4,
   "id": "52f18e1e-7d42-40df-be82-9a93a80c2020",
   "metadata": {
    "editable": true,
    "slideshow": {
     "slide_type": ""
    },
    "tags": []
   },
   "outputs": [
    {
     "name": "stdout",
     "output_type": "stream",
     "text": [
      "KERI Keystore created at: /usr/local/var/keri/ks/keystore-a\n",
      "KERI Database created at: /usr/local/var/keri/db/keystore-a\n",
      "KERI Credential Store created at: /usr/local/var/keri/reg/keystore-a\n",
      "\taeid: BD-1udeJaXFzKbSUFb6nhmndaLlMj-pdlNvNoN562h3z\n",
      "\n",
      "Loading 3 OOBIs...\n",
      "http://witness-demo:5642/oobi/BBilc4-L3tFUnfM_wJr4S4OJanAv_VmF_dJNN6vkf2Ha/controller?name=Wan&tag=witness succeeded\n",
      "http://witness-demo:5643/oobi/BLskRTInXnMxWaGqcpSyMgo0nYbalW99cGZESrz3zapM/controller?name=Wes&tag=witness succeeded\n",
      "http://witness-demo:5644/oobi/BIKKuvBwpmDVA4Ds-EpL5bt9OqPzWPja2LigFYZN2YfX/controller?name=Wil&tag=witness succeeded\n"
     ]
    }
   ],
   "source": [
    "keystore_a_name=\"keystore-a\"\n",
    "\n",
    "keystore_a_passcode=\"xSLg286d4iWiRg2mzGYca\"\n",
    "\n",
    "salt_a=\"0ABeuT2dErMrqFE5Dmrnc2Bq\"\n",
    "\n",
    "!kli init --name {keystore_a_name} --passcode {keystore_a_passcode} --salt {salt_a} \\\n",
    "    --config-dir ./config \\\n",
    "    --config-file keystore_init_config.json\n"
   ]
  },
  {
   "cell_type": "code",
   "execution_count": 5,
   "id": "7fee7f1d-0800-4710-b63a-5388ae89b3b9",
   "metadata": {
    "editable": true,
    "slideshow": {
     "slide_type": ""
    },
    "tags": []
   },
   "outputs": [
    {
     "name": "stdout",
     "output_type": "stream",
     "text": [
      "KERI Keystore created at: /usr/local/var/keri/ks/keystore-b\n",
      "KERI Database created at: /usr/local/var/keri/db/keystore-b\n",
      "KERI Credential Store created at: /usr/local/var/keri/reg/keystore-b\n",
      "\taeid: BPJYwdaLcdcbB6pTpRal-IhbV_Vb8bD6vq_qiMFojHNG\n",
      "\n",
      "Loading 3 OOBIs...\n",
      "http://witness-demo:5642/oobi/BBilc4-L3tFUnfM_wJr4S4OJanAv_VmF_dJNN6vkf2Ha/controller?name=Wan&tag=witness succeeded\n",
      "http://witness-demo:5643/oobi/BLskRTInXnMxWaGqcpSyMgo0nYbalW99cGZESrz3zapM/controller?name=Wes&tag=witness succeeded\n",
      "http://witness-demo:5644/oobi/BIKKuvBwpmDVA4Ds-EpL5bt9OqPzWPja2LigFYZN2YfX/controller?name=Wil&tag=witness succeeded\n"
     ]
    }
   ],
   "source": [
    "keystore_b_name=\"keystore-b\"\n",
    "\n",
    "keystore_b_passcode=\"LLF1NYii5L7jTMvw4gDar\"\n",
    "\n",
    "salt_b=\"0ADzG7sbUyw-MYIoUyQe5wxB\"\n",
    "\n",
    "!kli init --name {keystore_b_name} --passcode {keystore_b_passcode} --salt {salt_b} \\\n",
    "    --config-dir ./config \\\n",
    "    --config-file keystore_init_config.json"
   ]
  },
  {
   "cell_type": "markdown",
   "id": "733dd784-d0ad-4dfb-9fb1-c511f553cf1e",
   "metadata": {
    "scrolled": true
   },
   "source": [
    "**Identifiers**  \n",
    "We need AIDs for our controllers. Let's create one transferable AID in each keystore, aliased `aid_a` and `aid_b` respectively. We'll use the aid_inception_config.json file, which specifies the initial set of witnesses for both AIDs. While they share witnesses here, controllers could use different witness sets."
   ]
  },
  {
   "cell_type": "code",
   "execution_count": 6,
   "id": "42ff3d61-6311-4e56-84fd-5cb769a6632d",
   "metadata": {},
   "outputs": [
    {
     "name": "stdout",
     "output_type": "stream",
     "text": [
      "Waiting for witness receipts...\n",
      "Prefix  EN1ez4w7VJr1uX83jwqdeBCoNqJwGAdl5vztWguJc10d\n",
      "\tPublic key 1:  DOsWk1y1pDitWn-ec0AHmIjS-bG32wBeLtfzXg2iYp4n\n",
      "\n"
     ]
    }
   ],
   "source": [
    "aid_a = \"aid-a\"\n",
    "\n",
    "!kli incept --name {keystore_a_name} --alias {aid_a} --passcode {keystore_a_passcode} \\\n",
    "    --file ./config/aid_inception_config.json\n"
   ]
  },
  {
   "cell_type": "code",
   "execution_count": 7,
   "id": "ab38ff44-b065-40c3-a964-d29df9e5bbac",
   "metadata": {},
   "outputs": [
    {
     "name": "stdout",
     "output_type": "stream",
     "text": [
      "Waiting for witness receipts...\n",
      "Prefix  EARiYig3_WBUBn-eKJc92LxWQIl_fwZvvUYpqVU4sH_V\n",
      "\tPublic key 1:  DPNiBEh8OVjklgpmrQ5GO6hPyw1bBfDtA1w8t4VWyRc_\n",
      "\n"
     ]
    }
   ],
   "source": [
    "aid_b = \"aid-b\"\n",
    "\n",
    "!kli incept --name {keystore_b_name} --alias {aid_b} --passcode {keystore_b_passcode} \\\n",
    "    --file ./config/aid_inception_config.json"
   ]
  },
  {
   "cell_type": "markdown",
   "id": "d1888c81-22fa-4c99-a08e-9c64060e5f52",
   "metadata": {},
   "source": [
    "**Generate oobis**  \n",
    "\n",
    "With our AIDs established, we need a way for them to find each other. This is where Out-of-Band Introductions (OOBIs) come in. We have used OOBIs before; to recapitulate, an OOBI is a specialized URL associated with an AID and how to reach one of its endpoints (like a witness). \n",
    "\n",
    "We can use the `kli oobi generate` command to create OOBIs for our AIDs. We specify which AID `--alias` within which keystore `--name` should generate the OOBI, and importantly, the role associated with the endpoint included in the OOBI URL. Here, `--role witness` means the OOBI URL will point to one of the AID's designated witnesses, providing an indirect way to fetch the AID's KEL."
   ]
  },
  {
   "cell_type": "code",
   "execution_count": 8,
   "id": "754bc65b-97cd-4310-ad0b-ab1ddd45ac98",
   "metadata": {},
   "outputs": [
    {
     "name": "stdout",
     "output_type": "stream",
     "text": [
      "http://witness-demo:5642/oobi/EN1ez4w7VJr1uX83jwqdeBCoNqJwGAdl5vztWguJc10d/witness\n",
      "http://witness-demo:5643/oobi/EN1ez4w7VJr1uX83jwqdeBCoNqJwGAdl5vztWguJc10d/witness\n"
     ]
    }
   ],
   "source": [
    "!kli oobi generate --name {keystore_a_name} --alias {aid_a} --passcode {keystore_a_passcode} --role witness"
   ]
  },
  {
   "cell_type": "code",
   "execution_count": 9,
   "id": "871cc81f-97e7-4665-b482-05c24b1568be",
   "metadata": {},
   "outputs": [
    {
     "name": "stdout",
     "output_type": "stream",
     "text": [
      "http://witness-demo:5642/oobi/EARiYig3_WBUBn-eKJc92LxWQIl_fwZvvUYpqVU4sH_V/witness\n",
      "http://witness-demo:5643/oobi/EARiYig3_WBUBn-eKJc92LxWQIl_fwZvvUYpqVU4sH_V/witness\n"
     ]
    }
   ],
   "source": [
    "!kli oobi generate --name {keystore_b_name} --alias {aid_b} --passcode {keystore_b_passcode} --role witness"
   ]
  },
  {
   "cell_type": "markdown",
   "id": "60c2e661-8beb-446a-b87b-f1ccae111bdf",
   "metadata": {},
   "source": [
    "Note that the command returns multiple OOBIs, one for each witness endpoint configured for the AID. Any of these can be used to initiate contact. For simplicity, we'll capture the first OOBI URL generated for each AID into the variables `oobi_a` and `oobi_b`."
   ]
  },
  {
   "cell_type": "code",
   "execution_count": 10,
   "id": "3a5f2d54-65d7-4ea8-a3c4-d71004d8485f",
   "metadata": {},
   "outputs": [],
   "source": [
    "command_a = f\"kli oobi generate --name {keystore_a_name} --alias {aid_a} --passcode {keystore_a_passcode} --role witness\"\n",
    "oobi_a = exec(command_a)\n",
    "\n",
    "command_b = f\"kli oobi generate --name {keystore_b_name} --alias {aid_b} --passcode {keystore_b_passcode} --role witness\"\n",
    "oobi_b = exec(command_b)"
   ]
  },
  {
   "cell_type": "markdown",
   "id": "0ec183e5-3553-4001-9404-25e9b6858cda",
   "metadata": {},
   "source": [
    "**OOBI resolution**  \n",
    "\n",
    "Now that `aid_a` and `aid_b` each have an OOBI, they need to resolve them. The `kli oobi resolve` command handles this.\n",
    "\n",
    "When `keystore_a` resolves `oobi_b`, its uses the URL to contact the specified witness. The witness provides the KEL for `aid_b`. `keystore_a` then verifies the entire KEL cryptographically, ensuring its integrity and confirming the public keys associated with `aid_b`. A human-readable alias `--oobi-alias` is assigned for easy reference later. The same process happens when `keystore_b` resolves `oobi_a`.\n"
   ]
  },
  {
   "cell_type": "code",
   "execution_count": 11,
   "id": "6142d3a6-395d-4922-9f07-ec4c5cca362e",
   "metadata": {},
   "outputs": [
    {
     "name": "stdout",
     "output_type": "stream",
     "text": [
      "http://witness-demo:5642/oobi/EARiYig3_WBUBn-eKJc92LxWQIl_fwZvvUYpqVU4sH_V/witness resolved\n"
     ]
    }
   ],
   "source": [
    "!kli oobi resolve --name {keystore_a_name} --oobi-alias {aid_b} --passcode {keystore_a_passcode} \\\n",
    "    --oobi {oobi_b}"
   ]
  },
  {
   "cell_type": "code",
   "execution_count": 12,
   "id": "d7732372-f390-44bd-bf8b-12071028d35c",
   "metadata": {},
   "outputs": [
    {
     "name": "stdout",
     "output_type": "stream",
     "text": [
      "http://witness-demo:5642/oobi/EN1ez4w7VJr1uX83jwqdeBCoNqJwGAdl5vztWguJc10d/witness resolved\n"
     ]
    }
   ],
   "source": [
    "!kli oobi resolve --name {keystore_b_name} --oobi-alias {aid_a} --passcode {keystore_b_passcode} \\\n",
    "    --oobi {oobi_a}"
   ]
  },
  {
   "cell_type": "markdown",
   "id": "a18091ae-a1a8-4d3b-a806-8d19e493b159",
   "metadata": {},
   "source": [
    "**Contact list**  \n",
    "\n",
    "After successful resolution, the other AID appears in the keystore's contact list. We can verify this using the `kli contacts list`. You'll see the newly resolved AID alongside the witnesses loaded during the keystore initialization. This confirms that the keystore now knows the other AID's identifier prefix and has verified its KEL."
   ]
  },
  {
   "cell_type": "code",
   "execution_count": 13,
   "id": "44830a87-928c-407c-949c-72e3452cd810",
   "metadata": {},
   "outputs": [
    {
     "name": "stdout",
     "output_type": "stream",
     "text": [
      "{\n",
      "  \"id\": \"BBilc4-L3tFUnfM_wJr4S4OJanAv_VmF_dJNN6vkf2Ha\",\n",
      "  \"alias\": \"Wan\",\n",
      "  \"oobi\": \"http://witness-demo:5642/oobi/BBilc4-L3tFUnfM_wJr4S4OJanAv_VmF_dJNN6vkf2Ha/controller?name=Wan&tag=witness\",\n",
      "  \"challenges\": [],\n",
      "  \"wellKnowns\": []\n",
      "}\n",
      "{\n",
      "  \"id\": \"BIKKuvBwpmDVA4Ds-EpL5bt9OqPzWPja2LigFYZN2YfX\",\n",
      "  \"alias\": \"Wil\",\n",
      "  \"oobi\": \"http://witness-demo:5644/oobi/BIKKuvBwpmDVA4Ds-EpL5bt9OqPzWPja2LigFYZN2YfX/controller?name=Wil&tag=witness\",\n",
      "  \"challenges\": [],\n",
      "  \"wellKnowns\": []\n",
      "}\n",
      "{\n",
      "  \"id\": \"BLskRTInXnMxWaGqcpSyMgo0nYbalW99cGZESrz3zapM\",\n",
      "  \"alias\": \"Wes\",\n",
      "  \"oobi\": \"http://witness-demo:5643/oobi/BLskRTInXnMxWaGqcpSyMgo0nYbalW99cGZESrz3zapM/controller?name=Wes&tag=witness\",\n",
      "  \"challenges\": [],\n",
      "  \"wellKnowns\": []\n",
      "}\n",
      "{\n",
      "  \"id\": \"EARiYig3_WBUBn-eKJc92LxWQIl_fwZvvUYpqVU4sH_V\",\n",
      "  \"alias\": \"aid-b\",\n",
      "  \"oobi\": \"http://witness-demo:5642/oobi/EARiYig3_WBUBn-eKJc92LxWQIl_fwZvvUYpqVU4sH_V/witness\",\n",
      "  \"challenges\": [],\n",
      "  \"wellKnowns\": []\n",
      "}\n"
     ]
    }
   ],
   "source": [
    "!kli contacts list --name {keystore_a_name}  --passcode {keystore_a_passcode}"
   ]
  },
  {
   "cell_type": "markdown",
   "id": "d8ca023b-53ef-45c3-a8d1-9b358351a894",
   "metadata": {},
   "source": [
    "**Challenge phrases**  \n",
    "\n",
    "Resolving an OOBI and verifying the KEL is a crucial first step. It confirms that the AID exists and that its key state history is cryptographically sound. However, it doesn't definitively prove that the entity you just connected with over the network is the legitimate controller you intend to interact with. You've verified the identifier, but not necessarily the authenticity of the current operator at the other end of the connection. Network connections can be vulnerable to Man-in-the-Middle (MITM) attacks or other deceptions.\n",
    "\n",
    "This is where the challenge-response mechanism becomes essential. It provides a way to verify that the controller on the other side genuinely possesses the private keys corresponding to the public keys in the KEL you just verified. This adds a critical layer of authentication on top of the OOBI discovery process.\n",
    "\n",
    "This is how it works:\n",
    "\n",
    "One party (the challenger, say `aid_b`) generates a random challenge phrase.\n",
    "The challenger sends this phrase to the other party (`aid_a`) through an Out-of-Band (OOB) channel. This means using a communication method different from the KERI network connection (e.g., a video call chat, phone call, secure email) to prevent an attacker on the main channel from intercepting or modifying the challenge. Using the same channel for both the challenge words and the response defeats the purpose of protecting against MITM attacks. \n",
    "\n",
    "The challenged party (`aid_a`) receives the phrase and uses their current private key to sign it.\n",
    "`aid_a` sends the original phrase and the resulting signature back to `aid_b` over the KERI connection.\n",
    "`aid_b` verifies two things: \n",
    "a) that the returned phrase matches the one originally sent, and \n",
    "b) that the signature correctly verifies against the public key associated with `aid_a` in its verified KEL.\n",
    "\n",
    "If the verification succeeds, `aid_b` now has strong assurance that they are communicating with the entity that truly controls aid_a's private keys. This process is typically done mutually, with `aid_a` also challenging `aid_b`.\n",
    "\n",
    "Let's generate the challenge phrases using `kli challenge generate`. We'll store them in variables for use in the commands."
   ]
  },
  {
   "cell_type": "code",
   "execution_count": 14,
   "id": "fbf4c346-8962-4537-a941-cf3af58b03d4",
   "metadata": {},
   "outputs": [
    {
     "name": "stdout",
     "output_type": "stream",
     "text": [
      "just thrive portion shoot valid humble protect debris garage admit town repeat\n"
     ]
    }
   ],
   "source": [
    "!kli challenge generate --out string\n",
    "\n",
    "phrase_a = exec(\"kli challenge generate --out string\")\n",
    "\n",
    "phrase_b = exec(\"kli challenge generate --out string\")"
   ]
  },
  {
   "cell_type": "markdown",
   "id": "f1294404-96a9-4c1c-ab26-d105e8b85b14",
   "metadata": {},
   "source": [
    "**Challenge respond** \n",
    "\n",
    "Now, simulate the OOB exchange: `aid_b` sends `phrase_b` to `aid_a`, and `aid_a` sends `phrase_a` to `aid_b`. Each party then uses `kli challenge respond` to sign the phrase they received and `kli challenge verify` to check the response from the other party.\n"
   ]
  },
  {
   "cell_type": "code",
   "execution_count": 15,
   "id": "b5523151-2d2b-4c3a-9649-4bc0ae13efa9",
   "metadata": {},
   "outputs": [
    {
     "name": "stdout",
     "output_type": "stream",
     "text": [
      "license tattoo midnight surge blade verify run actor salmon satisfy sport wood\n"
     ]
    }
   ],
   "source": [
    "print(phrase_a)\n",
    "\n",
    "!kli challenge respond --name {keystore_a_name}  --passcode {keystore_a_passcode} --alias {aid_a} --words \"{phrase_b}\" --recipient {aid_b}"
   ]
  },
  {
   "cell_type": "code",
   "execution_count": 16,
   "id": "76f551d8-d04e-41c1-8f82-b9dba5f88c86",
   "metadata": {},
   "outputs": [
    {
     "name": "stdout",
     "output_type": "stream",
     "text": [
      "Checking mailboxes for any challenge responses..\n",
      "\n",
      "Signer aid-a successfully responded to challenge words: '['hundred', 'employ', 'elite', 'year', 'slight', 'stumble', 'lake', 'click', 'praise', 'humble', 'urban', 'original']'\n",
      "\n"
     ]
    }
   ],
   "source": [
    "!kli challenge verify --name {keystore_b_name}  --passcode {keystore_b_passcode} --alias {aid_b} --words \"{phrase_b}\" --signer {aid_a}"
   ]
  },
  {
   "cell_type": "code",
   "execution_count": 17,
   "id": "f647e8b1-9fc5-4e0d-a6df-2109c299f533",
   "metadata": {},
   "outputs": [
    {
     "name": "stdout",
     "output_type": "stream",
     "text": [
      "hundred employ elite year slight stumble lake click praise humble urban original\n"
     ]
    }
   ],
   "source": [
    "print(phrase_b)\n",
    "\n",
    "!kli challenge respond --name {keystore_b_name}  --passcode {keystore_b_passcode} --alias {aid_b} --words \"{phrase_a}\" --recipient {aid_a}"
   ]
  },
  {
   "cell_type": "code",
   "execution_count": 18,
   "id": "375046c1-2aa8-4ab9-a371-f98a602148c2",
   "metadata": {},
   "outputs": [
    {
     "name": "stdout",
     "output_type": "stream",
     "text": [
      "Checking mailboxes for any challenge responses..\n",
      "\n",
      "Signer aid-b successfully responded to challenge words: '['license', 'tattoo', 'midnight', 'surge', 'blade', 'verify', 'run', 'actor', 'salmon', 'satisfy', 'sport', 'wood']'\n",
      "\n"
     ]
    }
   ],
   "source": [
    "!kli challenge verify --name {keystore_a_name}  --passcode {keystore_a_passcode} --alias {aid_a} --words \"{phrase_a}\" --signer {aid_b}"
   ]
  },
  {
   "cell_type": "markdown",
   "id": "c582f3e1-2306-4f5a-bd14-12c9cc0de874",
   "metadata": {},
   "source": [
    "Successful verification on both sides establishes mutual authenticated control, significantly increasing the trust level between the two controllers beyond the initial OOBI resolution. They now know they are interacting with the legitimate key holders for each respective AID."
   ]
  },
  {
   "cell_type": "code",
   "execution_count": null,
   "id": "516c35fd-2cd7-44f9-9ca5-bc3e373920f7",
   "metadata": {},
   "outputs": [],
   "source": [
    "clear_keri()"
   ]
  }
 ],
 "metadata": {
  "kernelspec": {
   "display_name": "Python 3 (ipykernel)",
   "language": "python",
   "name": "python3"
  },
  "language_info": {
   "codemirror_mode": {
    "name": "ipython",
    "version": 3
   },
   "file_extension": ".py",
   "mimetype": "text/x-python",
   "name": "python",
   "nbconvert_exporter": "python",
   "pygments_lexer": "ipython3",
   "version": "3.12.9"
  }
 },
 "nbformat": 4,
 "nbformat_minor": 5
}
