{
 "cells": [
  {
   "cell_type": "code",
   "execution_count": null,
   "id": "5056bfc4-72c9-4ae8-ac4d-d383c99ceec9",
   "metadata": {
    "editable": true,
    "slideshow": {
     "slide_type": ""
    },
    "tags": []
   },
   "outputs": [],
   "source": [
    "# Imports and Utility functions\n",
    "from scripts.utils import clear_keri, exec\n",
    "from scripts.saidify import process_schema_file, get_schema_said\n"
   ]
  },
  {
   "cell_type": "markdown",
   "id": "3c8f152b-69e5-438f-b53d-e921c578f3da",
   "metadata": {},
   "source": [
    "# Ipex Credential Presentation"
   ]
  },
  {
   "cell_type": "markdown",
   "id": "601b59de-8f4b-46bf-a868-d378fe462eca",
   "metadata": {},
   "source": [
    "## Issue a Credential\n",
    "\n",
    "To present a credential, we need a credential first. Below is a recap of the credential Issuance workflow."
   ]
  },
  {
   "cell_type": "code",
   "execution_count": null,
   "id": "f2b8cee2-1b47-44d3-b8e3-4916f426cda8",
   "metadata": {
    "editable": true,
    "slideshow": {
     "slide_type": ""
    },
    "tags": []
   },
   "outputs": [],
   "source": [
    "# Holder keystore init and AID inception\n",
    "\n",
    "holder_keystore_name = \"holder_ks\"\n",
    "holder_keystore_passcode = exec(\"kli passcode generate\")\n",
    "holder_keystore_salt = exec(\"kli salt\")\n",
    "holder_aid = \"holder_aid\"\n",
    "\n",
    "!kli init --name {holder_keystore_name} --passcode {holder_keystore_passcode} --salt {holder_keystore_salt}\\\n",
    "    --config-dir ./config \\\n",
    "    --config-file keystore_init_config.json\n",
    "\n",
    "!kli incept --name {holder_keystore_name} --alias {holder_aid} --passcode {holder_keystore_passcode} \\\n",
    "    --file ./config/aid_inception_config.json\n",
    "\n",
    "# Issuer keystore init and AID inception\n",
    "issuer_keystore_name = \"issuer_ks\"\n",
    "issuer_keystore_passcode = exec(\"kli passcode generate\")\n",
    "issuer_keystore_salt = exec(\"kli salt\")\n",
    "issuer_aid = \"issuer_aid\"\n",
    "\n",
    "!kli init --name {issuer_keystore_name} --passcode {issuer_keystore_passcode} --salt {issuer_keystore_salt}\\\n",
    "    --config-dir ./config \\\n",
    "    --config-file keystore_init_config.json\n",
    "\n",
    "!kli incept --name {issuer_keystore_name} --passcode {issuer_keystore_passcode} --alias {issuer_aid}  \\\n",
    "    --file ./config/aid_inception_config.json\n",
    "\n",
    "# Issuer registry inception\n",
    "issuer_registry_name=\"issuer_registry\"\n",
    "\n",
    "!kli vc registry incept --name {issuer_keystore_name} \\\n",
    "    --passcode {issuer_keystore_passcode} \\\n",
    "    --registry-name {issuer_registry_name} \\\n",
    "    --alias {issuer_aid}\n",
    "\n",
    "# Issuer and Holder oobi\n",
    "\n",
    "holder_oobi_gen = f\"kli oobi generate --name {holder_keystore_name} --alias {holder_aid} --passcode {holder_keystore_passcode} --role witness\"\n",
    "holder_oobi = exec(holder_oobi_gen)\n",
    "\n",
    "issuer_oobi_gen = f\"kli oobi generate --name {issuer_keystore_name} --alias {issuer_aid} --passcode {issuer_keystore_passcode} --role witness\"\n",
    "issuer_oobi = exec(issuer_oobi_gen)\n",
    "\n",
    "!kli oobi resolve --name {holder_keystore_name} --passcode {holder_keystore_passcode} --oobi-alias {issuer_aid} \\\n",
    "    --oobi {issuer_oobi}\n",
    "\n",
    "!kli oobi resolve --name {issuer_keystore_name} --passcode {issuer_keystore_passcode} --oobi-alias {holder_aid}\\\n",
    "    --oobi {holder_oobi}\n",
    "\n",
    "# Issuer and Holder resolve schema oobis\n",
    "schema_oobi_alias = \"schema_oobi\"\n",
    "schema_said = get_schema_said(\"config/schemas/event_pass_schema.json\")\n",
    "schema_oobi = f\"http://vlei-server:7723/oobi/{schema_said}\"\n",
    "\n",
    "!kli oobi resolve --name {holder_keystore_name} --passcode {holder_keystore_passcode} --oobi-alias {schema_oobi_alias} \\\n",
    "    --oobi {schema_oobi}\n",
    "\n",
    "!kli oobi resolve --name {issuer_keystore_name} --passcode {issuer_keystore_passcode} --oobi-alias {schema_oobi_alias}\\\n",
    "    --oobi {schema_oobi}\n",
    "\n",
    "# Issuer create VC\n",
    "time = exec(\"kli time\")\n",
    "\n",
    "!kli vc create --name {issuer_keystore_name} --passcode {issuer_keystore_passcode} \\\n",
    "    --alias {issuer_aid} \\\n",
    "    --registry-name {issuer_registry_name} \\\n",
    "    --schema {schema_said} \\\n",
    "    --recipient {holder_aid} \\\n",
    "    --data \"@./config/credential_data/event_pass_cred_data.json\" \\\n",
    "    --time {time}\n",
    "\n",
    "# Get credential said\n",
    "get_credential_said = f\"kli vc list --name {issuer_keystore_name} --passcode {issuer_keystore_passcode} --alias {issuer_aid} --issued --said --schema {schema_said}\"\n",
    "credential_said=exec(get_credential_said)\n",
    "\n",
    "#Issuer grant credential\n",
    "time = exec(\"kli time\")\n",
    "\n",
    "!kli ipex grant \\\n",
    "    --name {issuer_keystore_name} --passcode {issuer_keystore_passcode} \\\n",
    "    --alias {issuer_aid} \\\n",
    "    --said {credential_said} \\\n",
    "    --recipient {holder_aid} \\\n",
    "    --time {time}\n",
    "\n",
    "# Holder poll and admit credential\n",
    "\n",
    "get_ipex_said=f\"kli ipex list --name {holder_keystore_name} --passcode {holder_keystore_passcode} --alias {holder_aid} --poll --said\"\n",
    "ipex_said=exec(get_ipex_said)\n",
    "\n",
    "time = exec(\"kli time\")\n",
    "\n",
    "!kli ipex admit \\\n",
    "    --name {holder_keystore_name} \\\n",
    "    --passcode {holder_keystore_passcode} \\\n",
    "    --alias {holder_aid} \\\n",
    "    --said {ipex_said} \\\n",
    "    --time {time}\n",
    "\n",
    "print(\"\\n\\nYou can continue ✅\")"
   ]
  },
  {
   "cell_type": "markdown",
   "id": "691acd02-d77c-4112-82a8-2132f1db5cbe",
   "metadata": {},
   "source": [
    "## Credential presentation\n",
    "\n",
    "Once executed the steps above, here is the credential the holder is going to present:"
   ]
  },
  {
   "cell_type": "code",
   "execution_count": null,
   "id": "4f249599-c3c2-45b5-a640-bf141f70fd0c",
   "metadata": {},
   "outputs": [],
   "source": [
    "!kli vc list  --name {holder_keystore_name} --passcode {holder_keystore_passcode} --verbose"
   ]
  },
  {
   "cell_type": "markdown",
   "id": "b9bdf51d-06f1-4265-9c01-68836445110b",
   "metadata": {},
   "source": [
    "### Verifier boilerplate\n",
    "\n",
    "Go forward with the usual, keystore initialization and AID inception for the verifier"
   ]
  },
  {
   "cell_type": "code",
   "execution_count": null,
   "id": "700a56a8-6e84-44ac-89e4-b39e914f417e",
   "metadata": {},
   "outputs": [],
   "source": [
    "verifier_keystore_name=\"verifier_ks\"\n",
    "\n",
    "verifier_keystore_passcode = exec(\"kli passcode generate\")\n",
    "\n",
    "verifier_keystore_salt = exec(\"kli salt\")\n",
    "# Alias for our non-transferable AID\n",
    "verifier_aid = \"verifier_aid\"\n",
    "\n",
    "# Initialize the keystore\n",
    "!kli init --name {verifier_keystore_name} --passcode {verifier_keystore_passcode} --salt {verifier_keystore_salt}\\\n",
    "    --config-dir ./config \\\n",
    "    --config-file keystore_init_config.json\n",
    "\n",
    "!kli incept --name {verifier_keystore_name} --alias {verifier_aid} --passcode {verifier_keystore_passcode} \\\n",
    "    --file ./config/aid_inception_config.json"
   ]
  },
  {
   "cell_type": "markdown",
   "id": "5e516355-75bc-4b5a-b44f-be1d668f87a9",
   "metadata": {},
   "source": [
    "### Holder/Verifier OOBI\n",
    "\n",
    "The Holder and the Verifier need to connect via oobi resolution"
   ]
  },
  {
   "cell_type": "code",
   "execution_count": null,
   "id": "e93fa97a-52d8-48ac-b2eb-f695b167bda5",
   "metadata": {},
   "outputs": [],
   "source": [
    "holder_oobi_gen = f\"kli oobi generate --name {holder_keystore_name} --alias {holder_aid} --passcode {holder_keystore_passcode} --role witness\"\n",
    "holder_oobi = exec(holder_oobi_gen)\n",
    "\n",
    "verifier_oobi_gen = f\"kli oobi generate --name {verifier_keystore_name} --alias {verifier_aid} --passcode {verifier_keystore_passcode} --role witness\"\n",
    "verifier_oobi = exec(verifier_oobi_gen)\n",
    "\n",
    "!kli oobi resolve --name {holder_keystore_name} --passcode {holder_keystore_passcode} --oobi-alias {verifier_aid} \\\n",
    "    --oobi {verifier_oobi}\n",
    "\n",
    "!kli oobi resolve --name {verifier_keystore_name} --passcode {verifier_keystore_passcode} --oobi-alias {holder_aid}\\\n",
    "    --oobi {holder_oobi}\n",
    "\n"
   ]
  },
  {
   "cell_type": "markdown",
   "id": "945baa5f-c4da-454a-889a-e41b7752d0cc",
   "metadata": {},
   "source": [
    "### Verifier resolve schema OOBI\n",
    "\n",
    "The verifier needs to resolve the schema"
   ]
  },
  {
   "cell_type": "code",
   "execution_count": null,
   "id": "1e425649-14f0-4641-aad3-b36471957d50",
   "metadata": {},
   "outputs": [],
   "source": [
    "!kli oobi resolve --name {verifier_keystore_name} --passcode {verifier_keystore_passcode} --oobi-alias {schema_oobi_alias}\\\n",
    "    --oobi {schema_oobi}"
   ]
  },
  {
   "cell_type": "markdown",
   "id": "bc4f48db-6131-43b0-b955-43c32e836f96",
   "metadata": {},
   "source": [
    "### Holder present Credential"
   ]
  },
  {
   "cell_type": "code",
   "execution_count": null,
   "id": "128c6fe2-5858-4ae1-9174-ccf434da5d13",
   "metadata": {},
   "outputs": [],
   "source": [
    "time = exec(\"kli time\")\n",
    "\n",
    "!kli ipex grant \\\n",
    "    --name {holder_keystore_name} \\\n",
    "    --passcode {holder_keystore_passcode} \\\n",
    "    --alias {holder_aid} \\\n",
    "    --said {credential_said} \\\n",
    "    --recipient {verifier_aid} \\\n",
    "    --time {time}"
   ]
  },
  {
   "cell_type": "markdown",
   "id": "445decdb-099c-43ac-81c0-6517e0485d61",
   "metadata": {},
   "source": [
    "### Verifier poll mailbox\n",
    "\n",
    "The verifier polls the mailbox expecting the ipex message with the credential presentation. And we retrieve the message said."
   ]
  },
  {
   "cell_type": "code",
   "execution_count": null,
   "id": "689e8f13-6472-4dad-869c-56239f3f0064",
   "metadata": {},
   "outputs": [],
   "source": [
    "get_ipex_said=f\"kli ipex list --name {verifier_keystore_name} --passcode {verifier_keystore_passcode} --alias {verifier_aid} --poll --said\"\n",
    "ipex_said=exec(get_ipex_said)\n",
    "\n",
    "print(ipex_said)"
   ]
  },
  {
   "cell_type": "markdown",
   "id": "ac184697-1f15-4d20-8895-1d599e0a5091",
   "metadata": {},
   "source": [
    "### Verifier display credential\n",
    "\n",
    "Use ipex list to check the received credential"
   ]
  },
  {
   "cell_type": "code",
   "execution_count": null,
   "id": "86d7376c-f608-4bee-aa5a-fe88adee6722",
   "metadata": {},
   "outputs": [],
   "source": [
    "!kli ipex list \\\n",
    "    --name {verifier_keystore_name} \\\n",
    "    --passcode {verifier_keystore_passcode} \\\n",
    "    --alias {verifier_aid} \\\n",
    "    --verbose"
   ]
  },
  {
   "cell_type": "markdown",
   "id": "cb7ff90f-1a7f-465e-917c-22197eb90e9b",
   "metadata": {},
   "source": [
    "### Verifier Admits credential\n",
    "\n",
    "The verirfier admits the message"
   ]
  },
  {
   "cell_type": "code",
   "execution_count": null,
   "id": "803a9ff4-6eb2-4675-9a58-07d1cab8cc60",
   "metadata": {},
   "outputs": [],
   "source": [
    "time = exec(\"kli time\")\n",
    "\n",
    "!kli ipex admit \\\n",
    "    --name {verifier_keystore_name} \\\n",
    "    --passcode {verifier_keystore_passcode} \\\n",
    "    --alias {verifier_aid} \\\n",
    "    --said {ipex_said} \\\n",
    "    --time {time}"
   ]
  },
  {
   "cell_type": "markdown",
   "id": "a1ec6eb3-8a87-4de5-9907-129c93f490e1",
   "metadata": {},
   "source": [
    "### Verifier check response\n",
    "\n",
    "And finally, check the response."
   ]
  },
  {
   "cell_type": "code",
   "execution_count": null,
   "id": "d8ddfd0a-14ee-44be-87ff-7111375399df",
   "metadata": {},
   "outputs": [],
   "source": [
    "!kli ipex list \\\n",
    "    --name {verifier_keystore_name} \\\n",
    "    --passcode {verifier_keystore_passcode} \\\n",
    "    --alias {verifier_aid} \\\n",
    "    --verbose"
   ]
  },
  {
   "cell_type": "markdown",
   "id": "e12486b7-43a8-4672-afca-0335cbf57334",
   "metadata": {},
   "source": [
    "## Credential revocation"
   ]
  },
  {
   "cell_type": "code",
   "execution_count": null,
   "id": "6310149a-f9a5-4e82-a84b-10f90ec664c8",
   "metadata": {},
   "outputs": [],
   "source": [
    "!kli vc revoke --name {issuer_keystore_name} --passcode {issuer_keystore_passcode} \\\n",
    "    --alias {issuer_aid} \\\n",
    "    --registry-name {issuer_registry_name} \\\n",
    "    --said {credential_said} \\\n",
    "    --time {time}"
   ]
  },
  {
   "cell_type": "code",
   "execution_count": null,
   "id": "bd7f6b8a-1519-4919-a9ee-b27b513254a8",
   "metadata": {},
   "outputs": [],
   "source": [
    "!kli vc list --name {issuer_keystore_name} --passcode {issuer_keystore_passcode} \\\n",
    "    --alias {issuer_aid} \\\n",
    "    -i"
   ]
  },
  {
   "cell_type": "code",
   "execution_count": null,
   "id": "0f4562cb-7cc3-4962-8ebf-2bd3753fb59a",
   "metadata": {},
   "outputs": [],
   "source": []
  }
 ],
 "metadata": {
  "kernelspec": {
   "display_name": "Python 3 (ipykernel)",
   "language": "python",
   "name": "python3"
  },
  "language_info": {
   "codemirror_mode": {
    "name": "ipython",
    "version": 3
   },
   "file_extension": ".py",
   "mimetype": "text/x-python",
   "name": "python",
   "nbconvert_exporter": "python",
   "pygments_lexer": "ipython3",
   "version": "3.12.9"
  }
 },
 "nbformat": 4,
 "nbformat_minor": 5
}
