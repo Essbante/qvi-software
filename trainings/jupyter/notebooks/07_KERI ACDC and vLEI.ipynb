{
 "cells": [
  {
   "cell_type": "markdown",
   "id": "e44a80fd-2606-4e1f-96cd-fb12db478ec3",
   "metadata": {
    "editable": true,
    "slideshow": {
     "slide_type": ""
    },
    "tags": []
   },
   "source": [
    "# Introduction to KERI, ACDC, and vLEI\n",
    "\n",
    "**Objective —** This notebook provides a high-level overview of three foundational concepts we'll be exploring: the KERI protocol for secure identifiers, the ACDC protocol for verifiable credentials built upon KERI, and the GLEIF vLEI ecosystem, which applies these technologies to organizational identity. Consider this a starting point; we'll dive into the details, practical examples, and specific commands in the notebooks that follow.\n",
    "\n",
    "## The KERI Protocol\n",
    "\n",
    "**KERI** stands for **Key Event Receipt Infrastructure**. It's a decentralized key management infrastructure (DKMI) designed to provide a secure identity layer for the internet, focusing on establishing trust through cryptographic proof rather than relying solely on centralized authorities.\n",
    "\n",
    "**Core Ideas:**\n",
    "\n",
    "* **Autonomic Identifiers (AIDs):** KERI's foundation is built on self-certifying identifiers called AIDs. These identifiers are generated from and cryptographically bound to key pairs controlled by an entity, eliminating the need for a central registration authority for the identifier itself.\n",
    "* **Key Event Logs (KELs):** Each AID has an associated KEL, which is a secure, append-only log of signed \"key events\" (like identifier creation, key rotation, etc.). This log provides a verifiable history, or provenance, of the control over the AID. Anyone can verify the current authoritative keys for an AID by processing its KEL.\n",
    "* **End-Verifiability:** KERI emphasizes that control and events can be verified by anyone, anywhere, using only the KEL, without trusting intermediaries.\n",
    "* **Witnesses:** For high availability and resilience, controllers can designate witnesses who receive, verify, receipt, and store key events, making the KEL accessible even when the controller is offline.\n",
    "\n",
    "KERI provides a universal, secure, and decentralized way to create identifiers, manage their cryptographic keys over time, and prove control history.\n",
    "\n",
    "## The ACDC Protocol\n",
    "\n",
    "**ACDC** stands for **Authentic Chained Data Container**. It is KERI's implementation of Verifiable Credentials (VCs), designed to work seamlessly within the KERI ecosystem.\n",
    "\n",
    "**Core Ideas:**\n",
    "\n",
    "* **Verifiable Credentials:** ACDCs are digital containers for claims or attributes (like a name, role, or authorization) that are issued by one KERI identity (AID) to another.\n",
    "* **Built on KERI:** ACDCs leverage KERI AIDs for identifying issuers and recipients. The validity and status (issued, revoked) of an ACDC are anchored to the issuer's KERI Key Event Log (KEL) through a secondary log called a Transaction Event Log (TEL).\n",
    "* **Schemas & SAIDs:** Each ACDC conforms to a specific Schema, which defines its structure and data types. Both the schema and the ACDC instance itself are identified using SAIDs (Self-Addressing Identifiers) making them tamper-evident.\n",
    "* **Chaining (Edges):** ACDCs can be cryptographically linked together using \"edges,\" forming verifiable chains or graphs of evidence (e.g., an approval credential linking back to the request credential).\n",
    "* **Rules:** ACDCs can optionally include embedded machine-readable rules or legal prose (like Ricardian Contracts).\n",
    "* **Isuance and presentation protocols**: 🚧 \n",
    "\n",
    "ACDC provides a standardized way to issue, hold, and verify tamper-evident, digital credentials whose authenticity and status are rooted in the KERI protocol.\n",
    "\n",
    "## GLEIF vLEI Ecosystem and QVI Workflow\n",
    "\n",
    "The **verifiable Legal Entity Identifier (vLEI)** is a system pioneered by the Global Legal Entity Identifier Foundation (GLEIF) to create a secure, digitized version of the traditional LEI used for organizational identity. It aims to enable automated authentication and verification of organizations globally.\n",
    "\n",
    "**Core Ideas:**\n",
    "\n",
    "* **Digital Counterpart to LEI:** The vLEI acts as a digitally trustworthy representation of an organization's LEI code, enabling automated verification.\n",
    "* **Built on KERI/ACDC:** The vLEI infrastructure is built using the KERI protocol and represents vLEI credentials as ACDCs. This leverages KERI's security and ACDC's verifiable credential format.\n",
    "* **Trust Chain / Ecosystem:** The vLEI system establishes a chain of trust:\n",
    "    * **GLEIF (Root of Trust):** GLEIF operates as the root of the ecosystem, managing its own KERI AID.\n",
    "    * **Qualified vLEI Issuers (QVIs):** GLEIF uses its KERI identity to issue credentials (delegate authority) to a trusted network of QVIs.\n",
    "    * **Organizations:** QVIs are qualified to issue vLEI credentials (representing the organization's identity) to legal entities.\n",
    "    * **Organizational Roles:** An organization holding a vLEI can then issue specific **vLEI Role Credentials** to individuals representing the organization in official or functional capacities (e.g., CEO, authorized signatory, supplier). These role credentials cryptographically bind the person's identity in that role to the organization's vLEI.\n",
    "* **QVI Workflow:** The workflow centrally involves the QVIs. GLEIF qualifies these issuers. A QVI interacts with an organization to verify its identity information (linked to its traditional LEI) and then uses its delegated authority from GLEIF to issue the organization its primary vLEI credential. This QVI issuance step is crucial for establishing the organization's verifiable digital identity within the ecosystem.\n",
    "\n",
    "The vLEI ecosystem uses KERI and ACDC to extend the existing LEI system into the digital realm, creating a globally verifiable system for organizational identity and the roles individuals hold within those organizations, all anchored back to GLEIF as the root of trust."
   ]
  },
  {
   "cell_type": "markdown",
   "id": "add2bf52-f806-42f0-9d8b-758def0ac808",
   "metadata": {
    "editable": true,
    "slideshow": {
     "slide_type": ""
    },
    "tags": []
   },
   "source": [
    "<div class=\"alert alert-prymary\">\n",
    "  <b>📝 SUMMARY</b><hr>\n",
    "    KERI provides the secure foundation for decentralized identifiers and key management. ACDC builds upon KERI to enable the creation and exchange of verifiable credentials. The vLEI ecosystem is a specific, large-scale application that leverages KERI and ACDC to create verifiable digital identities for organizations worldwide.\n",
    "</div>"
   ]
  }
 ],
 "metadata": {
  "kernelspec": {
   "display_name": "",
   "name": ""
  },
  "language_info": {
   "name": ""
  }
 },
 "nbformat": 4,
 "nbformat_minor": 5
}
