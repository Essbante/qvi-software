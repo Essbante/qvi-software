{
 "cells": [
  {
   "cell_type": "markdown",
   "id": "9405b315-12ee-4b4a-a3af-192b6531b252",
   "metadata": {
    "editable": true,
    "jp-MarkdownHeadingCollapsed": true,
    "slideshow": {
     "slide_type": ""
    },
    "tags": []
   },
   "source": [
    "# Controllers and Identifiers\n",
    "\n",
    "Before we dive into creating identifiers and doing operations with the KLI, let's understand two fundamental concepts: **Identifiers** and the **Controller**.\n",
    "\n",
    "**What is an Identifier?**\n",
    "\n",
    "In a general sense, an identifier is a name, label, symbol, or sequence of characters used to uniquely identify a specific person, object, idea, class, piece of data, or process within a given system or context. Identifiers are useful to assign claims to something or to locate a resource. Common examples of identifiers are domain names, an email, an ID Number, and so on.\n",
    "\n",
    "In KERI the identifiers are called **Autonomic Identifier (AID)**. Here's what makes them different:\n",
    "- **Cryptographically Bound Control:** AIDs are linked to one or more cryptographic key pairs (public/private) from their moment of creation; this binding forms the basis of their security and allows the holder of the private key(s) to control the identifier and prove that control through digital signatures.\n",
    "- **Universally Unique:** Like standard UUIDs, AIDs are designed to be globally unique without needing a central issuing authority, thanks to their cryptographic foundation.  \n",
    "- **Self-Managed:** Unlike traditional identifiers (like usernames or domain names) that rely on central administrators or registries, an AID is managed directly by its owner(s) — known as the Controller — through cryptographic means (specifically, their private keys).   \n",
    "- **Self-Certifying:** An AID inherently proves its own authenticity. Its validity stems directly from its cryptographic link to its controlling keys, established at its creation, not from an external authority vouching for it.   \n",
    "- **Control Over Time:** AIDs are designed for persistent control. The identifier's control history is maintained in a verifiable key event log (KEL), allowing keys to be rotated (changed) securely over time without abandoning the identifier itself, even if old keys are compromised.   \n",
    "- **Authenticates & Authorizes:** The cryptographic nature of an AID allows its Controller to prove their control (authenticate) directly and grant permissions (authorize actions or access related to the AID) without needing a third-party system.\n",
    "- **Multi-Signature Control (Multisig):** An AID doesn't have to be controlled by just one Controller. KERI supports configurations where multiple key pairs (held by one or multiple Controllers) are required to authorize changes. This can involve needing a specific number of signatures (e.g., 3 out of 5) or advanced weighted threshold multi-signature schemes.   \n",
    "- **Secure Key Rotation (Pre-rotation):** When control keys need to be changed (rotated), KERI uses a highly secure \"pre-rotation\" method. In the current rotation event, a secure commitment is made to the next set of keys (hiding the actual public keys using a hash). This means the private keys for the next rotation remain unexposed and secure until they are actually needed, protecting the rotation process itself from being hijacked even if the current keys are compromised.   \n",
    "- **Delegation of Authority:** A Controller of one AID can securely grant specific, often limited or revokable, authority to another AID (a delegate).\n",
    "\n",
    "Don't worry if these features raise many questions right now. We will explain the 'how' behind them gradually in the sections to come.\n",
    "\n",
    "**What is a Controller?**\n",
    "\n",
    "In KERI, the Controller is the entity that holds the private cryptographic key(s) associated with an Autonomic Identifier and is therefore responsible for managing it. This possession of the private key(s) is the source of its authority and control over the AID.   \n",
    "\n",
    "A Controller may be a person. But it can also be:   \n",
    "- An individual managing their own digital identity.\n",
    "- An organization managing its official identifier.\n",
    "- An autonomous piece of software or device managing its own identifier.\n",
    "- An autonomous piece of software acting on behalf of someone else.   \n",
    "- A group managing a shared identifier via multi-signature schemes.\n",
    "\n",
    "There may be other scenarios that define the Controller; the relevant aspect is that it is an entity with access to the AID private keys and the capacity to use them.\n",
    "\n",
    "While the Controller holds authority over the AID, it relies on software to operate and maintain it. In this training, you’ll be using the KLI as the Controller’s tool for interacting with and managing AIDs.\n",
    "\n",
    "**The Key Event Log (KEL)**\n",
    "\n",
    "The Controller's authority isn't just a claim; it's proven using cryptography. Controllers possess the private keys associated with their AID. They use these keys to sign messages and authorize actions. Every significant action taken by a Controller regarding their AID – like creating it (inception), changing its keys (rotation), or other interactions – is recorded as a **Key Event**.\n",
    "\n",
    "These Key Events are stored sequentially in a **Key Event Log (KEL)**. Think of the KEL as the official history book for an AID. Here are some details about the KEL\n",
    "\n",
    "* It starts with the AID's \"birth certificate\" – the **Inception Event**.\n",
    "* Every subsequent authorized change (like a key rotation) is added as a new entry, cryptographically linked to the previous one.\n",
    "* Anyone can potentially view the KEL to verify the AID's history and current state, but only the Controller(s) can add new, valid events to it.\n",
    "* There may be multiple copies of a KEL; they can be distributed across a network of witnesses, a concept we will dive deeper into later.\n",
    "\n",
    "**Advanced Forms of Control**\n",
    "\n",
    "Control in KERI can be quite nuanced. While the Controller ultimately holds authority, they can sometimes grant specific permissions to others:\n",
    "\n",
    "* **Signing vs. Rotation Authority**: A Controller might keep the power to change the AID's keys (rotation authority) but allow another entity (a \"custodian\") to perform more routine actions like signing messages (signing authority).\n",
    "* **Delegation**: A Controller can grant some level of authority to a completely separate Delegated Identifier. This allows for creating hierarchies and complex organizational structures.\n",
    "\n",
    "We'll explore these advanced concepts like delegation and multi-sig configurations in later sections.\n",
    "\n",
    "<div class=\"alert alert-prymary\">\n",
    "  <b>📝 SUMMARY</b><hr>\n",
    "    Understanding the Controller is key to understanding KERI. It's the entity that uses cryptographic keys to authorize Key Events, building the KEL and managing the lifecycle of an Autonomic Identifier.</br></br>   \n",
    "<b>Key Terms Recap:</b>\n",
    "    <ul>\n",
    "        <li><b>Controller</b> The entity (person, organization, software) with the authority to manage an AID.\n",
    "        <li><b>Key Event</b> A signed record of a significant change or action related to an AID (e.g., inception, rotation).\n",
    "        <li><b>Key Event Log (KEL)</b> The secure, ordered, append-only list of all Key Events for an AID, forming its verifiable history.\n",
    "    </ul>\n",
    "</div>"
   ]
  }
 ],
 "metadata": {
  "kernelspec": {
   "display_name": "Python 3 (ipykernel)",
   "language": "python",
   "name": "python3"
  },
  "language_info": {
   "codemirror_mode": {
    "name": "ipython",
    "version": 3
   },
   "file_extension": ".py",
   "mimetype": "text/x-python",
   "name": "python",
   "nbconvert_exporter": "python",
   "pygments_lexer": "ipython3",
   "version": "3.12.9"
  }
 },
 "nbformat": 4,
 "nbformat_minor": 5
}
