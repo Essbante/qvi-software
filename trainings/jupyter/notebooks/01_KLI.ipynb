{
 "cells": [
  {
   "cell_type": "code",
   "execution_count": 1,
   "id": "8c3f5bbd-590d-469b-9259-90b5c0199213",
   "metadata": {
    "editable": true,
    "jupyter": {
     "source_hidden": true
    },
    "slideshow": {
     "slide_type": ""
    },
    "tags": []
   },
   "outputs": [],
   "source": [
    "# Imports and Utility functions\n",
    "import subprocess\n",
    "\n",
    "def clear_keri():\n",
    "    path = \"/usr/local/var/keri/\"\n",
    "    confirm = input(\"🚨 This will clear your keystore. Are you sure? (y/n): \")\n",
    "    if confirm.lower() == \"y\":\n",
    "        print(\"Proceeding...\")\n",
    "        try:\n",
    "            subprocess.run([\"rm\", \"-rf\", path], check=True)\n",
    "            print(f\"✅ Successfully removed: {path}\")\n",
    "        except subprocess.CalledProcessError as e:\n",
    "            print(f\"❌ Error removing {path}: {e}\")\n",
    "    else:\n",
    "        print(\"Operation cancelled.\")"
   ]
  },
  {
   "cell_type": "markdown",
   "id": "2ac4ea9a-d21e-4950-8885-30d28f560cee",
   "metadata": {
    "editable": true,
    "slideshow": {
     "slide_type": ""
    },
    "tags": []
   },
   "source": [
    "# KERI Command Line Interface (KLI)\n",
    "\n",
    "Throughout these notebooks, we will interact with the KERI protocol using the **KLI (KERI Command Line Interface)**. The KLI is the standard text-based tool for managing identitifiers and infrastructure directly from your computer's terminal.\n",
    "\n",
    "**How we'll use KLI in Notebooks?**\n",
    "\n",
    "Since we are working within Jupyter notebooks, we will execute KLI commands by prefixing them with an exclamation mark (`!`). This tells the notebook environment to run the command in the underlying system shell, rather than as Python code. So, you'll frequently see commands structured like this:\n",
    "\n",
    "`!kli <command> [options]`  \n",
    "\n",
    "**What can you do with KLI?**\n",
    "\n",
    "The KLI provides a wide range of functionalities. Key capabilities you'll encounter or should be aware of include:\n",
    "- **Core Identity Management:** Creating your identifiers, managing their cryptographic keys, and checking an identifier's history.\n",
    "- **Advanced Identifier Operations:** Participating in more complex setups, such as identifiers with delegated authority or those requiring multiple signatures to authorize actions.\n",
    "- **Infrastructure Operations:** Running essential KERI components like witnesses and watchers. (We will cover witnesses and watchers in more detail later).\n",
    "- **Organized Control via Keystores:** Most KLI commands require you to specify a `--name` parameter. This refers to a Keystore, which acts like a dedicated profile containing the specific keys and configuration for the identifier you want that command to manage.\n",
    "\n"
   ]
  },
  {
   "cell_type": "markdown",
   "id": "bbcd7aae-da03-4467-a47c-853b5952a995",
   "metadata": {
    "editable": true,
    "slideshow": {
     "slide_type": ""
    },
    "tags": []
   },
   "source": [
    "## Basic Utility Commands\n",
    "Here are a few simple KLI commands you can run to get basic information or generate useful values:\n",
    "\n",
    "**Check KLI Version:** See which version of the KLI tool you are using."
   ]
  },
  {
   "cell_type": "code",
   "execution_count": 16,
   "id": "bf668848-930f-4042-a524-b21378180eb1",
   "metadata": {
    "editable": true,
    "slideshow": {
     "slide_type": ""
    },
    "tags": []
   },
   "outputs": [
    {
     "name": "stdout",
     "output_type": "stream",
     "text": [
      "Library version: 1.1.32\n"
     ]
    }
   ],
   "source": [
    "!kli version"
   ]
  },
  {
   "cell_type": "markdown",
   "id": "519e873d-f81d-4c7d-8be5-d2caafdcca80",
   "metadata": {
    "editable": true,
    "slideshow": {
     "slide_type": ""
    },
    "tags": []
   },
   "source": [
    "**Generate a Salt:** Create a new random salt. A salt (specifically, a qualified base64 salt in KERI) is a random value used as an input when generating cryptographic key pairs to help ensure their uniqueness and security."
   ]
  },
  {
   "cell_type": "code",
   "execution_count": 19,
   "id": "5a7fc70a-e0c1-44d5-aa5d-8b48985041b1",
   "metadata": {
    "editable": true,
    "slideshow": {
     "slide_type": ""
    },
    "tags": []
   },
   "outputs": [
    {
     "name": "stdout",
     "output_type": "stream",
     "text": [
      "0ABfWAzmekmz5zhCEn9JVwTV\n"
     ]
    }
   ],
   "source": [
    "# This will output a qualified base64 string representing the salt\n",
    "!kli salt"
   ]
  },
  {
   "cell_type": "markdown",
   "id": "48e99e59-22b4-4938-b68d-0be81115b801",
   "metadata": {
    "editable": true,
    "slideshow": {
     "slide_type": ""
    },
    "tags": []
   },
   "source": [
    "**Generate a Passcode:** Create a new random passcode. This passcode is used to encrypt your keystore, providing an additional layer of protection."
   ]
  },
  {
   "cell_type": "code",
   "execution_count": 20,
   "id": "578f8c15-4b46-4c51-bb09-3a9eb97f5b42",
   "metadata": {
    "editable": true,
    "slideshow": {
     "slide_type": ""
    },
    "tags": []
   },
   "outputs": [
    {
     "name": "stdout",
     "output_type": "stream",
     "text": [
      "WhFVkiBuMdG3LWvB7yNnz\n"
     ]
    }
   ],
   "source": [
    "# This will output a random string suitable for use as an encryption passcode\n",
    "!kli passcode generate"
   ]
  },
  {
   "cell_type": "markdown",
   "id": "94fd6f8c-7747-4b64-a05f-353bc98c1221",
   "metadata": {
    "editable": true,
    "slideshow": {
     "slide_type": ""
    },
    "tags": []
   },
   "source": [
    "## Creating a Keystore\n",
    "\n",
    "Before you can create identifiers or perform many other actions with KLI, you need a keystore, an encrypted data store that holds the private keys for your identifiers. To initialize a keystore, you give it a name, protect it with a passcode, and provide a salt for generating the keys.\n",
    "\n",
    "The command to do this is `kli init`. Here's an example:\n"
   ]
  },
  {
   "cell_type": "code",
   "execution_count": 21,
   "id": "094f9e78-a8a7-4859-920b-1ec7338e9b6f",
   "metadata": {
    "editable": true,
    "slideshow": {
     "slide_type": ""
    },
    "tags": []
   },
   "outputs": [
    {
     "name": "stdout",
     "output_type": "stream",
     "text": [
      "KERI Keystore created at: /usr/local/var/keri/ks/my-first-key-store\n",
      "KERI Database created at: /usr/local/var/keri/db/my-first-key-store\n",
      "KERI Credential Store created at: /usr/local/var/keri/reg/my-first-key-store\n",
      "\taeid: BD-1udeJaXFzKbSUFb6nhmndaLlMj-pdlNvNoN562h3z\n"
     ]
    }
   ],
   "source": [
    "# Choose a name for your keystore\n",
    "keystore_name=\"my-first-key-store\"\n",
    "# Use a strong, randomly generated passcode ( from 'kli passcode generate')\n",
    "keystore_passcode=\"xSLg286d4iWiRg2mzGYca\"\n",
    "# Use a random salt (from 'kli salt')\n",
    "salt=\"0ABeuT2dErMrqFE5Dmrnc2Bq\"\n",
    "\n",
    "!kli init --name {keystore_name} --passcode {keystore_passcode} --salt {salt}"
   ]
  },
  {
   "cell_type": "markdown",
   "id": "c480ca8c-5419-4b2b-b269-de5590203772",
   "metadata": {
    "editable": true,
    "slideshow": {
     "slide_type": ""
    },
    "tags": []
   },
   "source": [
    "This command sets up the necessary file structures for your Keystore, ready for you to create and manage Identifiers within it. It creates the keystore, the database, and the credential store.  \n",
    "\n",
    "<div class=\"alert alert-info\">\n",
    "  <b>ℹ️ NOTE:</b><hr>\n",
    "    <li>Depending on the context, the Keystore may also be referred to as a Habitat or Habery.</li> \n",
    "    <li>A Habery is a collection of Habs, a Hab is a keystore for one identifier.</li>\n",
    "</div>\n",
    "\n",
    "<div class=\"alert alert-info\">\n",
    "  <b>💡 TIP:</b><hr>\n",
    "    <li>If you run <code>clear_keri()</code>, the keystore, database, and credential store directories are deleted.</li>  \n",
    "    <li>This function is provided as an utility to clean your data for testing purposes.</li>\n",
    "</div>\n",
    "\n"
   ]
  },
  {
   "cell_type": "markdown",
   "id": "df1a0f22-3d58-4a1b-85bf-6e99cfd13dc7",
   "metadata": {
    "editable": true,
    "slideshow": {
     "slide_type": ""
    },
    "tags": []
   },
   "source": [
    "<div class=\"alert alert-success\">\n",
    "  <b>🧠 EXERCISE:</b><hr>\n",
    "    <li>Initializing a new keystore using the <code>kli passcode generate, kli salt, and kli init</code> command as shown above.</li> \n",
    "    <li>Then use commands <code>TBD</code> to change the passcode</li>\n",
    "</div>"
   ]
  },
  {
   "cell_type": "markdown",
   "id": "24b2ec13-1b01-4b66-be6c-365bd9240595",
   "metadata": {
    "editable": true,
    "slideshow": {
     "slide_type": ""
    },
    "tags": []
   },
   "source": [
    "Let's create an identifier  \n",
    "note the parameters:\n",
    "`--icount 1 --isith 1 --ncount 1 --nsith 1 --toad 1`  \n",
    "they will be explained later on section TBD\n",
    "\n",
    "\n",
    "The relationship is straightforward: **The Prefix *is* the specific, encoded representation of an Autonomic Identifier (AID) in KERI.**\n",
    "\n",
    "Here's the breakdown:\n",
    "\n",
    "1.  **AID is the Concept:** An Autonomic Identifier (AID) is a type of identifier defined by its properties: it's self-managing (you control it without a central authority) and, crucially, **self-certifying** (meaning the identifier itself contains the information needed to verify its authenticity, typically the public key).\n",
    "\n",
    "2.  **Prefix is the Encoding:** The **Prefix** is how an AID is actually written down or represented as a string of text. The prefix is constructed by combining:\n",
    "    * A **Derivation Code** (how the key was made)\n",
    "    * The **Encoded Public Key**\n",
    "\n",
    "3.  **Connecting the Two:** An AID *must* be self-certifying. The Prefix achieves this requirement because it directly includes the encoded public key within the identifier string itself. This allows anyone who sees the prefix (the AID) to extract the public key and verify signatures or authenticate the identifier directly, without needing to look it up elsewhere.\n",
    "\n",
    "**In simple terms:**\n",
    "\n",
    "* Think of the **AID** as the *idea* of a secure, self-managed digital identifier.\n",
    "* Think of the **Prefix** as the *actual text string* you use to represent that AID, whose structure (including the public key) makes the AID's self-certifying property possible.\n",
    "\n"
   ]
  },
  {
   "cell_type": "code",
   "execution_count": 14,
   "id": "8ba50597-a461-4d0b-8f8d-b462798a1e68",
   "metadata": {
    "editable": true,
    "slideshow": {
     "slide_type": ""
    },
    "tags": []
   },
   "outputs": [
    {
     "name": "stdout",
     "output_type": "stream",
     "text": [
      "ERR: Already incepted pre=BKJTXe_SbMEczrFBrv5Mi4Zn-l436AMW6pr2lw35l9TZ.\n"
     ]
    }
   ],
   "source": [
    "AID_alias = \"prefix\"\n",
    "!kli incept --name {keystore_name} --alias {AID_alias} --passcode {keystore_passcode} --icount 1 --isith 1 --ncount 1 --nsith 1 --toad 0"
   ]
  },
  {
   "cell_type": "code",
   "execution_count": 13,
   "id": "4f68a63c-7eea-4cc2-b4bd-603a61cf02c3",
   "metadata": {
    "editable": true,
    "slideshow": {
     "slide_type": ""
    },
    "tags": []
   },
   "outputs": [
    {
     "name": "stdout",
     "output_type": "stream",
     "text": [
      "Keystore must already exist, exiting\n"
     ]
    }
   ],
   "source": [
    "!kli list --name {keystore} --passcode {passcode}"
   ]
  },
  {
   "cell_type": "code",
   "execution_count": 8,
   "id": "90541500-f900-4cef-b878-5dd9afa4bc35",
   "metadata": {
    "editable": true,
    "slideshow": {
     "slide_type": ""
    },
    "tags": []
   },
   "outputs": [
    {
     "name": "stdout",
     "output_type": "stream",
     "text": [
      "Keystore must already exist, exiting\n"
     ]
    }
   ],
   "source": [
    "!kli status --name {keystore} --passcode {passcode} --alias AID_alias"
   ]
  },
  {
   "cell_type": "code",
   "execution_count": 9,
   "id": "cf1b6407-c426-44cf-8d21-d31650fa0a5e",
   "metadata": {
    "editable": true,
    "slideshow": {
     "slide_type": ""
    },
    "tags": []
   },
   "outputs": [
    {
     "name": "stdout",
     "output_type": "stream",
     "text": [
      "usage: kli status [-h] --name NAME [--base BASE] [--alias ALIAS]\n",
      "                  [--passcode BRAN] [--verbose]\n",
      "\n",
      "View status of a local AID\n",
      "\n",
      "options:\n",
      "  -h, --help            show this help message and exit\n",
      "  --name NAME, -n NAME  keystore name and file location of KERI keystore\n",
      "  --base BASE, -b BASE  additional optional prefix to file location of KERI\n",
      "                        keystore\n",
      "  --alias ALIAS, -a ALIAS\n",
      "                        human readable alias for the new identifier prefix\n",
      "  --passcode BRAN, -p BRAN\n",
      "                        22 character encryption passcode for keystore (is not\n",
      "                        saved)\n",
      "  --verbose, -V         print JSON of all current events\n"
     ]
    }
   ],
   "source": [
    "!kli status -h"
   ]
  },
  {
   "cell_type": "code",
   "execution_count": 10,
   "id": "6475d740-2631-4076-8d75-a2161795a609",
   "metadata": {
    "editable": true,
    "slideshow": {
     "slide_type": ""
    },
    "tags": []
   },
   "outputs": [
    {
     "name": "stdin",
     "output_type": "stream",
     "text": [
      "🚨 This will clear your keystore. Are you sure? (y/n):  y\n"
     ]
    },
    {
     "name": "stdout",
     "output_type": "stream",
     "text": [
      "Proceeding...\n",
      "✅ Successfully removed: /usr/local/var/keri/\n"
     ]
    }
   ],
   "source": [
    "clear_keri()"
   ]
  }
 ],
 "metadata": {
  "kernelspec": {
   "display_name": "Python 3 (ipykernel)",
   "language": "python",
   "name": "python3"
  },
  "language_info": {
   "codemirror_mode": {
    "name": "ipython",
    "version": 3
   },
   "file_extension": ".py",
   "mimetype": "text/x-python",
   "name": "python",
   "nbconvert_exporter": "python",
   "pygments_lexer": "ipython3",
   "version": "3.12.9"
  }
 },
 "nbformat": 4,
 "nbformat_minor": 5
}
