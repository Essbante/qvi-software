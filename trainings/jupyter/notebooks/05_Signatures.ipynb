{
 "cells": [
  {
   "cell_type": "code",
   "execution_count": 1,
   "id": "124aca46-29b0-46a2-bd69-1e5b141498ca",
   "metadata": {
    "editable": true,
    "jupyter": {
     "source_hidden": true
    },
    "slideshow": {
     "slide_type": ""
    },
    "tags": []
   },
   "outputs": [],
   "source": [
    "# Imports and Utility functions\n",
    "import subprocess\n",
    "\n",
    "def clear_keri():\n",
    "    path = \"/usr/local/var/keri/\"\n",
    "    confirm = input(\"🚨 This will clear your keystore. Are you sure? (y/n): \")\n",
    "    if confirm.lower() == \"y\":\n",
    "        print(\"Proceeding...\")\n",
    "        try:\n",
    "            subprocess.run([\"rm\", \"-rf\", path], check=True)\n",
    "            print(f\"✅ Successfully removed: {path}\")\n",
    "        except subprocess.CalledProcessError as e:\n",
    "            print(f\"❌ Error removing {path}: {e}\")\n",
    "    else:\n",
    "        print(\"Operation cancelled.\")"
   ]
  },
  {
   "cell_type": "markdown",
   "id": "3f3fbf48-660b-4224-bb0e-c7a67c4a9470",
   "metadata": {},
   "source": [
    "# Signatures\n",
    "\n",
    "Having explored KERI Identifiers (AIDs) and their management, we now focus on digital signatures. This section explains what digital signatures are, their crucial properties, and how they operate within KERI.\n",
    "\n",
    "## What is a Digital Signature?\n",
    "\n",
    "A digital signature is a cryptographic mechanism used to provide assurance about the authenticity and integrity of digital data. It serves a similar purpose to a handwritten signature but offers significantly stronger guarantees through cryptography.\n",
    "\n",
    "The process generally involves three stages:\n",
    "\n",
    "1.  **Signing:**\n",
    "    * The signer (e.g., an AID Controller in KERI) takes the information they want to sign.\n",
    "    * They first create a condensed representation of the information, known as a hash.\n",
    "    * Using their unique private signing key, they apply a signing algorithm to this hash. The result is the digital signature.\n",
    "    * Only someone possessing the private key can generate a valid signature for that key.\n",
    "\n",
    "2.  **Attaching:**\n",
    "    * The generated signature is typically attached to the original information.\n",
    "\n",
    "3.  **Verification:**\n",
    "    * Anyone receiving the information and signature can verify its validity using the signer's corresponding public key.\n",
    "    * The verifier applies a verification algorithm using the original information, the signature, and the public key.\n",
    "    * This algorithm checks if the signature correctly corresponds to the information and the provided public key.\n",
    "    * **Outcome:**\n",
    "        * **Valid Signature:** If the algorithm accepts, the verifier has high confidence in the information's authenticity and integrity.\n",
    "        * **Invalid Signature:** If the algorithm rejects, the information may have been tampered with, the signature might be corrupt, or the legitimate holder of the private key didn't generate it.\n",
    "\n",
    "Successful verification confirms:\n",
    "\n",
    "* **Authenticity:** The information originated from the owner of the key pair.\n",
    "* **Integrity:** The information has not been altered since it was signed.\n",
    "\n",
    "## Non-Repudiation\n",
    "\n",
    "Digital signatures provide non-repudiation. This means the signer cannot credibly deny having signed the information once a valid signature is verified using their public key. Because generating the signature requires the private key (which should be kept secret by the owner), a valid signature serves as strong evidence of the signer's action.\n",
    "\n",
    "## Signatures and Verification Specific to KERI\n",
    "\n",
    "In KERI, digital signatures are fundamental for establishing trust and verifying the authenticity of Key Events and other interactions associated with an AID. They cryptographically link actions and data back to the identifier's controlling keys.\n",
    "\n",
    "While the verification algorithm is standard, the key challenge for a Verifier in KERI is obtaining the correct public key(s) that were authoritative for the AID at the time the information was signed.\n",
    "\n",
    "The Verifier must perform these steps:\n",
    "\n",
    "1.  **Identify the Authoritative Public Key(s):**\n",
    "    * For an AID's inception event, the initial public key(s) are derived directly from the AID Prefix itself (leveraging KERI's self-certifying nature).\n",
    "    * For subsequent events (like rotations or interactions), the Verifier must consult the AID's Key Event Log. The KEL provides the history of key changes, allowing the Verifier to determine which public key(s) were valid at the specific point in time the event or message was signed.\n",
    "\n",
    "2.  **Perform Cryptographic Verification:**\n",
    "    * Once the correct public key(s) are identified, the Verifier uses them, along with the received data and signature, in the standard cryptographic verification algorithm (as described earlier).\n",
    "\n",
    "This reliance on the KEL to track key state over time is crucial for maintaining the security of interactions with KERI identifiers long after their initial creation."
   ]
  },
  {
   "cell_type": "markdown",
   "id": "20eb1045-fb88-4697-8574-bfde0cd7ea17",
   "metadata": {},
   "source": [
    "<div class=\"alert alert-info\">\n",
    "  <b>ℹ️ NOTE</b><hr>\n",
    "    There's a subtle difference between a <b>Verifier</b> (who checks cryptographic correctness according to KERI rules) and a <b>Validator</b> (who might perform broader checks, including business logic, and broader trust policies in addition to verification). In KERI discussions, \"Verifier\" typically emphasizes the cryptographic checks.\n",
    "</div>"
   ]
  },
  {
   "cell_type": "markdown",
   "id": "5853d8d5-c70c-46a1-8838-819dec402aa3",
   "metadata": {},
   "source": [
    "## Practical Example: Signing and Verifying with KLI\n",
    "\n",
    "Let's see how signing and verification work using the KLI commands.\n",
    "\n",
    "### Setup Keystore and Identifier\n",
    "\n",
    "First, we need a keystore and an identifier."
   ]
  },
  {
   "cell_type": "code",
   "execution_count": 25,
   "id": "fdec5bda-4544-438e-a629-98a9de05cbff",
   "metadata": {
    "editable": true,
    "slideshow": {
     "slide_type": ""
    },
    "tags": []
   },
   "outputs": [
    {
     "name": "stdout",
     "output_type": "stream",
     "text": [
      "KERI Keystore created at: /usr/local/var/keri/ks/signature-key-store\n",
      "KERI Database created at: /usr/local/var/keri/db/signature-key-store\n",
      "KERI Credential Store created at: /usr/local/var/keri/reg/signature-key-store\n",
      "\taeid: BD-1udeJaXFzKbSUFb6nhmndaLlMj-pdlNvNoN562h3z\n",
      "ERR: Already incepted pre=BLj9982ny88YokEFdjiyUKAQ4Gavy0EMdNBLQmllGfDA.\n"
     ]
    }
   ],
   "source": [
    "keystore_name=\"signature-key-store\"\n",
    "keystore_passcode=\"xSLg286d4iWiRg2mzGYca\"\n",
    "salt=\"0ABeuT2dErMrqFE5Dmrnc2Bq\"\n",
    "aid_alias = \"aid-sign55555\"\n",
    "\n",
    "!kli init --name {keystore_name} --passcode {keystore_passcode} --salt {salt}\n",
    "!kli incept --name {keystore_name} --alias {aid_alias} --passcode {keystore_passcode} \\\n",
    "    --icount 1 --isith 1 --ncount 0 --nsith 0 --toad 0"
   ]
  },
  {
   "cell_type": "markdown",
   "id": "e37141dc-a408-46cf-ab33-cbe019d695c0",
   "metadata": {},
   "source": [
    "### Sign a Message \n",
    "\n",
    "Now, let's sign a simple text message `\"hello world\"` using the private key associated with our `aid-sign` identifier."
   ]
  },
  {
   "cell_type": "code",
   "execution_count": 26,
   "id": "a613109c-7549-4c59-841f-deba0ac4488c",
   "metadata": {},
   "outputs": [
    {
     "name": "stdout",
     "output_type": "stream",
     "text": [
      "1. AAA5bWbt5D50dDU-mO7_7S3xKCRfXS9eRublKicsNiV--s5O9ZH2b3Gfols77RMzmAjEP0CLS_Vyoo23aB8PlLMA\n"
     ]
    }
   ],
   "source": [
    "!kli sign --name {keystore_name} --alias {aid_alias} --passcode {keystore_passcode} --text \"hello world\""
   ]
  },
  {
   "cell_type": "markdown",
   "id": "e12d284e-e2b0-469e-9c64-1d4c371e815d",
   "metadata": {},
   "source": [
    "The output is the digital signature generated for the text \"hello world\" using the private key of the AID  \n",
    "\n",
    "### Verify the Signature \n",
    "\n",
    "We can now use the kli verify command to check if the signature is valid for the given message and identifier (prefix)."
   ]
  },
  {
   "cell_type": "code",
   "execution_count": 27,
   "id": "37ecec40-213c-4753-9cae-efcd87a68c7d",
   "metadata": {},
   "outputs": [
    {
     "name": "stdout",
     "output_type": "stream",
     "text": [
      "Signature 1 is valid.\n"
     ]
    }
   ],
   "source": [
    "!kli verify --name {keystore_name} --alias {aid_alias} --passcode {keystore_passcode} \\\n",
    "    --prefix BPkrtxL07k1cQhoRlF2illnFZJc_Veywvg4xvLFPtCE3 \\\n",
    "    --text \"hello world\" \\\n",
    "    --signature AAAzpKaOVx-4G1cfldpRx-mHi1UGS-smitfVCSM47v_mECPkgHVPfqOogqseh8GwPyua0JFi3wNPRHEnowxgDYUE\n"
   ]
  },
  {
   "cell_type": "markdown",
   "id": "33bbc91f-7e1a-4624-9165-e56557c23693",
   "metadata": {},
   "source": [
    "The command confirms the signature is valid. It used the public key associated with the prefix  (which KLI retrieves from the keystore in this case) to verify the signature against the provided text.\n",
    "\n",
    "### Tampered Signature\n",
    "\n",
    "What happens if the signature is altered even slightly? Let's change the last character of the signature and try to verify again.\n"
   ]
  },
  {
   "cell_type": "code",
   "execution_count": 28,
   "id": "65a020bf-71a1-4acb-82bd-b75a8854e2bf",
   "metadata": {},
   "outputs": [
    {
     "name": "stdout",
     "output_type": "stream",
     "text": [
      "ERR: Signature 1 is invalid.\n"
     ]
    }
   ],
   "source": [
    "!kli verify --name {keystore_name} --alias {aid_alias} --passcode {keystore_passcode} \\\n",
    "    --prefix BPkrtxL07k1cQhoRlF2illnFZJc_Veywvg4xvLFPtCE3 \\\n",
    "    --text \"hello world\" \\\n",
    "    --signature AAAzpKaOVx-4G1cfldpRx-mHi1UGS-smitfVCSM47v_mECPkgHVPfqOogqseh8GwPyua0JFi3wNPRHEnowxgDYUU # Tampered last character"
   ]
  },
  {
   "cell_type": "markdown",
   "id": "084c2447-dce9-4354-bd57-3e69b1daceb3",
   "metadata": {},
   "source": [
    "As expected, the verification fails. Even a tiny change invalidates the signature, demonstrating the integrity protection it provides."
   ]
  }
 ],
 "metadata": {
  "kernelspec": {
   "display_name": "Python 3 (ipykernel)",
   "language": "python",
   "name": "python3"
  },
  "language_info": {
   "codemirror_mode": {
    "name": "ipython",
    "version": 3
   },
   "file_extension": ".py",
   "mimetype": "text/x-python",
   "name": "python",
   "nbconvert_exporter": "python",
   "pygments_lexer": "ipython3",
   "version": "3.12.9"
  }
 },
 "nbformat": 4,
 "nbformat_minor": 5
}
