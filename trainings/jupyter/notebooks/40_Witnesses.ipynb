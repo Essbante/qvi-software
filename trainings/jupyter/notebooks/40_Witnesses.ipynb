{
 "cells": [
  {
   "cell_type": "code",
   "execution_count": null,
   "id": "df4acb4f-db6f-41fd-9f5f-6a92898cba5e",
   "metadata": {
    "editable": true,
    "slideshow": {
     "slide_type": ""
    },
    "tags": []
   },
   "outputs": [],
   "source": [
    "# Imports and Utility functions\n",
    "from scripts.utils import clear_keri"
   ]
  },
  {
   "cell_type": "markdown",
   "id": "a2ae9e45-1957-47ee-83ec-97a4918d8b35",
   "metadata": {},
   "source": [
    "Now that we have an understanding of Witnesses and oobis, let's see some practical usage.\n",
    "\n",
    "Within the deployment of these notebooks, we have included a demo witness network. It is composed of three witnesses: \n",
    "- http://witness-demo:5642/oobi/BBilc4-L3tFUnfM_wJr4S4OJanAv_VmF_dJNN6vkf2Ha\n",
    "- http://witness-demo:5643/oobi/BLskRTInXnMxWaGqcpSyMgo0nYbalW99cGZESrz3zapM\n",
    "- http://witness-demo:5644/oobi/BIKKuvBwpmDVA4Ds-EpL5bt9OqPzWPja2LigFYZN2YfX\n",
    "\n",
    "(These witnesses are predefined; that's why we know the prefixes beforehand) \n",
    "\n",
    "To verify the witness network is working, let's query the KEL of one of them using its oobi and `curl`. "
   ]
  },
  {
   "cell_type": "code",
   "execution_count": null,
   "id": "3a772be1-c06f-44b4-b155-b3ada0d664ea",
   "metadata": {
    "editable": true,
    "slideshow": {
     "slide_type": ""
    },
    "tags": []
   },
   "outputs": [],
   "source": [
    "!curl -s http://witness-demo:5642/oobi/BBilc4-L3tFUnfM_wJr4S4OJanAv_VmF_dJNN6vkf2Ha"
   ]
  },
  {
   "cell_type": "markdown",
   "id": "ac67666a-5e7e-4b67-8541-d3a92bbb61d9",
   "metadata": {},
   "source": [
    "The command should have returned a KEL; you should be able to recognize part of it. It starts with `{\"v\": \"KERI10JSON0000fd_\", \"t\": \"icp\"...`. If so, the witness network is up and running. \n",
    "\n",
    "Let's continue with the example. As usual, we need to create a keystore, but this time we are going to do something different. We are going to use a configuration file to provide the OOBIS of the witnesses to the keystore.\n",
    "\n",
    "The content of the configuration file can be seen here: [Keystore configuration file](config/keri/cf/keystore_init_config.json)\n"
   ]
  },
  {
   "cell_type": "code",
   "execution_count": null,
   "id": "7e0e60bc-e22b-46ae-bd40-8bf3ab242daa",
   "metadata": {
    "editable": true,
    "slideshow": {
     "slide_type": ""
    },
    "tags": []
   },
   "outputs": [],
   "source": [
    "keystore_name=\"tests-key-store\"\n",
    "\n",
    "keystore_passcode=\"xSLg286d4iWiRg2mzGYca\"\n",
    "\n",
    "salt=\"0ABeuT2dErMrqFE5Dmrnc2Bq\"\n",
    "\n",
    "!kli init --name {keystore_name} --passcode {keystore_passcode} --salt {salt} \\\n",
    "    --config-dir ./config \\\n",
    "    --config-file keystore_init_config.json\n"
   ]
  },
  {
   "cell_type": "markdown",
   "id": "8c9ab218-edc6-41fe-a910-4893d521d147",
   "metadata": {},
   "source": [
    "As you can see the initialization has loaded the oobis. You can also check the loaded witness information by calling the `kli contact list` command  "
   ]
  },
  {
   "cell_type": "code",
   "execution_count": null,
   "id": "34ccf92f-cbbc-41e3-89f1-6fbfd2bc0818",
   "metadata": {},
   "outputs": [],
   "source": [
    "!kli contacts list --name {keystore_name} --passcode {keystore_passcode}"
   ]
  },
  {
   "cell_type": "markdown",
   "id": "56cc40c3-85d2-4aa7-8d7a-27e170ba8192",
   "metadata": {},
   "source": [
    "Next, we can incept a new AID. We will use a configuration file again.\n",
    "\n",
    "The content of the configuration file can be seen here: [aid configuration file](config/aid_inception_config.json)\n",
    "\n",
    "```json\n",
    "{\n",
    "    \"transferable\": true,\n",
    "    \"wits\": [\"BBilc4-L3tFUnfM_wJr4S4OJanAv_VmF_dJNN6vkf2Ha\",\"BLskRTInXnMxWaGqcpSyMgo0nYbalW99cGZESrz3zapM\"],\n",
    "    \"toad\": 1,\n",
    "    \"icount\": 1,\n",
    "    \"ncount\": 1,\n",
    "    \"isith\": \"1\",\n",
    "    \"nsith\": \"1\"\n",
    "}\n",
    "```\n",
    "\n",
    "Notable highlights in this configuration are the inclusion of the witnesses' prefixes and the `toad` set to 1\n",
    "\n",
    "Here is the `incept` command:"
   ]
  },
  {
   "cell_type": "code",
   "execution_count": null,
   "id": "d031dd14-f1f6-4279-97e1-63c7714b1b7f",
   "metadata": {},
   "outputs": [],
   "source": [
    "aid_alias_transferable = \"aid-transferable\"\n",
    "\n",
    "!kli incept --name {keystore_name} --alias {aid_alias_transferable} --passcode {keystore_passcode} \\\n",
    "    --file ./config/aid_inception_config.json"
   ]
  },
  {
   "cell_type": "markdown",
   "id": "700f2d55-dad3-48e3-b266-67552100ba1f",
   "metadata": {},
   "source": [
    "Let's check the status of the AID using `kli status`"
   ]
  },
  {
   "cell_type": "code",
   "execution_count": null,
   "id": "2bf175dc-4239-4f99-88ae-8db5c7891fb4",
   "metadata": {},
   "outputs": [],
   "source": [
    "!kli status --name {keystore_name} --alias {aid_alias_transferable} --passcode {keystore_passcode} --verbose"
   ]
  },
  {
   "cell_type": "markdown",
   "id": "f483030c-dd34-4a6f-81f7-5ad9d208f2de",
   "metadata": {},
   "source": [
    "In this status, you will find a few new things:\n",
    "- The witnesses section has a count of 2 and mentions two receipts and a threshold of 1\n",
    "- The KEL has the \"b\" field populated with the witnesses' prefixes\n",
    "- The \"bt\" threshold is set to 1"
   ]
  },
  {
   "cell_type": "code",
   "execution_count": null,
   "id": "4fc9a3e7-3b85-42e9-9ea9-890f872ab48e",
   "metadata": {},
   "outputs": [],
   "source": [
    "clear_keri()"
   ]
  },
  {
   "cell_type": "code",
   "execution_count": null,
   "id": "f895b722-98e6-49a4-ba4c-76571b07008c",
   "metadata": {},
   "outputs": [],
   "source": []
  }
 ],
 "metadata": {
  "kernelspec": {
   "display_name": "Python 3 (ipykernel)",
   "language": "python",
   "name": "python3"
  },
  "language_info": {
   "codemirror_mode": {
    "name": "ipython",
    "version": 3
   },
   "file_extension": ".py",
   "mimetype": "text/x-python",
   "name": "python",
   "nbconvert_exporter": "python",
   "pygments_lexer": "ipython3",
   "version": "3.12.9"
  }
 },
 "nbformat": 4,
 "nbformat_minor": 5
}
