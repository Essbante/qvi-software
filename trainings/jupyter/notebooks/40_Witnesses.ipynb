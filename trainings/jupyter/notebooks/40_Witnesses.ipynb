{
 "cells": [
  {
   "cell_type": "markdown",
   "id": "e8bba038-f714-4398-a9e4-9137f0de9269",
   "metadata": {
    "editable": false,
    "slideshow": {
     "slide_type": ""
    },
    "tags": []
   },
   "source": [
    "# Witnesses"
   ]
  },
  {
   "cell_type": "markdown",
   "id": "1232f202-31c1-40fc-a855-a3dc48760534",
   "metadata": {
    "editable": false,
    "slideshow": {
     "slide_type": ""
    },
    "tags": []
   },
   "source": [
    "<div class=\"alert alert-primary\">\n",
    "  <b>🎯 OBJECTIVE</b><hr>\n",
    "Demonstrate how to configure witnesses and the Threshold of Accountable Duplicity (TOAD) in a configuration file and use it to create an AID \n",
    "</div>"
   ]
  },
  {
   "cell_type": "markdown",
   "id": "a2ae9e45-1957-47ee-83ec-97a4918d8b35",
   "metadata": {
    "editable": false,
    "slideshow": {
     "slide_type": ""
    },
    "tags": []
   },
   "source": [
    "## Witness network\n",
    "\n",
    "Now that you understand Witnesses and oobis, let's see some practical usage.\n",
    "\n",
    "Within the deployment of these notebooks, we have included a demo witness network. It is composed of three witnesses: \n",
    "- http://witness-demo:5642/oobi/BBilc4-L3tFUnfM_wJr4S4OJanAv_VmF_dJNN6vkf2Ha\n",
    "- http://witness-demo:5643/oobi/BLskRTInXnMxWaGqcpSyMgo0nYbalW99cGZESrz3zapM\n",
    "- http://witness-demo:5644/oobi/BIKKuvBwpmDVA4Ds-EpL5bt9OqPzWPja2LigFYZN2YfX\n",
    "\n",
    "(These witnesses are predefined; that's why we know the prefixes beforehand) \n",
    "\n",
    "To verify the witness network is working, let's query the KEL of one of them using its oobi and `curl`. "
   ]
  },
  {
   "cell_type": "code",
   "execution_count": 1,
   "id": "3a772be1-c06f-44b4-b155-b3ada0d664ea",
   "metadata": {
    "editable": false,
    "slideshow": {
     "slide_type": ""
    },
    "tags": []
   },
   "outputs": [
    {
     "name": "stdout",
     "output_type": "stream",
     "text": [
      "{\"v\":\"KERI10JSON0000fd_\",\"t\":\"icp\",\"d\":\"EIkO4CUmYXukX4auGU9yaFoQaIicfVZkazQ0A3IO5biT\",\"i\":\"BBilc4-L3tFUnfM_wJr4S4OJanAv_VmF_dJNN6vkf2Ha\",\"s\":\"0\",\"kt\":\"1\",\"k\":[\"BBilc4-L3tFUnfM_wJr4S4OJanAv_VmF_dJNN6vkf2Ha\"],\"nt\":\"0\",\"n\":[],\"bt\":\"0\",\"b\":[],\"c\":[],\"a\":[]}-VAn-AABAAAMlb78gUo1_gPDwxbXyERk2sW8B0mtiNuACutAygnY78PHYUjbPj1fSY1jyid8fl4-TXgLXPnDmeoUs1UO-H0A-EAB0AAAAAAAAAAAAAAAAAAAAAAA1AAG2025-04-30T13c21c02d891027p00c00{\"v\":\"KERI10JSON0000fd_\",\"t\":\"rpy\",\"d\":\"EHkrUtl8Nt7nZjJ8mApuG80us9E_td3oa4V-oW2clB2K\",\"dt\":\"2024-12-31T14:06:30.123456+00:00\",\"r\":\"/loc/scheme\",\"a\":{\"eid\":\"BBilc4-L3tFUnfM_wJr4S4OJanAv_VmF_dJNN6vkf2Ha\",\"scheme\":\"http\",\"url\":\"http://witness-demo:5642/\"}}-VAi-CABBBilc4-L3tFUnfM_wJr4S4OJanAv_VmF_dJNN6vkf2Ha0BDkVOk5p25Rhim3LkhYXmDNNiUcZkgCp_BWvEB45q6f_pKJBYYlpUABpci5DMzBNXlz4RvK8ImKVc_cH-0D8Q8D{\"v\":\"KERI10JSON0000fb_\",\"t\":\"rpy\",\"d\":\"EDSjg0HilC3L4I_eI53C3_6lW9I6pPbR4SWGgoOmDhMb\",\"dt\":\"2024-12-31T14:06:30.123456+00:00\",\"r\":\"/loc/scheme\",\"a\":{\"eid\":\"BBilc4-L3tFUnfM_wJr4S4OJanAv_VmF_dJNN6vkf2Ha\",\"scheme\":\"tcp\",\"url\":\"tcp://witness-demo:5632/\"}}-VAi-CABBBilc4-L3tFUnfM_wJr4S4OJanAv_VmF_dJNN6vkf2Ha0BDLG3-HNp-kclaNamqIRI46rNcAhpIEQBDON2HO28r9zO-6S53_w7AA_Q4Weg4eAjvTGiXiNExhO86elrIEd74F{\"v\":\"KERI10JSON000116_\",\"t\":\"rpy\",\"d\":\"EBBDzl8D5gFgFkVXaB-XNQlCem-4y5JywPcueWAMRfCp\",\"dt\":\"2024-12-31T14:06:30.123456+00:00\",\"r\":\"/end/role/add\",\"a\":{\"cid\":\"BBilc4-L3tFUnfM_wJr4S4OJanAv_VmF_dJNN6vkf2Ha\",\"role\":\"controller\",\"eid\":\"BBilc4-L3tFUnfM_wJr4S4OJanAv_VmF_dJNN6vkf2Ha\"}}-VAi-CABBBilc4-L3tFUnfM_wJr4S4OJanAv_VmF_dJNN6vkf2Ha0BDt7alD1tA9x_9vVMKxY1Ne113qJ-xDdCyThnAh6_c13Rsrb9WW5HlKyQxyW5DVXWJjQ65yzME5kCLBiJWYBKEL"
     ]
    }
   ],
   "source": [
    "!curl -s http://witness-demo:5642/oobi/BBilc4-L3tFUnfM_wJr4S4OJanAv_VmF_dJNN6vkf2Ha"
   ]
  },
  {
   "cell_type": "markdown",
   "id": "ac67666a-5e7e-4b67-8541-d3a92bbb61d9",
   "metadata": {
    "editable": false,
    "slideshow": {
     "slide_type": ""
    },
    "tags": []
   },
   "source": [
    "The command should have returned a KEL; you should be able to recognize part of it. It starts with `{\"v\": \"KERI10JSON0000fd_\", \"t\": \"icp\"...`. If so, the witness network is up and running. "
   ]
  },
  {
   "cell_type": "markdown",
   "id": "ea8a584c-86ea-4373-9bf6-95bd23635f72",
   "metadata": {
    "editable": false,
    "slideshow": {
     "slide_type": ""
    },
    "tags": []
   },
   "source": [
    "## Initializing a keystore\n",
    "\n",
    "Let's continue with the example. As usual, we need to create a keystore, but this time we are going to do something different. We are going to use a configuration file to provide the OOBIS of the witnesses to the keystore.\n",
    "\n",
    "The content of the configuration file can be seen here: [Keystore configuration file](config/keri/cf/keystore_init_config.json)"
   ]
  },
  {
   "cell_type": "code",
   "execution_count": 2,
   "id": "7e0e60bc-e22b-46ae-bd40-8bf3ab242daa",
   "metadata": {
    "editable": false,
    "slideshow": {
     "slide_type": ""
    },
    "tags": []
   },
   "outputs": [
    {
     "name": "stdout",
     "output_type": "stream",
     "text": [
      "KERI Keystore created at: /usr/local/var/keri/ks/tests-keystore\n",
      "KERI Database created at: /usr/local/var/keri/db/tests-keystore\n",
      "KERI Credential Store created at: /usr/local/var/keri/reg/tests-keystore\n",
      "\taeid: BD-1udeJaXFzKbSUFb6nhmndaLlMj-pdlNvNoN562h3z\n",
      "\n",
      "Loading 3 OOBIs...\n",
      "http://witness-demo:5642/oobi/BBilc4-L3tFUnfM_wJr4S4OJanAv_VmF_dJNN6vkf2Ha/controller?name=Wan&tag=witness succeeded\n",
      "http://witness-demo:5643/oobi/BLskRTInXnMxWaGqcpSyMgo0nYbalW99cGZESrz3zapM/controller?name=Wes&tag=witness succeeded\n",
      "http://witness-demo:5644/oobi/BIKKuvBwpmDVA4Ds-EpL5bt9OqPzWPja2LigFYZN2YfX/controller?name=Wil&tag=witness succeeded\n"
     ]
    }
   ],
   "source": [
    "keystore_name=\"tests-keystore\"\n",
    "\n",
    "keystore_passcode=\"xSLg286d4iWiRg2mzGYca\"\n",
    "\n",
    "salt=\"0ABeuT2dErMrqFE5Dmrnc2Bq\"\n",
    "\n",
    "!kli init --name {keystore_name} --passcode {keystore_passcode} --salt {salt} \\\n",
    "    --config-dir ./config \\\n",
    "    --config-file keystore_init_config.json\n"
   ]
  },
  {
   "cell_type": "markdown",
   "id": "8c9ab218-edc6-41fe-a910-4893d521d147",
   "metadata": {
    "editable": false,
    "slideshow": {
     "slide_type": ""
    },
    "tags": []
   },
   "source": [
    "## Listing keystore contacts\n",
    "As you can see, the initialization has loaded the oobis. You can also check the loaded witness information by calling the `kli contact list` command  "
   ]
  },
  {
   "cell_type": "code",
   "execution_count": 3,
   "id": "34ccf92f-cbbc-41e3-89f1-6fbfd2bc0818",
   "metadata": {
    "editable": false,
    "slideshow": {
     "slide_type": ""
    },
    "tags": []
   },
   "outputs": [
    {
     "name": "stdout",
     "output_type": "stream",
     "text": [
      "{\n",
      "  \"id\": \"BBilc4-L3tFUnfM_wJr4S4OJanAv_VmF_dJNN6vkf2Ha\",\n",
      "  \"alias\": \"Wan\",\n",
      "  \"oobi\": \"http://witness-demo:5642/oobi/BBilc4-L3tFUnfM_wJr4S4OJanAv_VmF_dJNN6vkf2Ha/controller?name=Wan&tag=witness\",\n",
      "  \"challenges\": [],\n",
      "  \"wellKnowns\": []\n",
      "}\n",
      "{\n",
      "  \"id\": \"BIKKuvBwpmDVA4Ds-EpL5bt9OqPzWPja2LigFYZN2YfX\",\n",
      "  \"alias\": \"Wil\",\n",
      "  \"oobi\": \"http://witness-demo:5644/oobi/BIKKuvBwpmDVA4Ds-EpL5bt9OqPzWPja2LigFYZN2YfX/controller?name=Wil&tag=witness\",\n",
      "  \"challenges\": [],\n",
      "  \"wellKnowns\": []\n",
      "}\n",
      "{\n",
      "  \"id\": \"BLskRTInXnMxWaGqcpSyMgo0nYbalW99cGZESrz3zapM\",\n",
      "  \"alias\": \"Wes\",\n",
      "  \"oobi\": \"http://witness-demo:5643/oobi/BLskRTInXnMxWaGqcpSyMgo0nYbalW99cGZESrz3zapM/controller?name=Wes&tag=witness\",\n",
      "  \"challenges\": [],\n",
      "  \"wellKnowns\": []\n",
      "}\n"
     ]
    }
   ],
   "source": [
    "!kli contacts list --name {keystore_name} --passcode {keystore_passcode}"
   ]
  },
  {
   "cell_type": "markdown",
   "id": "56cc40c3-85d2-4aa7-8d7a-27e170ba8192",
   "metadata": {
    "editable": false,
    "slideshow": {
     "slide_type": ""
    },
    "tags": []
   },
   "source": [
    "## Creating an AID\n",
    "\n",
    "Next, you can incept a new AID. Use a configuration file again.\n",
    "\n",
    "The content of the configuration file can be seen here: [aid configuration file](config/aid_inception_config.json)\n",
    "\n",
    "```json\n",
    "{\n",
    "    \"transferable\": true,\n",
    "    \"wits\": [\"BBilc4-L3tFUnfM_wJr4S4OJanAv_VmF_dJNN6vkf2Ha\",\"BLskRTInXnMxWaGqcpSyMgo0nYbalW99cGZESrz3zapM\"],\n",
    "    \"toad\": 1,\n",
    "    \"icount\": 1,\n",
    "    \"ncount\": 1,\n",
    "    \"isith\": \"1\",\n",
    "    \"nsith\": \"1\"\n",
    "}\n",
    "```\n",
    "\n",
    "Notable highlights in this configuration are the inclusion of the witnesses' prefixes and the `toad` set to 1\n",
    "\n",
    "Here is the `incept` command:"
   ]
  },
  {
   "cell_type": "code",
   "execution_count": 4,
   "id": "d031dd14-f1f6-4279-97e1-63c7714b1b7f",
   "metadata": {
    "editable": false,
    "slideshow": {
     "slide_type": ""
    },
    "tags": []
   },
   "outputs": [
    {
     "name": "stdout",
     "output_type": "stream",
     "text": [
      "Waiting for witness receipts...\n",
      "Prefix  EJq-DYl9EQVlY1lShETUWLQuDEcVdRkWXfkkGBNDugjZ\n",
      "\tPublic key 1:  DOdymqdtGJzeoRRSL9C8Suni6ebPaSqQfuEUM_JFkPQx\n",
      "\n"
     ]
    }
   ],
   "source": [
    "aid_alias_transferable = \"aid-transferable\"\n",
    "\n",
    "!kli incept --name {keystore_name} --alias {aid_alias_transferable} --passcode {keystore_passcode} \\\n",
    "    --file ./config/aid_inception_config.json"
   ]
  },
  {
   "cell_type": "markdown",
   "id": "700f2d55-dad3-48e3-b266-67552100ba1f",
   "metadata": {
    "editable": false,
    "slideshow": {
     "slide_type": ""
    },
    "tags": []
   },
   "source": [
    "Check the status of the AID using `kli status`"
   ]
  },
  {
   "cell_type": "code",
   "execution_count": 5,
   "id": "2bf175dc-4239-4f99-88ae-8db5c7891fb4",
   "metadata": {
    "editable": false,
    "slideshow": {
     "slide_type": ""
    },
    "tags": []
   },
   "outputs": [
    {
     "name": "stdout",
     "output_type": "stream",
     "text": [
      "Alias: \taid-transferable\n",
      "Identifier: EJq-DYl9EQVlY1lShETUWLQuDEcVdRkWXfkkGBNDugjZ\n",
      "Seq No:\t0\n",
      "\n",
      "Witnesses:\n",
      "Count:\t\t2\n",
      "Receipts:\t2\n",
      "Threshold:\t1\n",
      "\n",
      "Public Keys:\t\n",
      "\t1. DOdymqdtGJzeoRRSL9C8Suni6ebPaSqQfuEUM_JFkPQx\n",
      "\n",
      "\n",
      "Witnesses:\t\n",
      "\t1. BBilc4-L3tFUnfM_wJr4S4OJanAv_VmF_dJNN6vkf2Ha\n",
      "\t2. BLskRTInXnMxWaGqcpSyMgo0nYbalW99cGZESrz3zapM\n",
      "\n",
      "{\n",
      " \"v\": \"KERI10JSON000188_\",\n",
      " \"t\": \"icp\",\n",
      " \"d\": \"EJq-DYl9EQVlY1lShETUWLQuDEcVdRkWXfkkGBNDugjZ\",\n",
      " \"i\": \"EJq-DYl9EQVlY1lShETUWLQuDEcVdRkWXfkkGBNDugjZ\",\n",
      " \"s\": \"0\",\n",
      " \"kt\": \"1\",\n",
      " \"k\": [\n",
      "  \"DOdymqdtGJzeoRRSL9C8Suni6ebPaSqQfuEUM_JFkPQx\"\n",
      " ],\n",
      " \"nt\": \"1\",\n",
      " \"n\": [\n",
      "  \"EO95Pwm8WYG_dIS2-H6LGoXmzOEEnbRljeIjy-Hd7aVx\"\n",
      " ],\n",
      " \"bt\": \"1\",\n",
      " \"b\": [\n",
      "  \"BBilc4-L3tFUnfM_wJr4S4OJanAv_VmF_dJNN6vkf2Ha\",\n",
      "  \"BLskRTInXnMxWaGqcpSyMgo0nYbalW99cGZESrz3zapM\"\n",
      " ],\n",
      " \"c\": [],\n",
      " \"a\": []\n",
      "}\n",
      "\n"
     ]
    }
   ],
   "source": [
    "!kli status --name {keystore_name} --alias {aid_alias_transferable} --passcode {keystore_passcode} --verbose"
   ]
  },
  {
   "cell_type": "markdown",
   "id": "f483030c-dd34-4a6f-81f7-5ad9d208f2de",
   "metadata": {
    "editable": false,
    "slideshow": {
     "slide_type": ""
    },
    "tags": []
   },
   "source": [
    "In this status, you will find a few new things:\n",
    "- The witnesses section has a count of 2 and mentions two receipts and a threshold of 1\n",
    "- The KEL has the \"b\" field populated with the witnesses' prefixes\n",
    "- The \"bt\" threshold is set to 1"
   ]
  },
  {
   "cell_type": "markdown",
   "id": "0ba85fba-1c77-4305-aaa8-21ceb5e22c51",
   "metadata": {
    "editable": false,
    "slideshow": {
     "slide_type": ""
    },
    "tags": []
   },
   "source": [
    "<div class=\"alert alert-primary\">\n",
    "  <b>📝 SUMMARY</b><hr>\n",
    "Witnesses are specified during AID inception using a configuration file that lists their prefixes (wits) and sets the Threshold of Accountable Duplicity (toad). The kli incept command utilizes this file to create the AID, embedding the witness information into the inception event. Checking the AID status with kli status <code>--verbose</code> reveals the witness prefixes in the b field, the TOAD in the bt field, and any received witness receipts.\n",
    "</div>"
   ]
  },
  {
   "cell_type": "code",
   "execution_count": 6,
   "id": "4fc9a3e7-3b85-42e9-9ea9-890f872ab48e",
   "metadata": {
    "editable": false,
    "slideshow": {
     "slide_type": ""
    },
    "tags": []
   },
   "outputs": [
    {
     "name": "stdin",
     "output_type": "stream",
     "text": [
      "🚨 This will clear your keystore. Are you sure? (y/n):  y\n"
     ]
    },
    {
     "name": "stdout",
     "output_type": "stream",
     "text": [
      "Proceeding...\n",
      "✅ Successfully removed: /usr/local/var/keri/\n"
     ]
    }
   ],
   "source": [
    "# Imports and Utility functions\n",
    "from scripts.utils import clear_keri\n",
    "clear_keri()"
   ]
  }
 ],
 "metadata": {
  "kernelspec": {
   "display_name": "Python 3 (ipykernel)",
   "language": "python",
   "name": "python3"
  },
  "language_info": {
   "codemirror_mode": {
    "name": "ipython",
    "version": 3
   },
   "file_extension": ".py",
   "mimetype": "text/x-python",
   "name": "python",
   "nbconvert_exporter": "python",
   "pygments_lexer": "ipython3",
   "version": "3.12.9"
  }
 },
 "nbformat": 4,
 "nbformat_minor": 5
}
