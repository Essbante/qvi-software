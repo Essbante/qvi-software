{
 "cells": [
  {
   "cell_type": "code",
   "execution_count": null,
   "id": "8c3f5bbd-590d-469b-9259-90b5c0199213",
   "metadata": {
    "editable": true,
    "slideshow": {
     "slide_type": ""
    },
    "tags": []
   },
   "outputs": [],
   "source": [
    "# Imports and Utility functions\n",
    "from scripts.utils import clear_keri"
   ]
  },
  {
   "cell_type": "markdown",
   "id": "94fd6f8c-7747-4b64-a05f-353bc98c1221",
   "metadata": {
    "editable": true,
    "slideshow": {
     "slide_type": ""
    },
    "tags": []
   },
   "source": [
    "## Creating a Keystore\n",
    "\n",
    "Before you can create identifiers or perform many other actions with KLI, you need a keystore. The keystore is an encrypted data store that holds the keys for your identifiers. To initialize a keystore, you give it a name, protect it with a passcode, and provide a salt for generating the keys.\n",
    "\n",
    "The command to do this is `kli init`. Here's an example:\n"
   ]
  },
  {
   "cell_type": "code",
   "execution_count": null,
   "id": "094f9e78-a8a7-4859-920b-1ec7338e9b6f",
   "metadata": {
    "editable": true,
    "slideshow": {
     "slide_type": ""
    },
    "tags": []
   },
   "outputs": [],
   "source": [
    "# Choose a name for your keystore\n",
    "keystore_name=\"my-first-key-store\"\n",
    "# Use a strong, randomly generated passcode ( from 'kli passcode generate')\n",
    "keystore_passcode=\"xSLg286d4iWiRg2mzGYca\"\n",
    "# Use a random salt (from 'kli salt')\n",
    "salt=\"0ABeuT2dErMrqFE5Dmrnc2Bq\"\n",
    "\n",
    "!kli init --name {keystore_name} --passcode {keystore_passcode} --salt {salt}"
   ]
  },
  {
   "cell_type": "markdown",
   "id": "c480ca8c-5419-4b2b-b269-de5590203772",
   "metadata": {
    "editable": true,
    "slideshow": {
     "slide_type": ""
    },
    "tags": []
   },
   "source": [
    "The command sets up the necessary file structures for your keystore, so it's ready for you to create and manage Identifiers within it."
   ]
  },
  {
   "cell_type": "markdown",
   "id": "5c3e2ab4-9fb7-4a97-9a0c-86f468070cd3",
   "metadata": {},
   "source": [
    "<div class=\"alert alert-info\">\n",
    "  <b>ℹ️ NOTE</b><hr>\n",
    "<ul>\n",
    "    <li>In the example, predefined <code>keystore_passcode</code> and <code>salt</code> are used for convenience, but randomly generated values can be obtained using the <code>kli passcode generate</code> and <code>kli salt</code>\n",
    "    <li>You can initialize multiple keystores as long as they have different names \n",
    "</ul>\n",
    "</div>"
   ]
  },
  {
   "cell_type": "markdown",
   "id": "eb9b23b6-7bea-4596-83da-40efa7bb43a9",
   "metadata": {},
   "source": [
    "## Creating an Identifier\n",
    "\n",
    "Now that your keystore is set, you can create your first identifier (AID) within it using the `kli incept` command. You'll need to provide your `keystore_name` and `keystore_passcode`. Additionally, specify a human-readable `alias` for the AID and define its key pairs using parameters like `icount` (the number of signing keys) and `isith` (the signing threshold). Other parameters such as `ncount`, `nsith`, and `toad` will be explained later. Executing `kli incept` will create the AID and output the prefix. This also means that the command will add the first event to the AID KEL, the inception event.\n",
    "\n",
    "Let's create one:\n",
    "\n",
    " "
   ]
  },
  {
   "cell_type": "code",
   "execution_count": null,
   "id": "aec4ddaa-c006-41d2-9078-1bcba9704765",
   "metadata": {
    "editable": true,
    "slideshow": {
     "slide_type": ""
    },
    "tags": []
   },
   "outputs": [],
   "source": [
    "# Choose a human-readable alias for your identifier *within this keystore*\n",
    "aid_alias = \"my-first-aid\"\n",
    "\n",
    "# Create (incept) the identifier\n",
    "# The parameters --icount, --isith, --ncount, --nsith, --toad control the key management thresholds.\n",
    "# We use basic settings here; these will be explained in detail in a later section (TBD).\n",
    "!kli incept --name {keystore_name} --alias {aid_alias} --passcode {keystore_passcode} \\\n",
    "    --icount 1 --isith 1 --ncount 0 --nsith 0 --toad 0"
   ]
  },
  {
   "cell_type": "markdown",
   "id": "52e53a14-e3d7-4858-9fb7-31b596c8b4af",
   "metadata": {
    "editable": true,
    "slideshow": {
     "slide_type": ""
    },
    "tags": []
   },
   "source": [
    "The `kli incept` command generated an AID. The unique string produced, `BHt9Kw8oUgfB2kiyoj65B2VE5fZLr87S5MJP3l4JeRwC`, is known as the Prefix. While closely related, they represent different aspects:\n",
    "\n",
    "- AID: This is the formal concept of the self-governing identifier within the KERI system, representing the entity and its control.\n",
    "- Prefix: This is the practical, usable string representation of the AID. It's derived directly from the AID's initial cryptographic keys and is constructed by combining:\n",
    "    - A Derivation Code: Indicates the cryptographic suite (key type, signature algorithm, hashing algorithm) used.\n",
    "    - The Encoded Public Key: The public portion of the initially generated key pair associated with the AID.\n",
    "\n",
    "**Prefix Self-Certification:**  \n",
    "KERI AIDs are self-certifying. This works because the identifier's prefix embeds the necessary public key information directly within it. Because of this, anyone who has the prefix can cryptographically check signatures made with the matching private key. This proves actions related to the AID are authentic without needing to check with outside authorities or registries. Keep in mind, this direct checking applies to the key that is currently authorized for the AID; key rotation changes the authorized key, requiring reference to the AID's KEL for verification. \n",
    "\n",
    "<div class=\"alert alert-prymary\">\n",
    "  <b>📝 SUMMARY</b><hr>\n",
    "    <li>Think of the AID as the secure, self-managed identifier</li>\n",
    "    <li>Think of the prefix as the actual text string you use to represent that AID, whose structure makes the AID's self-certifying property work</li>\n",
    "    <li>Think of the alias (<code>my-first-aid</code> in our example) as just a local nickname within your keystore to easily refer to the prefix</li>\n",
    "    <li>The terms AID, identifier, prefix, and alias tend to be used interchangeably</li>\n",
    "</div>\n",
    "\n",
    "\n"
   ]
  },
  {
   "cell_type": "markdown",
   "id": "b950114d-7c5d-49b0-982c-9531ee4c8f4d",
   "metadata": {},
   "source": [
    "## Displaying the Identifier\n",
    "You can check the status of the identifier you just created using `kli status` and its `alias`. This command will show details about the AID's current state, including its Alias, prefix, sequence number, public keys, and additional information. More details on what all this data means will be explained later"
   ]
  },
  {
   "cell_type": "code",
   "execution_count": null,
   "id": "c98038a0-1d36-425f-9936-2a10afc95093",
   "metadata": {},
   "outputs": [],
   "source": [
    "# Check the status of the AID using its alias\n",
    "!kli status --name {keystore_name} --passcode {keystore_passcode} --alias {aid_alias}"
   ]
  },
  {
   "cell_type": "markdown",
   "id": "c1777e81-7f28-4eae-9ffc-7985671e52b8",
   "metadata": {},
   "source": [
    "You can use `kli status` with the `--verbose` parameter to show the key event log."
   ]
  },
  {
   "cell_type": "code",
   "execution_count": null,
   "id": "49a334b9-b03b-457f-ae65-f29d2d74df0f",
   "metadata": {
    "editable": true,
    "slideshow": {
     "slide_type": ""
    },
    "tags": []
   },
   "outputs": [],
   "source": [
    "!kli status --name {keystore_name} --passcode {keystore_passcode} --alias {aid_alias} --verbose"
   ]
  },
  {
   "cell_type": "markdown",
   "id": "14df951f-808c-4009-a4d5-c017db233dbd",
   "metadata": {},
   "source": [
    "Here are some descriptions of the KEL fields:\n",
    "- v – Version String\n",
    "- t – Message type (`icp` means inception)\n",
    "- i – Identifier Prefix\n",
    "- kt - Keys Signing Threshold (the `isith` value used in `kli inception`)\n",
    "- k – List of Signing Keys (You get as many keys as defined by the `icount` value used in `kli inception`)\n",
    "\n",
    "\n",
    "\n"
   ]
  },
  {
   "cell_type": "markdown",
   "id": "2a0dae91-fe70-4b32-8298-74f2be407442",
   "metadata": {},
   "source": [
    "<div class=\"alert alert-info\">\n",
    "  <b>📚 REFERENCE</b><hr>\n",
    "    To see the full details of the key event fields, refer to <a href=\"https://trustoverip.github.io/tswg-keri-specification/#keri-data-structures-and-labels\" target=\"_blank\">KERI Data Structures and Labels</a> \n",
    "</div>"
   ]
  },
  {
   "cell_type": "markdown",
   "id": "57e2de61-5529-4bb4-b0f2-c7146cb6097a",
   "metadata": {
    "editable": true,
    "slideshow": {
     "slide_type": ""
    },
    "tags": []
   },
   "source": [
    "You can also list all the identifiers managed within this keystore. To illustrate this, let's create an additional Identifier"
   ]
  },
  {
   "cell_type": "code",
   "execution_count": null,
   "id": "4fa59d37-5cbf-49f8-af85-92314ab64e2a",
   "metadata": {},
   "outputs": [],
   "source": [
    "!kli incept --name {keystore_name} --alias \"my-second-aid\" --passcode {keystore_passcode} \\\n",
    "    --icount 1 --isith 1 --ncount 0 --nsith 0 --toad 0"
   ]
  },
  {
   "cell_type": "markdown",
   "id": "1a55b4ff-797e-4907-b516-4d452eac8a0c",
   "metadata": {},
   "source": [
    "Now use `kli list` to list all the identifiers managed by the keystore"
   ]
  },
  {
   "cell_type": "code",
   "execution_count": null,
   "id": "83695668-da26-477d-a938-892355a9b150",
   "metadata": {},
   "outputs": [],
   "source": [
    "# List all Identifiers in the keystore\n",
    "!kli list --name {keystore_name} --passcode {keystore_passcode}"
   ]
  },
  {
   "cell_type": "markdown",
   "id": "b34302ba-6cad-4ab5-b60b-8fae724edc36",
   "metadata": {},
   "source": [
    "--------------------------------------------------------------------------------------"
   ]
  },
  {
   "cell_type": "markdown",
   "id": "01bc7bd3-3df6-4f4f-b8a5-ef874c01eba2",
   "metadata": {
    "editable": true,
    "slideshow": {
     "slide_type": ""
    },
    "tags": []
   },
   "source": [
    "<div class=\"alert alert-info\">\n",
    "  <b>💡 TIP</b><hr>\n",
    "    <li>If you run <code>clear_keri()</code>, the keystore, database, and credential store directories are deleted.</li>  \n",
    "    <li>This function is provided as an utility to clean your data for testing purposes.</li>\n",
    "</div>"
   ]
  },
  {
   "cell_type": "code",
   "execution_count": null,
   "id": "6475d740-2631-4076-8d75-a2161795a609",
   "metadata": {
    "editable": true,
    "slideshow": {
     "slide_type": ""
    },
    "tags": []
   },
   "outputs": [],
   "source": [
    "clear_keri()"
   ]
  }
 ],
 "metadata": {
  "kernelspec": {
   "display_name": "Python 3 (ipykernel)",
   "language": "python",
   "name": "python3"
  },
  "language_info": {
   "codemirror_mode": {
    "name": "ipython",
    "version": 3
   },
   "file_extension": ".py",
   "mimetype": "text/x-python",
   "name": "python",
   "nbconvert_exporter": "python",
   "pygments_lexer": "ipython3",
   "version": "3.12.9"
  }
 },
 "nbformat": 4,
 "nbformat_minor": 5
}
