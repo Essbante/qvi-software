{
 "cells": [
  {
   "cell_type": "markdown",
   "id": "2ac4ea9a-d21e-4950-8885-30d28f560cee",
   "metadata": {
    "editable": true,
    "slideshow": {
     "slide_type": ""
    },
    "tags": []
   },
   "source": [
    "# KERI Command Line Interface (KLI)\n",
    "\n",
    "Throughout these notebooks, you will interact with the KERI protocol using the **KLI**. The KLI is the standard text-based tool for managing identifiers and infrastructure directly from your computer's terminal. \n",
    "\n",
    "## How to use KLI in Notebooks?\n",
    "\n",
    "Since you are working within Jupyter notebooks, the KLI commands are written with an exclamation mark prefix (`!`). This tells the notebook environment to run the command in the underlying system shell, rather than as Python code. So, you'll frequently see commands structured like this:\n",
    "\n",
    "`!kli <command> [options]`  \n",
    "\n",
    "**What can you do with KLI?**\n",
    "\n",
    "The KLI provides a wide range of functionalities. Key capabilities you'll encounter or should be aware of include:\n",
    "- **Identifier management**: Creating your identifiers, managing their cryptographic keys, and checking an identifier's history\n",
    "- **Identifier operations**: Participating in more complex setups, such as identifiers with delegated authority or those requiring multiple signatures to authorize actions\n",
    "- **Infrastructure operations**: Running essential KERI components like witnesses and watchers. (We will cover witnesses and watchers in more detail later)\n",
    "- **Organized control via keystores**: Most KLI commands require you to specify a `--name` parameter. This refers to a keystore, which acts like a dedicated profile containing the specific keys and configuration for the identifier you want that command to manage\n",
    "- **Others** —  🚧\n",
    "\n"
   ]
  },
  {
   "cell_type": "markdown",
   "id": "3ca2afe1-ffa3-4387-96ed-da86cdffb118",
   "metadata": {},
   "source": [
    "<div class=\"alert alert-info\">\n",
    "  <b>ℹ️ NOTE</b><hr>\n",
    "    There are UI based methods to manage Identifiers, known as wallets, but for the purpose of this training, the KLI offers a good compromise between ease of use and visibility of technical details. \n",
    "</div>"
   ]
  },
  {
   "cell_type": "markdown",
   "id": "bbcd7aae-da03-4467-a47c-853b5952a995",
   "metadata": {
    "editable": true,
    "slideshow": {
     "slide_type": ""
    },
    "tags": []
   },
   "source": [
    "## Basic Utility Commands\n",
    "\n",
    "Let's explore some helpful commands available in the **KERI Command Line Interface (KLI)**.\n",
    "\n",
    "This isn't a complete list of every command, but it covers some essential utilities that you'll find useful as you work with KERI. These commands help you:\n",
    "\n",
    "* Retrieve basic information about your KERI environment.\n",
    "* Generate values needed for various KERI operations and workflows."
   ]
  },
  {
   "cell_type": "markdown",
   "id": "37090141-3139-4c22-8591-eea114f5d537",
   "metadata": {},
   "source": [
    "### Check keripy library version"
   ]
  },
  {
   "cell_type": "code",
   "execution_count": 1,
   "id": "bf668848-930f-4042-a524-b21378180eb1",
   "metadata": {
    "editable": true,
    "slideshow": {
     "slide_type": ""
    },
    "tags": []
   },
   "outputs": [
    {
     "name": "stdout",
     "output_type": "stream",
     "text": [
      "Library version: 1.2.6\n"
     ]
    }
   ],
   "source": [
    "!kli version"
   ]
  },
  {
   "cell_type": "markdown",
   "id": "519e873d-f81d-4c7d-8be5-d2caafdcca80",
   "metadata": {
    "editable": true,
    "slideshow": {
     "slide_type": ""
    },
    "tags": []
   },
   "source": [
    "### Generate a salt \n",
    "Create a new random salt (or seed). A salt is a random value used as an input when generating cryptographic key pairs to help ensure their uniqueness and security."
   ]
  },
  {
   "cell_type": "code",
   "execution_count": 2,
   "id": "5a7fc70a-e0c1-44d5-aa5d-8b48985041b1",
   "metadata": {
    "editable": true,
    "slideshow": {
     "slide_type": ""
    },
    "tags": []
   },
   "outputs": [
    {
     "name": "stdout",
     "output_type": "stream",
     "text": [
      "0AB0glXZ-zNBjwYYaQRy-Uya\n"
     ]
    }
   ],
   "source": [
    "# This will output a qualified base64 string representing the salt\n",
    "!kli salt"
   ]
  },
  {
   "cell_type": "markdown",
   "id": "48e99e59-22b4-4938-b68d-0be81115b801",
   "metadata": {
    "editable": true,
    "slideshow": {
     "slide_type": ""
    },
    "tags": []
   },
   "source": [
    "### Generate a passcode\n",
    "The passcode is used to encrypt your keystore, providing an additional layer of protection."
   ]
  },
  {
   "cell_type": "code",
   "execution_count": 3,
   "id": "578f8c15-4b46-4c51-bb09-3a9eb97f5b42",
   "metadata": {
    "editable": true,
    "slideshow": {
     "slide_type": ""
    },
    "tags": []
   },
   "outputs": [
    {
     "name": "stdout",
     "output_type": "stream",
     "text": [
      "yMrHdISwreBiaJKHxTFhQ\n"
     ]
    }
   ],
   "source": [
    "# This will output a random string suitable for use as an encryption passcode\n",
    "!kli passcode generate"
   ]
  },
  {
   "cell_type": "markdown",
   "id": "551e61a0-6c18-4ced-99be-5f6a2b57e7e2",
   "metadata": {},
   "source": [
    "### Print a time stamp"
   ]
  },
  {
   "cell_type": "code",
   "execution_count": 4,
   "id": "5bf69bee-c4dd-42ec-abc6-f3055a34ce2e",
   "metadata": {},
   "outputs": [
    {
     "name": "stdout",
     "output_type": "stream",
     "text": [
      "2025-04-21T16:43:44.050468+00:00\n"
     ]
    }
   ],
   "source": [
    "!kli time"
   ]
  },
  {
   "cell_type": "markdown",
   "id": "1a0c23f7-9ea0-4c9b-94a5-25d269cb2317",
   "metadata": {},
   "source": [
    "### Display help menu"
   ]
  },
  {
   "cell_type": "code",
   "execution_count": 5,
   "id": "027d7f61-836b-4c0e-a5d2-c9d67932128b",
   "metadata": {},
   "outputs": [
    {
     "name": "stdout",
     "output_type": "stream",
     "text": [
      "usage: kli [-h] command ...\n",
      "\n",
      "options:\n",
      "  -h, --help       show this help message and exit\n",
      "\n",
      "subcommands:\n",
      "\n",
      "  command\n",
      "    aid            Print the AID for a given alias\n",
      "    challenge\n",
      "    clean          Cleans and migrates a database and keystore\n",
      "    contacts\n",
      "    decrypt        Decrypt arbitrary data for AIDs with Ed25519 p ...\n",
      "    delegate\n",
      "    did\n",
      "    ends\n",
      "    escrow\n",
      "    event          Print an event from an AID, or specific values ...\n",
      "    export         Export key events in CESR stream format\n",
      "    incept         Initialize a prefix\n",
      "    init           Create a database and keystore\n",
      "    interact       Create and publish an interaction event\n",
      "    introduce      Send an rpy /introduce message to recipient wi ...\n",
      "    ipex\n",
      "    kevers         Poll events at controller for prefix\n",
      "    list           List existing identifiers\n",
      "    local\n",
      "    location\n",
      "    mailbox\n",
      "    migrate\n",
      "    multisig\n",
      "    nonce          Print a new random nonce\n",
      "    notifications\n",
      "    oobi\n",
      "    passcode\n",
      "    query          Request KEL from Witness\n",
      "    rename         Change the alias for a local identifier\n",
      "    rollback       Revert an unpublished interaction event at the ...\n",
      "    rotate         Rotate keys\n",
      "    saidify        Saidify a JSON file.\n",
      "    salt           Print a new random passcode\n",
      "    sign           Sign an arbitrary string\n",
      "    ssh\n",
      "    status         View status of a local AID\n",
      "    time           Print a new time\n",
      "    vc\n",
      "    verify         Verify signature(s) on arbitrary data\n",
      "    version        Print version of KLI\n",
      "    watcher\n",
      "    witness\n"
     ]
    }
   ],
   "source": [
    "!kli -h"
   ]
  }
 ],
 "metadata": {
  "kernelspec": {
   "display_name": "Python 3 (ipykernel)",
   "language": "python",
   "name": "python3"
  },
  "language_info": {
   "codemirror_mode": {
    "name": "ipython",
    "version": 3
   },
   "file_extension": ".py",
   "mimetype": "text/x-python",
   "name": "python",
   "nbconvert_exporter": "python",
   "pygments_lexer": "ipython3",
   "version": "3.12.9"
  }
 },
 "nbformat": 4,
 "nbformat_minor": 5
}
