{
 "cells": [
  {
   "cell_type": "markdown",
   "id": "7ab6bcdc-126a-4466-a47f-9656edace967",
   "metadata": {
    "editable": true,
    "slideshow": {
     "slide_type": ""
    },
    "tags": []
   },
   "source": [
    "# Direct and Indirect Modes\n",
    "KERI provides a secure way to manage Identifiers and track control using verifiable logs of key events (KEL). How these logs are shared and verified between the controller and someone verifying that identifier leads to two operational modes: Direct and Indirect.\n",
    "\n",
    "## Direct Mode\n",
    "\n",
    "Direct Mode is a one-to-one approach, similar to a direct conversation.\n",
    "\n",
    "The controller shares their Key Event Log directly with a specific validator, who verifies the signatures and checks the cryptographic chain to ensure integrity. The method of sharing the KEL is implementation-dependent.\n",
    "\n",
    "Trust is based solely on verifying the controller’s own signatures, as the validator directly receives and validates the KEL.\n",
    "\n",
    "This mode is an option for interactions where both parties can connect directly, even if only occasionally, and need to be online to exchange new events or updates.  \n",
    "\n",
    "Although we haven't done any interaction so far, all the things we have done until this point fit within the direct mode approach.\n",
    "\n",
    "## Indirect Mode\n",
    "\n",
    "Indirect Mode is the highly-available approach, similar to using a trusted public bulletin board instead of direct messaging.\n",
    "\n",
    "It’s for scenarios where the controller may be offline or needs to support many validators at once. Rather than relying on direct communication, it introduces infrastructure to keep the event log reliably accessible.\n",
    "\n",
    "Trust extends beyond the controller’s signature, relying on a network of Witnesses that verify, sign, and store events.\n",
    "\n",
    "This mode is ideal for public identifiers, always-verifiable services, one-to-many interactions, or any situation where the controller can’t be constantly online.\n",
    "\n"
   ]
  },
  {
   "cell_type": "markdown",
   "id": "612d78f1-8485-49c2-8f86-ae28b8639944",
   "metadata": {},
   "source": [
    "## Out-of-Band Introductions (OOBIs)\n",
    "\n",
    "When an AID controller is operating in indirect mode, you need a way to tell others where they can find information about it, like its Key Event Log (KEL). This is where Out-of-Band Introductions (OOBIs) come in.\n",
    "\n",
    "**What is an OOBI?**\n",
    "\n",
    "An OOBI is a **discovery mechanism** used in KERI. Its primary purpose is to link a specific KERI AID  to a network location (a URL or URI) where information about that identifier can potentially be found.\n",
    "\n",
    "**Format:**\n",
    "\n",
    "The simplest form of an OOBI pairs an AID with a URL. It can be represented in various ways, For example:\n",
    "\n",
    "`(\"http://8.8.5.6:8080/oobi\", \"EaU6JR2nmwyZ-i0d8JZAoTNZH3ULvYAfSVPzhzS6b5CM\")`\n",
    "\n",
    "This OOBI suggests that information related to the AID `EaU6JR2nmwyZ-i0d8JZAoTNZH3ULvYAfSVPzhzS6b5CM` might be available at the service endpoint `http://8.8.5.6:8080/oobi`.\n",
    "\n",
    "**OOBIs are NOT Trusted**\n",
    "\n",
    "This is the most important concept to understand about OOBIs:\n",
    "\n",
    "* **The OOBI itself is untrusted.** Just because you receive an OOBI doesn't mean the link between the URL and the AID is legitimate.\n",
    "* **The data at the OOBI endpoint is untrusted.** Any information retrieved from the URL provided in the OOBI must be independently verified using KERI's cryptographic mechanisms (like checking signatures against the AID's KEL).\n",
    "\n",
    "**Discovery vs. Trust**\n",
    "\n",
    "OOBIs separate the problem of discovery from the problem of trust:\n",
    "\n",
    "1.  **Discovery (Out-of-Band):** OOBIs leverage existing internet infrastructure (like web servers, DNS, search engines, QR codes, emails) to share these `(url, aid)` pairs. This is considered \"out-of-band\" because it uses mechanisms outside the core KERI protocol guarantees.\n",
    "2.  **Trust (In-Band):** Once you use the OOBI's URL to retrieve data (e.g., a KEL), you *must* use KERI's standard \"in-band\" cryptographic verification processes to establish trust in that data. You verify the signatures and the event history according to KERI rules.\n",
    "\n",
    "OOBIs provide a flexible way to announce where KERI information might be found, relying on KERI's robust verification methods to ensure the trustworthiness of the information once retrieved.\n"
   ]
  },
  {
   "cell_type": "markdown",
   "id": "645f55bb-28f2-43bc-85df-4db56a549a18",
   "metadata": {},
   "source": [
    "# Witnesses\n",
    "\n",
    "Witnesses are entities designated by the controller within their AID key event log, acting much like trusted notaries. Their role is to receive key events directly from the controller, verify the controller’s signature, and check that each event aligns with the historical log they maintain.\n",
    "\n",
    "Once a witness confirms an event is valid and encounters it for the first time, it generates a receipt by signing the event (Witnesses also have their own AID). The witness then stores both the original event and its receipt, alongside receipts from other witnesses, in a local copy of the KEL known as the **Key Event Receipt Log (KERL)**.\n",
    "\n",
    "Witnesses play a critical role in ensuring the system’s reliability and integrity. They provide availability by forming a distributed service that validators can query to access the KEL of a given prefix, even if the controller itself is unavailable. Additionally, they help ensure consistency: since honest witnesses only sign the first valid version of an event they observe, it becomes significantly harder for a controller to present conflicting log versions (**duplicity**).\n",
    "\n",
    "It's important to note that witnesses are software components. For the system to improve security and availability, the witness should be deployed independently, ideally operated by different entities, on different infrastructure, from both the controller and each other.\n",
    "\n",
    "## Threshold of Accountable Duplicity (TOAD)\n",
    "\n",
    "A key challenge in maintaining the integrity of an identifier's history is preventing the controller from presenting conflicting versions of events. This situation, known as **duplicity**, occurs if a controller improperly signs two or more different key events purporting to be at the same sequence number in their Key Event Log (KEL) – for example, signing two different rotation events both claiming to be sequence number 3. Such conflicting statements undermine trust in the identifier's true state and control. Reasons for duplicity may be due to malicious intent or operational errors. KERI addresses this partly through the behavior of witnesses (who should only sign the first valid event they see per sequence number) and manages the *accountability* for potential duplicity using a specific threshold.\n",
    "\n",
    "To quantify the level of agreement needed and manage accountability for potential duplicity, the controller specifies a crucial parameter in their KEL: the **Threshold of Accountable Duplicity (TOAD)**. We have seen this parameter before when calling `kli incept`. The `toad` value represents the minimum number of unique witness receipts the controller considers sufficient to accept accountability for a key event.\n",
    "\n",
    "By gathering receipts that meet or exceed this controller-defined threshold (`toad`), validators gain assurance that the event history they’re watching is the one the controller stands behind and is broadly agreed upon by the witness network. Crucially, while the `toad` defines the controller's threshold for their accountability, a validator may independently establish its own, often higher, threshold of witness receipts required to accept an event as fully validated according to its trust policy. This threshold mechanism, allowing for distinct controller accountability and validator trust levels, is key to KERI's robust fault tolerance, helping distinguish between minor issues and significant, actionable inconsistencies.\n",
    "\n",
    "\n",
    "<div class=\"alert alert-prymary\">\n",
    "  <b>📝 SUMMARY</b><hr>\n",
    "\n",
    "    \n",
    "</div>"
   ]
  }
 ],
 "metadata": {
  "kernelspec": {
   "display_name": "Python 3 (ipykernel)",
   "language": "python",
   "name": "python3"
  },
  "language_info": {
   "codemirror_mode": {
    "name": "ipython",
    "version": 3
   },
   "file_extension": ".py",
   "mimetype": "text/x-python",
   "name": "python",
   "nbconvert_exporter": "python",
   "pygments_lexer": "ipython3",
   "version": "3.12.9"
  }
 },
 "nbformat": 4,
 "nbformat_minor": 5
}
