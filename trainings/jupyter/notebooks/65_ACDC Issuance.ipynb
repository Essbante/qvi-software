{
 "cells": [
  {
   "cell_type": "code",
   "execution_count": 2,
   "id": "e54b28d5-359f-4b78-bb76-5a68ec90c21f",
   "metadata": {
    "editable": true,
    "slideshow": {
     "slide_type": ""
    },
    "tags": []
   },
   "outputs": [],
   "source": [
    "# Imports and Utility functions\n",
    "from scripts.utils import clear_keri, exec\n",
    "from scripts.saidify import process_schema_file, get_schema_said\n"
   ]
  },
  {
   "cell_type": "markdown",
   "id": "4d7594dd-a571-466e-b23e-b8b9049431af",
   "metadata": {},
   "source": [
    "## Holder setup (boilerplate)"
   ]
  },
  {
   "cell_type": "code",
   "execution_count": 3,
   "id": "0497f20c-e367-4b8f-9106-a28756ffa405",
   "metadata": {},
   "outputs": [
    {
     "name": "stdout",
     "output_type": "stream",
     "text": [
      "KERI Keystore created at: /usr/local/var/keri/ks/holder_ks\n",
      "KERI Database created at: /usr/local/var/keri/db/holder_ks\n",
      "KERI Credential Store created at: /usr/local/var/keri/reg/holder_ks\n",
      "\taeid: BN2jGz0QnYlS9FI7YFlMextPmKUhXtP9lSoUCB2k-JqW\n",
      "\n",
      "Loading 3 OOBIs...\n",
      "http://witness-demo:5642/oobi/BBilc4-L3tFUnfM_wJr4S4OJanAv_VmF_dJNN6vkf2Ha/controller?name=Wan&tag=witness succeeded\n",
      "http://witness-demo:5643/oobi/BLskRTInXnMxWaGqcpSyMgo0nYbalW99cGZESrz3zapM/controller?name=Wes&tag=witness succeeded\n",
      "http://witness-demo:5644/oobi/BIKKuvBwpmDVA4Ds-EpL5bt9OqPzWPja2LigFYZN2YfX/controller?name=Wil&tag=witness succeeded\n",
      "Waiting for witness receipts...\n",
      "Prefix  EMQ_Vp-SLVNxjgF7iBBjeEoCJqzLEL3AS5ON3u7FNczk\n",
      "\tPublic key 1:  DN74yk0Boftyxz3QKmwUpFqVePas226Dzeb4OevpJoK3\n",
      "\n"
     ]
    }
   ],
   "source": [
    "holder_keystore_name=\"holder_ks\"\n",
    "\n",
    "holder_keystore_passcode=\"ABUnWDBJBkdTvRzKYk8AL\"\n",
    "\n",
    "holder_keystore_salt=\"0ADIqYVhAek3wf-nXSHWE3e7\"\n",
    "# Alias for our non-transferable AID\n",
    "holder_aid = \"holder_aid\"\n",
    "\n",
    "# Initialize the keystore\n",
    "!kli init --name {holder_keystore_name} --passcode {holder_keystore_passcode} --salt {holder_keystore_salt}\\\n",
    "    --config-dir ./config \\\n",
    "    --config-file keystore_init_config.json\n",
    "\n",
    "!kli incept --name {holder_keystore_name} --alias {holder_aid} --passcode {holder_keystore_passcode} \\\n",
    "    --file ./config/aid_inception_config.json"
   ]
  },
  {
   "cell_type": "markdown",
   "id": "8ee00c85-84ed-4160-a873-040939e22c43",
   "metadata": {},
   "source": [
    "## Issuer setup (boilerplate)"
   ]
  },
  {
   "cell_type": "code",
   "execution_count": 4,
   "id": "8bdb02d4-c04b-4d06-a9b0-128262ea6c9e",
   "metadata": {},
   "outputs": [
    {
     "name": "stdout",
     "output_type": "stream",
     "text": [
      "KERI Keystore created at: /usr/local/var/keri/ks/issuer_ks\n",
      "KERI Database created at: /usr/local/var/keri/db/issuer_ks\n",
      "KERI Credential Store created at: /usr/local/var/keri/reg/issuer_ks\n",
      "\taeid: BD-1udeJaXFzKbSUFb6nhmndaLlMj-pdlNvNoN562h3z\n",
      "\n",
      "Loading 3 OOBIs...\n",
      "http://witness-demo:5642/oobi/BBilc4-L3tFUnfM_wJr4S4OJanAv_VmF_dJNN6vkf2Ha/controller?name=Wan&tag=witness succeeded\n",
      "http://witness-demo:5643/oobi/BLskRTInXnMxWaGqcpSyMgo0nYbalW99cGZESrz3zapM/controller?name=Wes&tag=witness succeeded\n",
      "http://witness-demo:5644/oobi/BIKKuvBwpmDVA4Ds-EpL5bt9OqPzWPja2LigFYZN2YfX/controller?name=Wil&tag=witness succeeded\n",
      "Waiting for witness receipts...\n",
      "Prefix  EFqJOaYwujq_qKqyIhfdXw7A3yzitZzSQydcKv7hvenR\n",
      "\tPublic key 1:  DFWmDRLmu91G4RSBGinDKecN8R9TbXxSG668cDlt0UMO\n",
      "\n"
     ]
    }
   ],
   "source": [
    "# Issuer setup\n",
    "issuer_keystore_name=\"issuer_ks\"\n",
    "\n",
    "issuer_keystore_passcode=\"xSLg286d4iWiRg2mzGYca\"\n",
    "\n",
    "issuer_keystore_salt=\"0ABeuT2dErMrqFE5Dmrnc2Bq\"\n",
    "# Alias for our non-transferable AID\n",
    "issuer_aid = \"issuer_aid\"\n",
    "\n",
    "# Initialize the keystore\n",
    "!kli init --name {issuer_keystore_name} --passcode {issuer_keystore_passcode} --salt {issuer_keystore_salt}\\\n",
    "    --config-dir ./config \\\n",
    "    --config-file keystore_init_config.json\n",
    "\n",
    "!kli incept --name {issuer_keystore_name} --passcode {issuer_keystore_passcode} --alias {issuer_aid}  \\\n",
    "    --file ./config/aid_inception_config.json"
   ]
  },
  {
   "cell_type": "markdown",
   "id": "1713e2f0-49f9-4cd7-8c5a-2303085f57d0",
   "metadata": {},
   "source": [
    "## Issuer/Holder OOBI \n",
    "\n",
    "we skip the challenge reponse!"
   ]
  },
  {
   "cell_type": "code",
   "execution_count": 5,
   "id": "5cddc486-a738-4df9-aa9b-0bb1bdbb9e84",
   "metadata": {},
   "outputs": [
    {
     "name": "stdout",
     "output_type": "stream",
     "text": [
      "http://witness-demo:5642/oobi/EFqJOaYwujq_qKqyIhfdXw7A3yzitZzSQydcKv7hvenR/witness resolved\n",
      "http://witness-demo:5642/oobi/EMQ_Vp-SLVNxjgF7iBBjeEoCJqzLEL3AS5ON3u7FNczk/witness resolved\n"
     ]
    }
   ],
   "source": [
    "holder_oobi_gen = f\"kli oobi generate --name {holder_keystore_name} --alias {holder_aid} --passcode {holder_keystore_passcode} --role witness\"\n",
    "holder_oobi = exec(holder_oobi_gen)\n",
    "\n",
    "issuer_oobi_gen = f\"kli oobi generate --name {issuer_keystore_name} --alias {issuer_aid} --passcode {issuer_keystore_passcode} --role witness\"\n",
    "issuer_oobi = exec(issuer_oobi_gen)\n",
    "\n",
    "!kli oobi resolve --name {holder_keystore_name} --passcode {holder_keystore_passcode} --oobi-alias {issuer_aid} \\\n",
    "    --oobi {issuer_oobi}\n",
    "\n",
    "!kli oobi resolve --name {issuer_keystore_name} --passcode {issuer_keystore_passcode} --oobi-alias {holder_aid}\\\n",
    "    --oobi {holder_oobi}"
   ]
  },
  {
   "cell_type": "markdown",
   "id": "66089e8d-8119-4856-bd8a-524b63fce27e",
   "metadata": {},
   "source": [
    "## Issuer Registry\n",
    "\n",
    "The registry’s management TEL will be used to keep track of the backers for each credential."
   ]
  },
  {
   "cell_type": "code",
   "execution_count": 6,
   "id": "97af974c-f638-427d-9eb2-05727ded10fa",
   "metadata": {},
   "outputs": [
    {
     "name": "stdout",
     "output_type": "stream",
     "text": [
      "Waiting for TEL event witness receipts\n",
      "Sending TEL events to witnesses\n",
      "Registry:  issuer_registry(EMS4uSjZrpu_f9V3oFFzxtPVfgvkCBd__GjKdyVa_coe) \n",
      "\tcreated for Identifier Prefix:  EFqJOaYwujq_qKqyIhfdXw7A3yzitZzSQydcKv7hvenR\n"
     ]
    }
   ],
   "source": [
    "issuer_registry_name=\"issuer_registry\"\n",
    "\n",
    "!kli vc registry incept --name {issuer_keystore_name} --passcode {issuer_keystore_passcode} \\\n",
    "    --registry-name {issuer_registry_name} \\\n",
    "    --alias {issuer_aid}"
   ]
  },
  {
   "cell_type": "code",
   "execution_count": 36,
   "id": "50210a7e-bc51-4075-8907-4c80d64faaf6",
   "metadata": {},
   "outputs": [
    {
     "name": "stdout",
     "output_type": "stream",
     "text": [
      "Registry:  EMS4uSjZrpu_f9V3oFFzxtPVfgvkCBd__GjKdyVa_coe\n",
      "Seq No.  0\n",
      "    Controlling Identifier:  EFqJOaYwujq_qKqyIhfdXw7A3yzitZzSQydcKv7hvenR\n",
      "\n",
      "Backers: Not supported\n",
      "Events:\tInteraction Allowed\n",
      "\n"
     ]
    }
   ],
   "source": [
    "!kli vc registry status --name {issuer_keystore_name} --passcode {issuer_keystore_passcode} --registry-name {issuer_registry_name} "
   ]
  },
  {
   "cell_type": "markdown",
   "id": "5bdedefb-33fb-4046-9767-f8f047c08203",
   "metadata": {},
   "source": [
    "## Schema preparation"
   ]
  },
  {
   "cell_type": "code",
   "execution_count": 12,
   "id": "3887e5dd-68c2-442c-bbdc-87c54ba81c2c",
   "metadata": {},
   "outputs": [
    {
     "name": "stdout",
     "output_type": "stream",
     "text": [
      "Successfully wrote processed data to config/schemas/event_pass_schema.json\n",
      "EGUPiCVO73M9worPwR3PfThAtC0AJnH5ZgwsXf6TzbVK\n"
     ]
    }
   ],
   "source": [
    "process_schema_file(\"config/schemas/event_pass_schema.bak.json\", \"config/schemas/event_pass_schema.json\") \n",
    "\n",
    "schema_said = get_schema_said(\"config/schemas/event_pass_schema.json\")\n",
    "\n",
    "print(schema_said)\n"
   ]
  },
  {
   "cell_type": "markdown",
   "id": "f60523e9-e45a-4744-a53c-11d46178e222",
   "metadata": {},
   "source": [
    "### vLEI-server\n",
    "pre configured"
   ]
  },
  {
   "cell_type": "code",
   "execution_count": null,
   "id": "fb396f82-a206-42b9-858d-fe9ce5f19296",
   "metadata": {},
   "outputs": [],
   "source": [
    "!curl -s http://vlei-server:7723/oobi/{schema_said} | jq"
   ]
  },
  {
   "cell_type": "markdown",
   "id": "4a01b51b-96dc-465d-9ed8-d346e3237bf1",
   "metadata": {},
   "source": [
    "### Resolve Schema oobi"
   ]
  },
  {
   "cell_type": "code",
   "execution_count": 16,
   "id": "4740c92f-1f44-458d-9f68-212ddd0f5ee7",
   "metadata": {},
   "outputs": [
    {
     "name": "stdout",
     "output_type": "stream",
     "text": [
      "http://vlei-server:7723/oobi/EGUPiCVO73M9worPwR3PfThAtC0AJnH5ZgwsXf6TzbVK resolved\n",
      "http://vlei-server:7723/oobi/EGUPiCVO73M9worPwR3PfThAtC0AJnH5ZgwsXf6TzbVK resolved\n"
     ]
    }
   ],
   "source": [
    "schema_oobi_alias = \"credential_oobi\"\n",
    "schema_oobi = f\"http://vlei-server:7723/oobi/{schema_said}\"\n",
    "\n",
    "!kli oobi resolve --name {holder_keystore_name} --passcode {holder_keystore_passcode} --oobi-alias {schema_oobi_alias} \\\n",
    "    --oobi {schema_oobi}\n",
    "\n",
    "!kli oobi resolve --name {issuer_keystore_name} --passcode {issuer_keystore_passcode} --oobi-alias {schema_oobi_alias}\\\n",
    "    --oobi {schema_oobi}"
   ]
  },
  {
   "cell_type": "markdown",
   "id": "3230209c-ad6e-4649-8442-304afabaf659",
   "metadata": {},
   "source": [
    "### Prepare credential data\n",
    "\n",
    "pre-define, see file"
   ]
  },
  {
   "cell_type": "code",
   "execution_count": 17,
   "id": "a7f987da-192b-41d1-84b3-7e3f1714c685",
   "metadata": {},
   "outputs": [
    {
     "name": "stdout",
     "output_type": "stream",
     "text": [
      "{\n",
      "    \"eventName\":\"GLEIF Summit\",\n",
      "    \"accessLevel\":\"staff\",\n",
      "    \"validDate\":\"2026-10-01\"\n",
      "}"
     ]
    }
   ],
   "source": [
    "!cat config/credential_data/event_pass_cred_data.json"
   ]
  },
  {
   "cell_type": "markdown",
   "id": "7562c490-5c87-4c8d-b52c-1081c678f732",
   "metadata": {},
   "source": [
    "### Create credential"
   ]
  },
  {
   "cell_type": "code",
   "execution_count": 21,
   "id": "756b2a82-f271-42ca-879e-002380119feb",
   "metadata": {},
   "outputs": [
    {
     "name": "stdout",
     "output_type": "stream",
     "text": [
      "Waiting for TEL event witness receipts\n",
      "Sending TEL events to witnesses\n",
      "ENjiuQ5uffynvzZCUOM85f9d0xLNEDSnweiQ5i2p0-Bp has been created.\n"
     ]
    }
   ],
   "source": [
    "time = exec(\"kli time\")\n",
    "\n",
    "!kli vc create --name {issuer_keystore_name} --passcode {issuer_keystore_passcode} \\\n",
    "    --alias {issuer_aid} \\\n",
    "    --registry-name {issuer_registry_name} \\\n",
    "    --schema {schema_said} \\\n",
    "    --recipient {holder_aid} \\\n",
    "    --data \"@./config/credential_data/event_pass_cred_data.json\" \\\n",
    "    --time {time}"
   ]
  },
  {
   "cell_type": "code",
   "execution_count": 29,
   "id": "c531d591-80dc-4670-8968-72a549eea80a",
   "metadata": {},
   "outputs": [
    {
     "name": "stdout",
     "output_type": "stream",
     "text": [
      "Current issued credentials for issuer_aid (EFqJOaYwujq_qKqyIhfdXw7A3yzitZzSQydcKv7hvenR):\n",
      "\n",
      "Credential #1: EHbIXl1Ek6XWBw8sZi3HFquUwyVz9kwbpP-01hMEJeJk\n",
      "    Type: EventPass\n",
      "    Status: Issued \u001b[92m✔\u001b[0m\n",
      "    Issued by EFqJOaYwujq_qKqyIhfdXw7A3yzitZzSQydcKv7hvenR\n",
      "    Issued on 2025-04-25T06:30:00.429590+00:00\n",
      "    Full Credential:\n",
      "\t{\n",
      "\t  \"v\": \"ACDC10JSON0001c4_\",\n",
      "\t  \"d\": \"EHbIXl1Ek6XWBw8sZi3HFquUwyVz9kwbpP-01hMEJeJk\",\n",
      "\t  \"i\": \"EFqJOaYwujq_qKqyIhfdXw7A3yzitZzSQydcKv7hvenR\",\n",
      "\t  \"ri\": \"EMS4uSjZrpu_f9V3oFFzxtPVfgvkCBd__GjKdyVa_coe\",\n",
      "\t  \"s\": \"EGUPiCVO73M9worPwR3PfThAtC0AJnH5ZgwsXf6TzbVK\",\n",
      "\t  \"a\": {\n",
      "\t    \"d\": \"EO8aVZNHZ_1PyhJBfQRiH9-WNA_zziyI4_8DZUZKNJ6m\",\n",
      "\t    \"i\": \"EMQ_Vp-SLVNxjgF7iBBjeEoCJqzLEL3AS5ON3u7FNczk\",\n",
      "\t    \"dt\": \"2025-04-25T06:30:00.429590+00:00\",\n",
      "\t    \"eventName\": \"GLEIF Summit\",\n",
      "\t    \"accessLevel\": \"staff\",\n",
      "\t    \"validDate\": \"2026-10-01\"\n",
      "\t  }\n",
      "\t}\n",
      "Credential #2: ENjiuQ5uffynvzZCUOM85f9d0xLNEDSnweiQ5i2p0-Bp\n",
      "    Type: EventPass\n",
      "    Status: Issued \u001b[92m✔\u001b[0m\n",
      "    Issued by EFqJOaYwujq_qKqyIhfdXw7A3yzitZzSQydcKv7hvenR\n",
      "    Issued on 2025-04-25T06:47:53.195845+00:00\n",
      "    Full Credential:\n",
      "\t{\n",
      "\t  \"v\": \"ACDC10JSON0001c4_\",\n",
      "\t  \"d\": \"ENjiuQ5uffynvzZCUOM85f9d0xLNEDSnweiQ5i2p0-Bp\",\n",
      "\t  \"i\": \"EFqJOaYwujq_qKqyIhfdXw7A3yzitZzSQydcKv7hvenR\",\n",
      "\t  \"ri\": \"EMS4uSjZrpu_f9V3oFFzxtPVfgvkCBd__GjKdyVa_coe\",\n",
      "\t  \"s\": \"EGUPiCVO73M9worPwR3PfThAtC0AJnH5ZgwsXf6TzbVK\",\n",
      "\t  \"a\": {\n",
      "\t    \"d\": \"ELoRx1PhLKYCznj0qvVr3rahGJrT27qWeYY_crSSGROm\",\n",
      "\t    \"i\": \"EMQ_Vp-SLVNxjgF7iBBjeEoCJqzLEL3AS5ON3u7FNczk\",\n",
      "\t    \"dt\": \"2025-04-25T06:47:53.195845+00:00\",\n",
      "\t    \"eventName\": \"GLEIF Summit\",\n",
      "\t    \"accessLevel\": \"staff\",\n",
      "\t    \"validDate\": \"2026-10-01\"\n",
      "\t  }\n",
      "\t}\n"
     ]
    }
   ],
   "source": [
    "!kli vc list  --name {issuer_keystore_name} --passcode {issuer_keystore_passcode} --issued --verbose"
   ]
  },
  {
   "cell_type": "markdown",
   "id": "fe7b3ab5-3c1b-425f-ada9-3a317bfd9efd",
   "metadata": {},
   "source": [
    "### Get credential SAID"
   ]
  },
  {
   "cell_type": "code",
   "execution_count": 39,
   "id": "0d1ab540-957b-417f-8249-1ec41bfe18fc",
   "metadata": {},
   "outputs": [
    {
     "name": "stdout",
     "output_type": "stream",
     "text": [
      "EHbIXl1Ek6XWBw8sZi3HFquUwyVz9kwbpP-01hMEJeJk\n"
     ]
    }
   ],
   "source": [
    "get_credential_said = f\"kli vc list --name {issuer_keystore_name} --passcode {issuer_keystore_passcode} --alias {issuer_aid} --issued --said --schema {schema_said}\"\n",
    "credential_said=exec(get_credential_said)\n",
    "\n",
    "print(credential_said)"
   ]
  },
  {
   "cell_type": "markdown",
   "id": "a3bf5189-e0cc-45ed-bbe2-f23a0674c6e0",
   "metadata": {},
   "source": [
    "### Issuer initiate Ipex exchange (credential offer)"
   ]
  },
  {
   "cell_type": "code",
   "execution_count": 41,
   "id": "1552863b-e000-4680-afb9-8f1b9a1883ba",
   "metadata": {},
   "outputs": [
    {
     "name": "stdout",
     "output_type": "stream",
     "text": [
      "Sending message EJqMFDOQtFVueAgcivrxTUMHWNfuSaE4n2aQzY7vlLCi to EMQ_Vp-SLVNxjgF7iBBjeEoCJqzLEL3AS5ON3u7FNczk\n",
      "... grant message sent\n"
     ]
    }
   ],
   "source": [
    "time = exec(\"kli time\")\n",
    "\n",
    "!kli ipex grant \\\n",
    "    --name {issuer_keystore_name} \\\n",
    "    --passcode {issuer_keystore_passcode} \\\n",
    "    --alias {issuer_aid} \\\n",
    "    --said {credential_said} \\\n",
    "    --recipient {holder_aid} \\\n",
    "    --time {time}"
   ]
  },
  {
   "cell_type": "markdown",
   "id": "3f27c31a-21bd-45c9-b6c9-7210ceadef7e",
   "metadata": {},
   "source": [
    "### Holder poll mailbox and get message said (IPEX Message)"
   ]
  },
  {
   "cell_type": "code",
   "execution_count": 45,
   "id": "d4172a81-403a-47ad-904d-c8be644d9a6c",
   "metadata": {},
   "outputs": [
    {
     "name": "stdout",
     "output_type": "stream",
     "text": [
      "EJqMFDOQtFVueAgcivrxTUMHWNfuSaE4n2aQzY7vlLCi\n"
     ]
    }
   ],
   "source": [
    "!kli ipex list \\\n",
    "    --name {holder_keystore_name} \\\n",
    "    --passcode {holder_keystore_passcode} \\\n",
    "    --alias {holder_aid} \\\n",
    "    --poll \\\n",
    "    --said\n",
    "\n",
    "get_ipex_said=f\"kli ipex list --name {holder_keystore_name} --passcode {holder_keystore_passcode} --alias {holder_aid} --poll --said\"\n",
    "ipex_said=exec(get_ipex_said)"
   ]
  },
  {
   "cell_type": "markdown",
   "id": "efdd8f12-f41b-4b77-baf9-758daab9f22a",
   "metadata": {},
   "source": [
    "### Holder accept credential "
   ]
  },
  {
   "cell_type": "code",
   "execution_count": 46,
   "id": "2bc2bc8d-d200-4f24-89be-01c7639d4b4e",
   "metadata": {},
   "outputs": [
    {
     "name": "stdout",
     "output_type": "stream",
     "text": [
      "Sending admit message to EFqJOaYwujq_qKqyIhfdXw7A3yzitZzSQydcKv7hvenR\n",
      "... admit message sent\n"
     ]
    }
   ],
   "source": [
    "time = exec(\"kli time\")\n",
    "\n",
    "!kli ipex admit \\\n",
    "    --name {holder_keystore_name} \\\n",
    "    --passcode {holder_keystore_passcode} \\\n",
    "    --alias {holder_aid} \\\n",
    "    --said {ipex_said} \\\n",
    "    --time {time}\n",
    "\n"
   ]
  },
  {
   "cell_type": "markdown",
   "id": "59e68492-36db-4325-8bf8-f550ef346413",
   "metadata": {},
   "source": [
    "### Holder display credential"
   ]
  },
  {
   "cell_type": "code",
   "execution_count": 48,
   "id": "ed8b18ec-b9b9-40df-84d1-2dcb652852af",
   "metadata": {},
   "outputs": [
    {
     "name": "stdout",
     "output_type": "stream",
     "text": [
      "Current received credentials for holder_aid (EMQ_Vp-SLVNxjgF7iBBjeEoCJqzLEL3AS5ON3u7FNczk):\n",
      "\n",
      "Credential #1: EHbIXl1Ek6XWBw8sZi3HFquUwyVz9kwbpP-01hMEJeJk\n",
      "    Type: EventPass\n",
      "    Status: Issued \u001b[92m✔\u001b[0m\n",
      "    Issued by EFqJOaYwujq_qKqyIhfdXw7A3yzitZzSQydcKv7hvenR\n",
      "    Issued on 2025-04-25T06:30:00.429590+00:00\n",
      "    Full Credential:\n",
      "\t{\n",
      "\t  \"v\": \"ACDC10JSON0001c4_\",\n",
      "\t  \"d\": \"EHbIXl1Ek6XWBw8sZi3HFquUwyVz9kwbpP-01hMEJeJk\",\n",
      "\t  \"i\": \"EFqJOaYwujq_qKqyIhfdXw7A3yzitZzSQydcKv7hvenR\",\n",
      "\t  \"ri\": \"EMS4uSjZrpu_f9V3oFFzxtPVfgvkCBd__GjKdyVa_coe\",\n",
      "\t  \"s\": \"EGUPiCVO73M9worPwR3PfThAtC0AJnH5ZgwsXf6TzbVK\",\n",
      "\t  \"a\": {\n",
      "\t    \"d\": \"EO8aVZNHZ_1PyhJBfQRiH9-WNA_zziyI4_8DZUZKNJ6m\",\n",
      "\t    \"i\": \"EMQ_Vp-SLVNxjgF7iBBjeEoCJqzLEL3AS5ON3u7FNczk\",\n",
      "\t    \"dt\": \"2025-04-25T06:30:00.429590+00:00\",\n",
      "\t    \"eventName\": \"GLEIF Summit\",\n",
      "\t    \"accessLevel\": \"staff\",\n",
      "\t    \"validDate\": \"2026-10-01\"\n",
      "\t  }\n",
      "\t}\n"
     ]
    }
   ],
   "source": [
    "!kli vc list  --name {holder_keystore_name} --passcode {holder_keystore_passcode} --verbose"
   ]
  },
  {
   "cell_type": "code",
   "execution_count": null,
   "id": "8fd25ac6-37ad-4854-aa62-df05be9c693e",
   "metadata": {},
   "outputs": [],
   "source": []
  },
  {
   "cell_type": "code",
   "execution_count": 49,
   "id": "17934a74-f309-4ba9-a50d-2f1bda9d1d56",
   "metadata": {},
   "outputs": [
    {
     "name": "stdout",
     "output_type": "stream",
     "text": [
      "usage: kli ipex grant [-h] --name NAME --alias ALIAS [--base BASE]\n",
      "                      [--passcode BRAN] --recipient RECIPIENT --said SAID\n",
      "                      [--message MESSAGE] [--time TIME]\n",
      "\n",
      "Reply to IPEX agree message or initiate an IPEX exchange with a credential\n",
      "issuance or presentation\n",
      "\n",
      "options:\n",
      "  -h, --help            show this help message and exit\n",
      "  --name NAME, -n NAME  keystore name and file location of KERI keystore\n",
      "  --alias ALIAS, -a ALIAS\n",
      "                        human readable alias for the identifier to whom the\n",
      "                        credential was issued\n",
      "  --base BASE, -b BASE  additional optional prefix to file location of KERI\n",
      "                        keystore\n",
      "  --passcode BRAN, -p BRAN\n",
      "                        21 character encryption passcode for keystore (is not\n",
      "                        saved)\n",
      "  --recipient RECIPIENT, -r RECIPIENT\n",
      "                        alias or qb64 identifier prefix of the self.recp of\n",
      "                        the credential\n",
      "  --said SAID, -s SAID  SAID of the credential to grant\n",
      "  --message MESSAGE, -m MESSAGE\n",
      "                        optional human readable message to send to recipient\n",
      "  --time TIME           timestamp for the revocation\n"
     ]
    }
   ],
   "source": [
    "!kli ipex grant -h"
   ]
  },
  {
   "cell_type": "markdown",
   "id": "41ac1451-451d-43d3-8e6e-222ca7474a49",
   "metadata": {},
   "source": [
    "# Issuing an ACDC\n",
    "\n",
    "**Objective:** Learn how to create a Credential Registry and issue a basic Authentic Chained Data Container (ACDC) using the KERI command-line interface (`kli`).\n",
    "\n",
    "*(Assumed Knowledge: You should understand ACDCs and Schemas and have a SAIDified schema file ready, e.g., `sample_credential_schema.json` with its calculated SAID.)*\n",
    "\n",
    "## Credential Registries (TELs)\n",
    "\n",
    "Before an issuer can start creating ACDCs, it needs a way to manage its issuance and revocation status. In KERI, this is handled by a **Credential Registry**.\n",
    "\n",
    "Think of a registry as a dedicated ledger within the issuer's environment, specifically for tracking the credentials they issue. Under the hood, this registry uses one or more **Transaction Event Logs (TELs)**.\n",
    "\n",
    "* **What is a TEL?** A TEL is another secure, append-only log, similar to a KEL (Key Event Log). However, instead of tracking key events for an identifier (AID), a TEL tracks events related to credentials issued under that AID, such as issuance (`iss`) and revocation (`rev`).\n",
    "* **Anchoring:** Events in a TEL are cryptographically anchored back to the issuer's main KEL. This ensures that the credential's status is tied to the issuer's control authority.\n",
    "* **Management TEL:** When you create a registry, a special *management* TEL is created first. This management TEL tracks the overall registry configuration. Later, when individual credentials are issued, they get their *own* TELs to track their specific status, linked back to the management TEL.\n",
    "\n"
   ]
  },
  {
   "cell_type": "markdown",
   "id": "6dc1ef8c-472d-4726-b320-a67505faf5ed",
   "metadata": {},
   "source": [
    "Create 2 keystores\n",
    "Create a registry on each keystore\n",
    "\n",
    "concepts:  \n",
    "- credential registry\n",
    "- TEL A transaction event log is a log of all events occurring for a verifiable credential or a credential registry\n",
    "    - Management TEL:\n",
    "        - registrars (backers) \n",
    "    - VC TEL: \n",
    "- event icp\n",
    "- event ixn (registry creation)\n",
    "- Backers\n",
    "- Public Transaction Event Logs (PTEL):\n",
    "    - use TEL to connect to connect ACDC with KEL\n",
    "    - Credential lifecycle (issuance and revocation)  \n",
    "- and the Issuance and Presentation Exchange (IPEX) protocols"
   ]
  },
  {
   "cell_type": "code",
   "execution_count": null,
   "id": "54eebfa8-e662-4851-bf8c-ea0f2689ce71",
   "metadata": {},
   "outputs": [],
   "source": [
    "clear_keri()"
   ]
  }
 ],
 "metadata": {
  "kernelspec": {
   "display_name": "Python 3 (ipykernel)",
   "language": "python",
   "name": "python3"
  },
  "language_info": {
   "codemirror_mode": {
    "name": "ipython",
    "version": 3
   },
   "file_extension": ".py",
   "mimetype": "text/x-python",
   "name": "python",
   "nbconvert_exporter": "python",
   "pygments_lexer": "ipython3",
   "version": "3.12.9"
  }
 },
 "nbformat": 4,
 "nbformat_minor": 5
}
