{
 "cells": [
  {
   "cell_type": "code",
   "execution_count": 4,
   "id": "e54b28d5-359f-4b78-bb76-5a68ec90c21f",
   "metadata": {
    "editable": true,
    "slideshow": {
     "slide_type": ""
    },
    "tags": []
   },
   "outputs": [],
   "source": [
    "# Imports and Utility functions\n",
    "from scripts.utils import clear_keri, exec\n",
    "from scripts.saidify import process_schema_file, get_schema_said\n"
   ]
  },
  {
   "cell_type": "markdown",
   "id": "621f0f2e-a40c-43e9-a3c1-881d41db097d",
   "metadata": {
    "editable": true,
    "slideshow": {
     "slide_type": ""
    },
    "tags": []
   },
   "source": [
    "# VC IPEX"
   ]
  },
  {
   "cell_type": "markdown",
   "id": "31e4f9aa-ba6d-4625-814e-d5faf53803c2",
   "metadata": {
    "editable": true,
    "slideshow": {
     "slide_type": ""
    },
    "tags": []
   },
   "source": [
    "## Setup holder and verifier"
   ]
  },
  {
   "cell_type": "markdown",
   "id": "4d7594dd-a571-466e-b23e-b8b9049431af",
   "metadata": {},
   "source": [
    "### Holder setup (boilerplate)\n",
    "\n",
    "This should be familiar by now; we initialize a keystore for the holder of the credential"
   ]
  },
  {
   "cell_type": "code",
   "execution_count": null,
   "id": "0497f20c-e367-4b8f-9106-a28756ffa405",
   "metadata": {
    "editable": true,
    "slideshow": {
     "slide_type": ""
    },
    "tags": []
   },
   "outputs": [
    {
     "name": "stdout",
     "output_type": "stream",
     "text": [
      "ERR: Last seed missing or provided last seed not associated with last aeid=BOmCm9hIUqgObUJVDLX0N8wi7DgWlENG7vumiHrcJwnV.\n",
      "Last seed missing or provided last seed not associated with last aeid=BOmCm9hIUqgObUJVDLX0N8wi7DgWlENG7vumiHrcJwnV.\n",
      "Valid passcode required, try again...\n",
      "Passcode: "
     ]
    }
   ],
   "source": [
    "holder_keystore_name = \"holder_ks\"\n",
    "\n",
    "holder_keystore_passcode = exec(\"kli passcode generate\")\n",
    "\n",
    "holder_keystore_salt = exec(\"kli salt\")\n",
    "# Alias for our non-transferable AID\n",
    "holder_aid = \"holder_aid\"\n",
    "\n",
    "# Initialize the keystore\n",
    "!kli init --name {holder_keystore_name} --passcode {holder_keystore_passcode} --salt {holder_keystore_salt}\\\n",
    "    --config-dir ./config \\\n",
    "    --config-file keystore_init_config.json\n",
    "\n",
    "!kli incept --name {holder_keystore_name} --alias {holder_aid} --passcode {holder_keystore_passcode} \\\n",
    "    --file ./config/aid_inception_config.json"
   ]
  },
  {
   "cell_type": "markdown",
   "id": "8ee00c85-84ed-4160-a873-040939e22c43",
   "metadata": {
    "editable": true,
    "slideshow": {
     "slide_type": ""
    },
    "tags": []
   },
   "source": [
    "### Issuer setup (boilerplate)\n",
    "\n",
    "We do the same for the issuer"
   ]
  },
  {
   "cell_type": "code",
   "execution_count": null,
   "id": "8bdb02d4-c04b-4d06-a9b0-128262ea6c9e",
   "metadata": {},
   "outputs": [],
   "source": [
    "# Issuer setup\n",
    "issuer_keystore_name = \"issuer_ks\"\n",
    "\n",
    "issuer_keystore_passcode = exec(\"kli passcode generate\")\n",
    "\n",
    "issuer_keystore_salt = exec(\"kli salt\")\n",
    "# Alias for our non-transferable AID\n",
    "issuer_aid = \"issuer_aid\"\n",
    "\n",
    "# Initialize the keystore\n",
    "!kli init --name {issuer_keystore_name} --passcode {issuer_keystore_passcode} --salt {issuer_keystore_salt}\\\n",
    "    --config-dir ./config \\\n",
    "    --config-file keystore_init_config.json\n",
    "\n",
    "!kli incept --name {issuer_keystore_name} --passcode {issuer_keystore_passcode} --alias {issuer_aid}  \\\n",
    "    --file ./config/aid_inception_config.json"
   ]
  },
  {
   "cell_type": "markdown",
   "id": "1713e2f0-49f9-4cd7-8c5a-2303085f57d0",
   "metadata": {},
   "source": [
    "### Issuer/Holder OOBI \n",
    "\n",
    "Now, the issuer and holder need to establish a connection by resolving OOBIS. (This time we skip the challenge/reponse for convenience)"
   ]
  },
  {
   "cell_type": "code",
   "execution_count": null,
   "id": "5cddc486-a738-4df9-aa9b-0bb1bdbb9e84",
   "metadata": {},
   "outputs": [],
   "source": [
    "holder_oobi_gen = f\"kli oobi generate --name {holder_keystore_name} --alias {holder_aid} --passcode {holder_keystore_passcode} --role witness\"\n",
    "holder_oobi = exec(holder_oobi_gen)\n",
    "\n",
    "issuer_oobi_gen = f\"kli oobi generate --name {issuer_keystore_name} --alias {issuer_aid} --passcode {issuer_keystore_passcode} --role witness\"\n",
    "issuer_oobi = exec(issuer_oobi_gen)\n",
    "\n",
    "!kli oobi resolve --name {holder_keystore_name} --passcode {holder_keystore_passcode} --oobi-alias {issuer_aid} \\\n",
    "    --oobi {issuer_oobi}\n",
    "\n",
    "!kli oobi resolve --name {issuer_keystore_name} --passcode {issuer_keystore_passcode} --oobi-alias {holder_aid}\\\n",
    "    --oobi {holder_oobi}"
   ]
  },
  {
   "cell_type": "markdown",
   "id": "66089e8d-8119-4856-bd8a-524b63fce27e",
   "metadata": {},
   "source": [
    "### Issuer Registry\n",
    "\n",
    "We need to setup a credential registry for the issuer."
   ]
  },
  {
   "cell_type": "code",
   "execution_count": null,
   "id": "97af974c-f638-427d-9eb2-05727ded10fa",
   "metadata": {},
   "outputs": [],
   "source": [
    "issuer_registry_name=\"issuer_registry\"\n",
    "\n",
    "!kli vc registry incept --name {issuer_keystore_name} --passcode {issuer_keystore_passcode} \\\n",
    "    --registry-name {issuer_registry_name} \\\n",
    "    --alias {issuer_aid}"
   ]
  },
  {
   "cell_type": "markdown",
   "id": "af1ad965-58ce-4936-b67a-ada6e01d6331",
   "metadata": {},
   "source": [
    "To query the status of a registry use the command `kli vc registry status`"
   ]
  },
  {
   "cell_type": "code",
   "execution_count": null,
   "id": "50210a7e-bc51-4075-8907-4c80d64faaf6",
   "metadata": {},
   "outputs": [],
   "source": [
    "!kli vc registry status --name {issuer_keystore_name} --passcode {issuer_keystore_passcode} --registry-name {issuer_registry_name} "
   ]
  },
  {
   "cell_type": "markdown",
   "id": "5bdedefb-33fb-4046-9767-f8f047c08203",
   "metadata": {},
   "source": [
    "## Schema preparation\n",
    "\n",
    "As seen before we need a schema to issue credentials. \n",
    "\n",
    "For this example we have prepared an schema to simulate an access pass for an event. It has the following attributes:\n",
    "```json\n",
    "\"eventName\": {\n",
    "  \"description\": \"The event name\",\n",
    "  \"type\": \"string\"\n",
    "},\n",
    "\"accessLevel\": {\n",
    "  \"description\": \"staff/speaker/attendee\",\n",
    "  \"type\": \"string\",\n",
    "  \"enum\": [\n",
    "    \"staff\",\n",
    "    \"speaker\",\n",
    "    \"attendee\"\n",
    "  ]\n",
    "},\n",
    "\"validDate\": {\n",
    "  \"description\": \"Valid date yyyy-mm-dd\",\n",
    "  \"type\": \"string\"\n",
    "}\n",
    "```\n",
    "\n",
    "To see the full schema click **[here](config/schemas/event_pass_schema.bak.json)**.  \n",
    "\n",
    "You may have noticed the schema is not saidified, so let's do that:"
   ]
  },
  {
   "cell_type": "code",
   "execution_count": null,
   "id": "3887e5dd-68c2-442c-bbdc-87c54ba81c2c",
   "metadata": {},
   "outputs": [],
   "source": [
    "process_schema_file(\"config/schemas/event_pass_schema.bak.json\", \"config/schemas/event_pass_schema.json\") \n",
    "\n",
    "schema_said = get_schema_said(\"config/schemas/event_pass_schema.json\")\n",
    "\n",
    "print(schema_said)\n"
   ]
  },
  {
   "cell_type": "markdown",
   "id": "f60523e9-e45a-4744-a53c-11d46178e222",
   "metadata": {},
   "source": [
    "### vLEI-server\n",
    "After the schema has been \"saidified,\" (see the \"saidified\" schema **[here](config/schemas/event_pass_schema.json)**) it needs to be made available for any party needing it. In the case of the issuer and the holder. \n",
    "For this purpose, we have embedded a pre-configured service that already has the saidified schema pre-loaded.\n",
    "\n",
    "you can query the schema by using the pre-defined schema oobi.\n",
    "\n",
    "🚧 explain a little bit about vLEI-Server\n",
    "note: we will expand on the vLEI-server later on\n",
    "\n"
   ]
  },
  {
   "cell_type": "code",
   "execution_count": null,
   "id": "fb396f82-a206-42b9-858d-fe9ce5f19296",
   "metadata": {},
   "outputs": [],
   "source": [
    "!curl -s http://vlei-server:7723/oobi/{schema_said}"
   ]
  },
  {
   "cell_type": "markdown",
   "id": "4a01b51b-96dc-465d-9ed8-d346e3237bf1",
   "metadata": {},
   "source": [
    "### Resolve Schema oobi\n",
    "\n",
    "The issuer and holder need to resolve the schema by using it's oobi"
   ]
  },
  {
   "cell_type": "code",
   "execution_count": null,
   "id": "4740c92f-1f44-458d-9f68-212ddd0f5ee7",
   "metadata": {},
   "outputs": [],
   "source": [
    "schema_oobi_alias = \"schema_oobi\"\n",
    "schema_oobi = f\"http://vlei-server:7723/oobi/{schema_said}\"\n",
    "\n",
    "!kli oobi resolve --name {holder_keystore_name} --passcode {holder_keystore_passcode} --oobi-alias {schema_oobi_alias} \\\n",
    "    --oobi {schema_oobi}\n",
    "\n",
    "!kli oobi resolve --name {issuer_keystore_name} --passcode {issuer_keystore_passcode} --oobi-alias {schema_oobi_alias}\\\n",
    "    --oobi {schema_oobi}"
   ]
  },
  {
   "cell_type": "markdown",
   "id": "6f37ca3e-fc37-477a-b0aa-1c8d77e8a64a",
   "metadata": {},
   "source": [
    "## Prepare and Create Credential\n",
    "\n",
    "We have our issuer and verifier and schema ready. now we need to create the credential "
   ]
  },
  {
   "cell_type": "markdown",
   "id": "3230209c-ad6e-4649-8442-304afabaf659",
   "metadata": {},
   "source": [
    "### Prepare credential data\n",
    "\n",
    "To create the credential we need to provide the values corresponding to the attributes. This values are fed into the `kli command` using a file\n",
    "pre-define, see file"
   ]
  },
  {
   "cell_type": "code",
   "execution_count": null,
   "id": "a7f987da-192b-41d1-84b3-7e3f1714c685",
   "metadata": {},
   "outputs": [],
   "source": [
    "!cat config/credential_data/event_pass_cred_data.json"
   ]
  },
  {
   "cell_type": "markdown",
   "id": "7562c490-5c87-4c8d-b52c-1081c678f732",
   "metadata": {},
   "source": [
    "### Create credential\n",
    "\n",
    "To create the credential, use the command `kli vc create`. You provide the issuer keystore parameters, the alias of the AID that will act as the credential issuer, and the `--registry` to manage the credential. the `--schema` said (remember the schema was loaded from the vLEI-server), the `--recipient` is the credential subject (also called the issue), `--data` are the attributes for this particular credential, and `--time` is the timestamp for the credential creation "
   ]
  },
  {
   "cell_type": "code",
   "execution_count": null,
   "id": "756b2a82-f271-42ca-879e-002380119feb",
   "metadata": {},
   "outputs": [],
   "source": [
    "time = exec(\"kli time\")\n",
    "\n",
    "!kli vc create --name {issuer_keystore_name} --passcode {issuer_keystore_passcode} \\\n",
    "    --alias {issuer_aid} \\\n",
    "    --registry-name {issuer_registry_name} \\\n",
    "    --schema {schema_said} \\\n",
    "    --recipient {holder_aid} \\\n",
    "    --data \"@./config/credential_data/event_pass_cred_data.json\" \\\n",
    "    --time {time}"
   ]
  },
  {
   "cell_type": "markdown",
   "id": "38ff953a-d746-4b68-815a-5b47039992e9",
   "metadata": {},
   "source": [
    "### Display issued credential\n",
    "\n",
    "The command `kli vc list` allows you to see the issued credential"
   ]
  },
  {
   "cell_type": "code",
   "execution_count": null,
   "id": "c531d591-80dc-4670-8968-72a549eea80a",
   "metadata": {},
   "outputs": [],
   "source": [
    "!kli vc list  --name {issuer_keystore_name} --passcode {issuer_keystore_passcode} --issued --verbose"
   ]
  },
  {
   "cell_type": "markdown",
   "id": "fe7b3ab5-3c1b-425f-ada9-3a317bfd9efd",
   "metadata": {},
   "source": [
    "### Get credential SAID\n",
    "\n",
    "We need to retrieve the credential said, to use it as credential identifier in the next steps.\n",
    "to achieve that we use the `kli vc list` again put addinf additional parameters `--said` to return only the SAID of found credentials"
   ]
  },
  {
   "cell_type": "code",
   "execution_count": null,
   "id": "0d1ab540-957b-417f-8249-1ec41bfe18fc",
   "metadata": {},
   "outputs": [],
   "source": [
    "get_credential_said = f\"kli vc list --name {issuer_keystore_name} --passcode {issuer_keystore_passcode} --alias {issuer_aid} --issued --said --schema {schema_said}\"\n",
    "credential_said=exec(get_credential_said)\n",
    "\n",
    "print(credential_said)"
   ]
  },
  {
   "cell_type": "markdown",
   "id": "69dc3402-07b5-4721-8589-bcd2d514d4cc",
   "metadata": {},
   "source": [
    "## Ipex Credetial issuance\n",
    "\n",
    "At this point, the credential has been created. but it remains with the issuer. To send the credential, we need to use the IPEX protocol. "
   ]
  },
  {
   "cell_type": "markdown",
   "id": "a3bf5189-e0cc-45ed-bbe2-f23a0674c6e0",
   "metadata": {},
   "source": [
    "### Issuer initiate Ipex exchange (credential offer)\n",
    "\n",
    "The `kli ipex grant` command is used to deliver the credential. Here, the language about the management of the credential is sometimes referred to as the discloser and the disclosee. The issuer (discloser) is disclosing the credential to the holder (disclose)\n",
    "Using `kli ipex grant`, the discloser sends a message with the credential.\n",
    "\n",
    "The parameters:\n",
    "- `--said` is the credential identifier value we just retrieved\n",
    "- `--recipient` in this case is the holder\n",
    "- `--time` is a timestamp"
   ]
  },
  {
   "cell_type": "code",
   "execution_count": null,
   "id": "1552863b-e000-4680-afb9-8f1b9a1883ba",
   "metadata": {},
   "outputs": [],
   "source": [
    "time = exec(\"kli time\")\n",
    "\n",
    "!kli ipex grant \\\n",
    "    --name {issuer_keystore_name} \\\n",
    "    --passcode {issuer_keystore_passcode} \\\n",
    "    --alias {issuer_aid} \\\n",
    "    --said {credential_said} \\\n",
    "    --recipient {holder_aid} \\\n",
    "    --time {time}"
   ]
  },
  {
   "cell_type": "markdown",
   "id": "36e315a0-a636-4b12-bc76-85518a09767b",
   "metadata": {},
   "source": [
    "### Issuer check sent message\n",
    "\n",
    "This step is not required for the workflow, but it allows you see a little bit of the inner workings"
   ]
  },
  {
   "cell_type": "code",
   "execution_count": null,
   "id": "f496e33b-9559-4281-bf92-f3a6ed6a1171",
   "metadata": {},
   "outputs": [],
   "source": [
    "!kli ipex list --name {issuer_keystore_name} \\\n",
    "    --passcode {issuer_keystore_passcode} \\\n",
    "    --alias {issuer_aid} \\\n",
    "    --sent"
   ]
  },
  {
   "cell_type": "markdown",
   "id": "3f27c31a-21bd-45c9-b6c9-7210ceadef7e",
   "metadata": {},
   "source": [
    "### Holder poll mailbox and get message said (IPEX Message)\n",
    "\n",
    "The holder needs to check the mailbox for the ipex message containing a credential 🚩"
   ]
  },
  {
   "cell_type": "code",
   "execution_count": null,
   "id": "d4172a81-403a-47ad-904d-c8be644d9a6c",
   "metadata": {},
   "outputs": [],
   "source": [
    "get_ipex_said=f\"kli ipex list --name {holder_keystore_name} --passcode {holder_keystore_passcode} --alias {holder_aid} --poll --said\"\n",
    "ipex_said=exec(get_ipex_said)\n",
    "\n",
    "print(ipex_said)\n"
   ]
  },
  {
   "cell_type": "markdown",
   "id": "bb3bc719-2a02-4804-bd2f-801f9e8c0c9f",
   "metadata": {},
   "source": [
    "### Holder check received message\n",
    "\n",
    "This step is not required for the workflow, but it allows you see a little bit of the inner workings"
   ]
  },
  {
   "cell_type": "code",
   "execution_count": null,
   "id": "494c435c-2b32-4475-8ad0-7613e307d2e6",
   "metadata": {},
   "outputs": [],
   "source": [
    "!kli ipex list --name {holder_keystore_name} \\\n",
    "    --passcode {holder_keystore_passcode} \\\n",
    "    --alias {holder_aid} "
   ]
  },
  {
   "cell_type": "markdown",
   "id": "efdd8f12-f41b-4b77-baf9-758daab9f22a",
   "metadata": {},
   "source": [
    "### Holder accept credential \n",
    "\n",
    "Now the we have the ipex message said, the holder can admit the message"
   ]
  },
  {
   "cell_type": "code",
   "execution_count": null,
   "id": "2bc2bc8d-d200-4f24-89be-01c7639d4b4e",
   "metadata": {},
   "outputs": [],
   "source": [
    "time = exec(\"kli time\")\n",
    "\n",
    "!kli ipex admit \\\n",
    "    --name {holder_keystore_name} \\\n",
    "    --passcode {holder_keystore_passcode} \\\n",
    "    --alias {holder_aid} \\\n",
    "    --said {ipex_said} \\\n",
    "    --time {time}\n",
    "\n"
   ]
  },
  {
   "cell_type": "markdown",
   "id": "5aabeb08-1044-41ca-9047-0bde956cd1cc",
   "metadata": {},
   "source": [
    "### Holder check sent message\n",
    "\n",
    "not required but we can see the ADMIT message sent"
   ]
  },
  {
   "cell_type": "code",
   "execution_count": null,
   "id": "a759cf19-b96b-4c8c-abaf-f2b32dad59a8",
   "metadata": {},
   "outputs": [],
   "source": [
    "!kli ipex list --name {holder_keystore_name} \\\n",
    "    --passcode {holder_keystore_passcode} \\\n",
    "    --alias {holder_aid} \\\n",
    "    --sent"
   ]
  },
  {
   "cell_type": "markdown",
   "id": "59e68492-36db-4325-8bf8-f550ef346413",
   "metadata": {},
   "source": [
    "### Holder displays credential\n",
    "\n",
    "The holder now has the credential."
   ]
  },
  {
   "cell_type": "code",
   "execution_count": null,
   "id": "ed8b18ec-b9b9-40df-84d1-2dcb652852af",
   "metadata": {},
   "outputs": [],
   "source": [
    "!kli vc list  --name {holder_keystore_name} --passcode {holder_keystore_passcode} --verbose"
   ]
  },
  {
   "cell_type": "code",
   "execution_count": null,
   "id": "c3489dcf-f428-4609-9369-d8667ab78ece",
   "metadata": {},
   "outputs": [],
   "source": []
  },
  {
   "cell_type": "code",
   "execution_count": null,
   "id": "f3bcc872-216e-4dfa-978d-f03be247f9e1",
   "metadata": {},
   "outputs": [],
   "source": []
  },
  {
   "cell_type": "code",
   "execution_count": null,
   "id": "301f5c08-cd0d-4326-997c-dd60d85da699",
   "metadata": {},
   "outputs": [],
   "source": []
  },
  {
   "cell_type": "code",
   "execution_count": null,
   "id": "1e8d3e1a-ac55-4f05-b422-6e3bf10ef4a6",
   "metadata": {},
   "outputs": [],
   "source": []
  },
  {
   "cell_type": "markdown",
   "id": "41ac1451-451d-43d3-8e6e-222ca7474a49",
   "metadata": {},
   "source": [
    "# Issuing an ACDC\n",
    "\n",
    "**Objective:** Learn how to create a Credential Registry and issue a basic Authentic Chained Data Container (ACDC) using the KERI command-line interface (`kli`).\n",
    "\n",
    "*(Assumed Knowledge: You should understand ACDCs and Schemas and have a SAIDified schema file ready, e.g., `sample_credential_schema.json` with its calculated SAID.)*\n",
    "\n",
    "## Credential Registries (TELs)\n",
    "\n",
    "Before an issuer can start creating ACDCs, it needs a way to manage its issuance and revocation status. In KERI, this is handled by a **Credential Registry**.\n",
    "\n",
    "Think of a registry as a dedicated ledger within the issuer's environment, specifically for tracking the credentials they issue. Under the hood, this registry uses one or more **Transaction Event Logs (TELs)**.\n",
    "\n",
    "* **What is a TEL?** A TEL is another secure, append-only log, similar to a KEL (Key Event Log). However, instead of tracking key events for an identifier (AID), a TEL tracks events related to credentials issued under that AID, such as issuance (`iss`) and revocation (`rev`).\n",
    "* **Anchoring:** Events in a TEL are cryptographically anchored back to the issuer's main KEL. This ensures that the credential's status is tied to the issuer's control authority.\n",
    "* **Management TEL:** When you create a registry, a special *management* TEL is created first. This management TEL tracks the overall registry configuration. Later, when individual credentials are issued, they get their *own* TELs to track their specific status, linked back to the management TEL.\n",
    "\n"
   ]
  },
  {
   "cell_type": "markdown",
   "id": "6dc1ef8c-472d-4726-b320-a67505faf5ed",
   "metadata": {},
   "source": [
    "Create 2 keystores\n",
    "Create a registry on each keystore\n",
    "\n",
    "concepts:  \n",
    "- credential registry\n",
    "- TEL A transaction event log is a log of all events occurring for a verifiable credential or a credential registry\n",
    "    - Management TEL:\n",
    "        - registrars (backers) \n",
    "    - VC TEL: \n",
    "- event icp\n",
    "- event ixn (registry creation)\n",
    "- Backers\n",
    "- Public Transaction Event Logs (PTEL):\n",
    "    - use TEL to connect to connect ACDC with KEL\n",
    "    - Credential lifecycle (issuance and revocation)  \n",
    "- and the Issuance and Presentation Exchange (IPEX) protocols"
   ]
  },
  {
   "cell_type": "code",
   "execution_count": null,
   "id": "e3141b1f-45ad-4e1d-af8e-91f7f5b4cdb3",
   "metadata": {},
   "outputs": [],
   "source": []
  },
  {
   "cell_type": "code",
   "execution_count": null,
   "id": "7e799e77-b0df-4bd3-ac08-9bff681629c1",
   "metadata": {},
   "outputs": [],
   "source": []
  },
  {
   "cell_type": "code",
   "execution_count": null,
   "id": "08231d99-7cc3-4cde-a917-dacac73db961",
   "metadata": {},
   "outputs": [],
   "source": []
  },
  {
   "cell_type": "code",
   "execution_count": null,
   "id": "a7b323b5-0bf0-4d8a-942c-4b1e54b7ccb6",
   "metadata": {},
   "outputs": [],
   "source": []
  },
  {
   "cell_type": "code",
   "execution_count": null,
   "id": "cb319976-8429-4266-b1e2-789c8f588032",
   "metadata": {},
   "outputs": [],
   "source": []
  }
 ],
 "metadata": {
  "kernelspec": {
   "display_name": "Python 3 (ipykernel)",
   "language": "python",
   "name": "python3"
  },
  "language_info": {
   "codemirror_mode": {
    "name": "ipython",
    "version": 3
   },
   "file_extension": ".py",
   "mimetype": "text/x-python",
   "name": "python",
   "nbconvert_exporter": "python",
   "pygments_lexer": "ipython3",
   "version": "3.12.9"
  }
 },
 "nbformat": 4,
 "nbformat_minor": 5
}
