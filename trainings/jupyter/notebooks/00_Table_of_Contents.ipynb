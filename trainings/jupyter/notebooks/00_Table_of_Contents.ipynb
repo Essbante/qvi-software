{
 "cells": [
  {
   "cell_type": "markdown",
   "id": "b697ac09-4251-449b-bd80-55b5ffcc40c8",
   "metadata": {},
   "source": [
    "## Table of contents\n",
    "\n",
    "- [Introduction](01_Introduction.ipynb)\n",
    "- [KLI](02_KLI.ipynb)\n",
    "- [Controllers](03_Controllers_and_Identifiers.ipynb)\n",
    "    - Keystore\n",
    "    - Identifiers\n",
    "    - Signatures\n",
    "    - Key Rotation   \n",
    "- ..."
   ]
  },
  {
   "cell_type": "code",
   "execution_count": null,
   "id": "0792833a-23ca-4689-972b-9bf929cbc1ff",
   "metadata": {},
   "outputs": [],
   "source": []
  }
 ],
 "metadata": {
  "kernelspec": {
   "display_name": "Python 3 (ipykernel)",
   "language": "python",
   "name": "python3"
  },
  "language_info": {
   "codemirror_mode": {
    "name": "ipython",
    "version": 3
   },
   "file_extension": ".py",
   "mimetype": "text/x-python",
   "name": "python",
   "nbconvert_exporter": "python",
   "pygments_lexer": "ipython3",
   "version": "3.12.9"
  }
 },
 "nbformat": 4,
 "nbformat_minor": 5
}
