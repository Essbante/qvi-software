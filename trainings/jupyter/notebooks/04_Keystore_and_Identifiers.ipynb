{
 "cells": [
  {
   "cell_type": "code",
   "execution_count": 3,
   "id": "8c3f5bbd-590d-469b-9259-90b5c0199213",
   "metadata": {
    "editable": true,
    "slideshow": {
     "slide_type": ""
    },
    "tags": []
   },
   "outputs": [],
   "source": [
    "# Imports and Utility functions\n",
    "import subprocess\n",
    "\n",
    "def clear_keri():\n",
    "    path = \"/usr/local/var/keri/\"\n",
    "    confirm = input(\"🚨 This will clear your keystore. Are you sure? (y/n): \")\n",
    "    if confirm.lower() == \"y\":\n",
    "        print(\"Proceeding...\")\n",
    "        try:\n",
    "            subprocess.run([\"rm\", \"-rf\", path], check=True)\n",
    "            print(f\"✅ Successfully removed: {path}\")\n",
    "        except subprocess.CalledProcessError as e:\n",
    "            print(f\"❌ Error removing {path}: {e}\")\n",
    "    else:\n",
    "        print(\"Operation cancelled.\")"
   ]
  },
  {
   "cell_type": "markdown",
   "id": "94fd6f8c-7747-4b64-a05f-353bc98c1221",
   "metadata": {
    "editable": true,
    "slideshow": {
     "slide_type": ""
    },
    "tags": []
   },
   "source": [
    "## Creating a Keystore\n",
    "\n",
    "Before you can create identifiers or perform many other actions with KLI, you need a keystore, an encrypted data store that holds the private keys for your identifiers. To initialize a keystore, you give it a name, protect it with a passcode, and provide a salt for generating the keys.\n",
    "\n",
    "The command to do this is `kli init`. Here's an example:\n"
   ]
  },
  {
   "cell_type": "code",
   "execution_count": 5,
   "id": "094f9e78-a8a7-4859-920b-1ec7338e9b6f",
   "metadata": {
    "editable": true,
    "slideshow": {
     "slide_type": ""
    },
    "tags": []
   },
   "outputs": [
    {
     "name": "stdout",
     "output_type": "stream",
     "text": [
      "KERI Keystore created at: /usr/local/var/keri/ks/my-first-key-store\n",
      "KERI Database created at: /usr/local/var/keri/db/my-first-key-store\n",
      "KERI Credential Store created at: /usr/local/var/keri/reg/my-first-key-store\n",
      "\taeid: BD-1udeJaXFzKbSUFb6nhmndaLlMj-pdlNvNoN562h3z\n"
     ]
    }
   ],
   "source": [
    "# Choose a name for your keystore\n",
    "keystore_name=\"my-first-key-store\"\n",
    "# Use a strong, randomly generated passcode ( from 'kli passcode generate')\n",
    "keystore_passcode=\"xSLg286d4iWiRg2mzGYca\"\n",
    "# Use a random salt (from 'kli salt')\n",
    "salt=\"0ABeuT2dErMrqFE5Dmrnc2Bq\"\n",
    "\n",
    "!kli init --name {keystore_name} --passcode {keystore_passcode} --salt {salt}"
   ]
  },
  {
   "cell_type": "markdown",
   "id": "c480ca8c-5419-4b2b-b269-de5590203772",
   "metadata": {
    "editable": true,
    "slideshow": {
     "slide_type": ""
    },
    "tags": []
   },
   "source": [
    "This command sets up the necessary file structures for your Keystore, ready for you to create and manage Identifiers within it. It creates the keystore, the database, and the credential store.  "
   ]
  },
  {
   "cell_type": "markdown",
   "id": "bc0a26a6-df3a-4c5b-965a-bd71f80b8a3a",
   "metadata": {},
   "source": [
    "<div class=\"alert alert-info\">\n",
    "  <b>ℹ️ NOTE</b><hr>\n",
    "    <li>Depending on the context, the Keystore may also be referred to as a Habitat or Habery.</li> \n",
    "    <li>A Habery is a collection of Habs, a Hab is a keystore for one identifier.</li>\n",
    "</div>"
   ]
  },
  {
   "cell_type": "markdown",
   "id": "eb9b23b6-7bea-4596-83da-40efa7bb43a9",
   "metadata": {},
   "source": [
    "## Creating an Identifier\n",
    "\n",
    "Now that you have a keystore, you can create your first identifier within it. In KERI, these are Autonomic Identifiers (AIDs). The command used is `kli incept`.\n",
    "\n",
    "When you run `kli incept`, it generates the cryptographic keys for your identifier and outputs a unique string called a Prefix. This Prefix is the actual, usable representation of your AID.\n",
    "\n",
    "Let's create one:"
   ]
  },
  {
   "cell_type": "code",
   "execution_count": 6,
   "id": "aec4ddaa-c006-41d2-9078-1bcba9704765",
   "metadata": {
    "editable": true,
    "slideshow": {
     "slide_type": ""
    },
    "tags": []
   },
   "outputs": [
    {
     "name": "stdout",
     "output_type": "stream",
     "text": [
      "Prefix  BHt9Kw8oUgfB2kiyoj65B2VE5fZLr87S5MJP3l4JeRwC\n",
      "\tPublic key 1:  BHt9Kw8oUgfB2kiyoj65B2VE5fZLr87S5MJP3l4JeRwC\n",
      "\n"
     ]
    }
   ],
   "source": [
    "# Choose a human-readable alias for your identifier *within this keystore*\n",
    "aid_alias = \"my-first-aid\"\n",
    "\n",
    "# Create (incept) the identifier\n",
    "# The parameters --icount, --isith, --ncount, --nsith, --toad control the key management thresholds.\n",
    "# We use basic settings here; these will be explained in detail in a later section (TBD).\n",
    "!kli incept --name {keystore_name} --alias {aid_alias} --passcode {keystore_passcode} \\\n",
    "    --icount 1 --isith 1 --ncount 1 --nsith 1 --toad 0"
   ]
  },
  {
   "cell_type": "markdown",
   "id": "52e53a14-e3d7-4858-9fb7-31b596c8b4af",
   "metadata": {
    "editable": true,
    "slideshow": {
     "slide_type": ""
    },
    "tags": []
   },
   "source": [
    "**What just happened? AID vs. Prefix**\n",
    "\n",
    "The command created an Autonomic Identifier (AID). The string `BHt9Kw8oUgfB2kiyoj65B2VE5fZLr87S5MJP3l4JeRwC` is the Prefix.\n",
    "Here's the relationship:\n",
    "\n",
    "1) AID is the Concept: An Autonomic Identifier (AID) is a type of identifier defined by its properties:\n",
    "    - Self-Managing: You control its keys without the need for a central authority.\n",
    "    - Self-Certifying: The AID itself provides the cryptographic information needed to verify its authenticity.\n",
    "2) Prefix is the Representation: The Prefix is how an AID is encoded and represented as a string. It's constructed by combining:\n",
    "    - A Derivation Code: Indicates how the key was generated and its type.\n",
    "    - The Encoded Public Key: The public portion of the initial key pair.\n",
    "3) Why Prefixes Matter: An AID must be self-certifying. The Prefix achieves this because it directly embeds the public key material within the identifier string itself. Anyone seeing the prefix can cryptographically verify signatures or messages associated with that AID.\n",
    "\n",
    "\n",
    "🚧 mention incept parameters  \n",
    "🚧 triple check the veracity of the statements\n",
    "\n",
    "<div class=\"alert alert-prymary\">\n",
    "  <b>📝 SUMMARY</b><hr>\n",
    "    <li>Think of the AID as the secure, self-managed identifier</li>\n",
    "    <li>Think of the prefix as the actual text string you use to represent that AID, whose structure makes the AID's self-certifying property work</li>\n",
    "    <li>Think of the alias (<code>my-first-aid</code> in our example) as just a local nickname within your keystore to easily refer to the complex Prefix</li>\n",
    "    <li>The terms AID, identifier, prefix, and alias tend to be used interchangeably</li>\n",
    "</div>\n",
    "\n",
    "\n"
   ]
  },
  {
   "cell_type": "markdown",
   "id": "b950114d-7c5d-49b0-982c-9531ee4c8f4d",
   "metadata": {},
   "source": [
    "## Displaying the Identifier\n",
    "You can check the status of the identifier you just created using `kli status` and its alias. This command will show details about the AID's current state, including its Alias, prefix (Identifier), sequence number, public keys, and additional information.\n",
    "\n",
    "🚧the command output shows data that needs to be explained later"
   ]
  },
  {
   "cell_type": "code",
   "execution_count": 7,
   "id": "c98038a0-1d36-425f-9936-2a10afc95093",
   "metadata": {},
   "outputs": [
    {
     "name": "stdout",
     "output_type": "stream",
     "text": [
      "Alias: \tmy-first-aid\n",
      "Identifier: BHt9Kw8oUgfB2kiyoj65B2VE5fZLr87S5MJP3l4JeRwC\n",
      "Seq No:\t0\n",
      "\n",
      "Witnesses:\n",
      "Count:\t\t0\n",
      "Receipts:\t0\n",
      "Threshold:\t0\n",
      "\n",
      "Public Keys:\t\n",
      "\t1. BHt9Kw8oUgfB2kiyoj65B2VE5fZLr87S5MJP3l4JeRwC\n",
      "\n"
     ]
    }
   ],
   "source": [
    "# Check the status of the AID using its alias\n",
    "!kli status --name {keystore_name} --passcode {keystore_passcode} --alias {aid_alias}"
   ]
  },
  {
   "cell_type": "markdown",
   "id": "57e2de61-5529-4bb4-b0f2-c7146cb6097a",
   "metadata": {
    "editable": true,
    "slideshow": {
     "slide_type": ""
    },
    "tags": []
   },
   "source": [
    "You can also list all the identifiers managed within this keystore. To illustrate this, let's create an additional Identifier"
   ]
  },
  {
   "cell_type": "code",
   "execution_count": 8,
   "id": "4fa59d37-5cbf-49f8-af85-92314ab64e2a",
   "metadata": {},
   "outputs": [
    {
     "name": "stdout",
     "output_type": "stream",
     "text": [
      "Prefix  BBuVNJvbJD2WNduQ0JUGRVGb6uKYrF5bO5T4gdGt_ezO\n",
      "\tPublic key 1:  BBuVNJvbJD2WNduQ0JUGRVGb6uKYrF5bO5T4gdGt_ezO\n",
      "\n"
     ]
    }
   ],
   "source": [
    "!kli incept --name {keystore_name} --alias \"my-second-aid\" --passcode {keystore_passcode} \\\n",
    "    --icount 1 --isith 1 --ncount 1 --nsith 1 --toad 0"
   ]
  },
  {
   "cell_type": "markdown",
   "id": "1a55b4ff-797e-4907-b516-4d452eac8a0c",
   "metadata": {},
   "source": [
    "Now use `kli list` to list all the identifiers managed by the keystore"
   ]
  },
  {
   "cell_type": "code",
   "execution_count": 9,
   "id": "83695668-da26-477d-a938-892355a9b150",
   "metadata": {},
   "outputs": [
    {
     "name": "stdout",
     "output_type": "stream",
     "text": [
      "my-first-aid (BHt9Kw8oUgfB2kiyoj65B2VE5fZLr87S5MJP3l4JeRwC)\n",
      "my-second-aid (BBuVNJvbJD2WNduQ0JUGRVGb6uKYrF5bO5T4gdGt_ezO)\n"
     ]
    }
   ],
   "source": [
    "# List all Identifiers in the keystore\n",
    "!kli list --name {keystore_name} --passcode {keystore_passcode}"
   ]
  },
  {
   "cell_type": "markdown",
   "id": "7b7ec776-5e47-4643-9770-7babe83cfff4",
   "metadata": {
    "editable": true,
    "slideshow": {
     "slide_type": ""
    },
    "tags": []
   },
   "source": [
    "<div class=\"alert alert-info\">\n",
    "  <b>💡 TIP</b><hr>\n",
    "    <li>You can use <code>--verbose</code> parameter to show the key event messages.\n",
    "    <li>To understand the meaning of the key event fields, refer to <a href=\"https://trustoverip.github.io/tswg-keri-specification/#keri-data-structures-and-labels\">KERI Data Structures and Labels</a>\n",
    "    <li>Key Event Fields:\n",
    "      <ul>\n",
    "        <li><code>v</code> – Version String</li>\n",
    "        <li><code>t</code> – Message type (e.g., <code>icp</code>)</li>\n",
    "        <li><code>k</code> – List of Signing Keys</li>\n",
    "        <li><code>i</code> – Identifier Prefix (AID)</li>\n",
    "      </ul>\n",
    "    </li>\n",
    "</div>"
   ]
  },
  {
   "cell_type": "code",
   "execution_count": 10,
   "id": "49a334b9-b03b-457f-ae65-f29d2d74df0f",
   "metadata": {
    "editable": true,
    "slideshow": {
     "slide_type": ""
    },
    "tags": []
   },
   "outputs": [
    {
     "name": "stdout",
     "output_type": "stream",
     "text": [
      "Alias: \tmy-first-aid\n",
      "Identifier: BHt9Kw8oUgfB2kiyoj65B2VE5fZLr87S5MJP3l4JeRwC\n",
      "Seq No:\t0\n",
      "\n",
      "Witnesses:\n",
      "Count:\t\t0\n",
      "Receipts:\t0\n",
      "Threshold:\t0\n",
      "\n",
      "Public Keys:\t\n",
      "\t1. BHt9Kw8oUgfB2kiyoj65B2VE5fZLr87S5MJP3l4JeRwC\n",
      "\n",
      "\n",
      "Witnesses:\t\n",
      "\n",
      "{\n",
      " \"v\": \"KERI10JSON0000fd_\",\n",
      " \"t\": \"icp\",\n",
      " \"d\": \"EG23dnLAUA4ywPcu2qbokplb2cb1XlIOw24iIKYtR3v4\",\n",
      " \"i\": \"BHt9Kw8oUgfB2kiyoj65B2VE5fZLr87S5MJP3l4JeRwC\",\n",
      " \"s\": \"0\",\n",
      " \"kt\": \"1\",\n",
      " \"k\": [\n",
      "  \"BHt9Kw8oUgfB2kiyoj65B2VE5fZLr87S5MJP3l4JeRwC\"\n",
      " ],\n",
      " \"nt\": \"0\",\n",
      " \"n\": [],\n",
      " \"bt\": \"0\",\n",
      " \"b\": [],\n",
      " \"c\": [],\n",
      " \"a\": []\n",
      "}\n",
      "\n"
     ]
    }
   ],
   "source": [
    "!kli status --name {keystore_name} --passcode {keystore_passcode} --alias {aid_alias} --verbose"
   ]
  },
  {
   "cell_type": "markdown",
   "id": "b34302ba-6cad-4ab5-b60b-8fae724edc36",
   "metadata": {},
   "source": [
    "--------------------------------------------------------------------------------------"
   ]
  },
  {
   "cell_type": "markdown",
   "id": "01bc7bd3-3df6-4f4f-b8a5-ef874c01eba2",
   "metadata": {
    "editable": true,
    "slideshow": {
     "slide_type": ""
    },
    "tags": []
   },
   "source": [
    "<div class=\"alert alert-info\">\n",
    "  <b>💡 TIP</b><hr>\n",
    "    <li>If you run <code>clear_keri()</code>, the keystore, database, and credential store directories are deleted.</li>  \n",
    "    <li>This function is provided as an utility to clean your data for testing purposes.</li>\n",
    "</div>"
   ]
  },
  {
   "cell_type": "code",
   "execution_count": 3,
   "id": "6475d740-2631-4076-8d75-a2161795a609",
   "metadata": {
    "editable": true,
    "slideshow": {
     "slide_type": ""
    },
    "tags": []
   },
   "outputs": [
    {
     "name": "stdin",
     "output_type": "stream",
     "text": [
      "🚨 This will clear your keystore. Are you sure? (y/n):  y\n"
     ]
    },
    {
     "name": "stdout",
     "output_type": "stream",
     "text": [
      "Proceeding...\n",
      "✅ Successfully removed: /usr/local/var/keri/\n"
     ]
    }
   ],
   "source": [
    "clear_keri()"
   ]
  }
 ],
 "metadata": {
  "kernelspec": {
   "display_name": "Python 3 (ipykernel)",
   "language": "python",
   "name": "python3"
  },
  "language_info": {
   "codemirror_mode": {
    "name": "ipython",
    "version": 3
   },
   "file_extension": ".py",
   "mimetype": "text/x-python",
   "name": "python",
   "nbconvert_exporter": "python",
   "pygments_lexer": "ipython3",
   "version": "3.12.9"
  }
 },
 "nbformat": 4,
 "nbformat_minor": 5
}
