{
 "cells": [
  {
   "cell_type": "markdown",
   "id": "7ab6bcdc-126a-4466-a47f-9656edace967",
   "metadata": {},
   "source": [
    "# Direct and Indirect Modes\n",
    "KERI provides a secure way to manage Identifiers and track control using verifiable logs of key events (KEL). How these logs are shared and verified between the controller and someone verifying that identifier leads to two operational modes: Direct and Indirect.\n",
    "\n",
    "## Direct Mode\n",
    "\n",
    "Direct Mode is a one-to-one approach, similar to a direct conversation.\n",
    "\n",
    "The controller shares their Key Event Log directly with a specific validator, who verifies the signatures and checks the cryptographic chain to ensure integrity. The method of sharing the KEL is implementation-dependent.\n",
    "\n",
    "Trust is based solely on verifying the controller’s own signatures, as the validator directly receives and validates the KEL.\n",
    "\n",
    "This mode is an option for interactions where both parties can connect directly, even if only occasionally, and need to be online to exchange new events or updates.  \n",
    "\n",
    "## Indirect Mode\n",
    "\n",
    "Indirect Mode is the highly-available approach, similar to using a trusted public bulletin board instead of direct messaging.\n",
    "\n",
    "It’s for scenarios where the controller may be offline or needs to support many validators at once. Rather than relying on direct communication, it introduces infrastructure to keep the event log reliably accessible.\n",
    "\n",
    "Trust extends beyond the controller’s signature, relying on a network of Witnesses that verify, sign, and store events.\n",
    "\n",
    "This mode is ideal for public identifiers, always-verifiable services, one-to-many interactions, or any situation where the controller can’t be constantly online.\n",
    "\n"
   ]
  },
  {
   "cell_type": "markdown",
   "id": "612d78f1-8485-49c2-8f86-ae28b8639944",
   "metadata": {},
   "source": [
    "## Out-of-Band Introductions (OOBIs)\n",
    "\n",
    "When operating in indirect mode you need a way to tell others *where* they can find information about it, like its Key Event Log (KEL). This is where Out-of-Band Introductions (OOBIs) come in.\n",
    "\n",
    "**What is an OOBI?**\n",
    "\n",
    "An OOBI is a **discovery mechanism** used in KERI. Its primary purpose is to link a specific KERI AID  to a network location (a URL or URI) where information about that identifier can potentially be found.\n",
    "\n",
    "**Format:**\n",
    "\n",
    "The simplest form of an OOBI pairs an AID with a URL. It can be represented in various ways, For example:\n",
    "\n",
    "`(\"http://8.8.5.6:8080/oobi\", \"EaU6JR2nmwyZ-i0d8JZAoTNZH3ULvYAfSVPzhzS6b5CM\")`\n",
    "\n",
    "This OOBI suggests that information related to the AID `EaU6JR2nmwyZ-i0d8JZAoTNZH3ULvYAfSVPzhzS6b5CM` might be available at the service endpoint `http://8.8.5.6:8080/oobi`.\n",
    "\n",
    "**Crucial Point: OOBIs are NOT Trusted**\n",
    "\n",
    "This is the most important concept to understand about OOBIs:\n",
    "\n",
    "* **The OOBI itself is untrusted.** Just because you receive an OOBI doesn't mean the link between the URL and the AID is legitimate.\n",
    "* **The data at the OOBI endpoint is untrusted.** Any information retrieved from the URL provided in the OOBI *must* be independently verified using KERI's cryptographic mechanisms (like checking signatures against the AID's KEL).\n",
    "\n",
    "**Discovery vs. Trust**\n",
    "\n",
    "OOBIs cleverly separate the problem of *discovery* from the problem of *trust*:\n",
    "\n",
    "1.  **Discovery (Out-of-Band):** OOBIs leverage existing internet infrastructure (like web servers, DNS, search engines, QR codes, emails) to share these `(url, aid)` pairs. This is considered \"out-of-band\" because it uses mechanisms outside the core KERI protocol guarantees.\n",
    "2.  **Trust (In-Band):** Once you use the OOBI's URL to retrieve data (e.g., a KEL), you *must* use KERI's standard \"in-band\" cryptographic verification processes to establish trust in that data. You verify the signatures and the event history according to KERI rules.\n",
    "\n",
    "In short: **Discovery via URI, Trust via KERI.**\n",
    "\n",
    "OOBIs provide a flexible way to announce where KERI information might be found, relying on KERI's robust verification methods to ensure the trustworthiness of the information once retrieved.\n",
    "\n",
    "Add a note on said.\n"
   ]
  },
  {
   "cell_type": "markdown",
   "id": "645f55bb-28f2-43bc-85df-4db56a549a18",
   "metadata": {},
   "source": [
    "# Witnesses\n",
    "\n",
    "Witnesses are entities designated by the controller within their key event log, acting much like trusted notaries. Their role is to receive key events directly from the controller, verify the controller’s signature, and check that each event aligns with the historical log they maintain.\n",
    "\n",
    "Once a witness confirms an event is valid and encounters it for the first time in sequence, it generates a receipt by signing the event. The witness then stores both the original event and its own receipt—alongside receipts from other witnesses—in a local copy of the log known as the **Key Event Receipt Log (KERL)**.\n",
    "\n",
    "Witnesses play a critical role in ensuring the system’s reliability and integrity. They provide availability by forming a distributed service that validators can query to access the controller’s log, even if the controller itself is unavailable. Additionally, they help ensure consistency: since honest witnesses only sign the first valid version of an event they observe, it becomes significantly harder for a controller to present conflicting log versions. By gathering enough receipts from these witnesses, validators gain strong assurance that the event history they’re working with is the one broadly agreed upon.\n",
    "\n",
    "<div class=\"alert alert-prymary\">\n",
    "  <b>📝 SUMMARY</b><hr>\n",
    "KERI supports two main modes for sharing and verifying identifiers: Direct and Indirect.\n",
    "\n",
    "**Direct Mode** is a peer-to-peer approach where the controller shares their Key Event Log (KEL) directly with a validator. Trust is based solely on the controller’s own cryptographic signatures. It works best for one-to-one interactions where both parties are online.\n",
    "\n",
    "**Indirect Mode** is designed for scalability and availability. It introduces a trusted infrastructure of **Witnesses** — designated entities that receive, verify, and sign events from the controller. These witnesses maintain a copy of the event log (KERL), making it available even when the controller is offline. Validators trust not only the controller’s signatures but also the receipts from multiple witnesses, ensuring log consistency and resistance to tampering.\n",
    "</div>"
   ]
  },
  {
   "cell_type": "markdown",
   "id": "0e2808de-d84f-4ca4-9e70-ba77d047c22b",
   "metadata": {},
   "source": [
    "WIP WIP"
   ]
  },
  {
   "cell_type": "code",
   "execution_count": null,
   "id": "df4acb4f-db6f-41fd-9f5f-6a92898cba5e",
   "metadata": {
    "editable": true,
    "jupyter": {
     "source_hidden": true
    },
    "slideshow": {
     "slide_type": ""
    },
    "tags": []
   },
   "outputs": [],
   "source": [
    "# Imports and Utility functions\n",
    "import subprocess\n",
    "\n",
    "def clear_keri():\n",
    "    path = \"/usr/local/var/keri/\"\n",
    "    confirm = input(\"🚨 This will clear your keystore. Are you sure? (y/n): \")\n",
    "    if confirm.lower() == \"y\":\n",
    "        print(\"Proceeding...\")\n",
    "        try:\n",
    "            subprocess.run([\"rm\", \"-rf\", path], check=True)\n",
    "            print(f\"✅ Successfully removed: {path}\")\n",
    "        except subprocess.CalledProcessError as e:\n",
    "            print(f\"❌ Error removing {path}: {e}\")\n",
    "    else:\n",
    "        print(\"Operation cancelled.\")"
   ]
  },
  {
   "cell_type": "markdown",
   "id": "627e9397-6127-474e-9a35-da5b0d07974f",
   "metadata": {},
   "source": [
    "we have a demo witness network deployed already\n",
    "explain the demo witness\n",
    "\n",
    "test the witness with curl, KEL of the witness AID\n",
    "\n",
    "explain oobis\n"
   ]
  },
  {
   "cell_type": "code",
   "execution_count": null,
   "id": "3a772be1-c06f-44b4-b155-b3ada0d664ea",
   "metadata": {},
   "outputs": [],
   "source": [
    "!curl -s http://witness-demo:5642/oobi/BBilc4-L3tFUnfM_wJr4S4OJanAv_VmF_dJNN6vkf2Ha"
   ]
  },
  {
   "cell_type": "markdown",
   "id": "ac67666a-5e7e-4b67-8541-d3a92bbb61d9",
   "metadata": {},
   "source": [
    "Create Key Store\n",
    "explain the config file\n",
    "explain loading oobis\n",
    "explain keri/cf/ (note)"
   ]
  },
  {
   "cell_type": "code",
   "execution_count": null,
   "id": "7e0e60bc-e22b-46ae-bd40-8bf3ab242daa",
   "metadata": {
    "editable": true,
    "slideshow": {
     "slide_type": ""
    },
    "tags": []
   },
   "outputs": [],
   "source": [
    "keystore_name=\"tests-key-store\"\n",
    "\n",
    "keystore_passcode=\"xSLg286d4iWiRg2mzGYca\"\n",
    "\n",
    "salt=\"0ABeuT2dErMrqFE5Dmrnc2Bq\"\n",
    "\n",
    "!kli init --name {keystore_name} --passcode {keystore_passcode} --salt {salt} \\\n",
    "    --config-dir ./config \\\n",
    "    --config-file keystore_init_config.json\n"
   ]
  },
  {
   "cell_type": "code",
   "execution_count": null,
   "id": "34ccf92f-cbbc-41e3-89f1-6fbfd2bc0818",
   "metadata": {},
   "outputs": [],
   "source": [
    "!kli contacts list --name {keystore_name} --passcode {keystore_passcode}"
   ]
  },
  {
   "cell_type": "markdown",
   "id": "56cc40c3-85d2-4aa7-8d7a-27e170ba8192",
   "metadata": {},
   "source": [
    "Incept transferable AID\n",
    "explain we are not using config params, explain the config.json\n",
    "explain witness receipts"
   ]
  },
  {
   "cell_type": "code",
   "execution_count": null,
   "id": "d031dd14-f1f6-4279-97e1-63c7714b1b7f",
   "metadata": {},
   "outputs": [],
   "source": [
    "aid_alias_transferable = \"aid-transferable\"\n",
    "\n",
    "!kli incept --name {keystore_name} --alias {aid_alias_transferable} --passcode {keystore_passcode} \\\n",
    "    --file ./config/aid_inception_config.json"
   ]
  },
  {
   "cell_type": "code",
   "execution_count": null,
   "id": "2bf175dc-4239-4f99-88ae-8db5c7891fb4",
   "metadata": {},
   "outputs": [],
   "source": [
    "!kli status --name {keystore_name} --alias {aid_alias_transferable} --passcode {keystore_passcode} --verbose"
   ]
  },
  {
   "cell_type": "code",
   "execution_count": null,
   "id": "abff776d-c9f4-4784-90e5-594ad02a4279",
   "metadata": {},
   "outputs": [],
   "source": []
  },
  {
   "cell_type": "code",
   "execution_count": null,
   "id": "0b46d3d1-d117-49a7-bc68-41e3d3f80069",
   "metadata": {},
   "outputs": [],
   "source": [
    "!curl -s http://witness-demo:5642/oobi/ED5HLfY2h7pVa_MgLsF1CkK4CHWro4tOTOgvndmiuztK"
   ]
  },
  {
   "cell_type": "code",
   "execution_count": null,
   "id": "2255521a-0008-443d-a890-d87e8bb95d7e",
   "metadata": {},
   "outputs": [],
   "source": [
    "aid_alias_non_transferable = \"aid-non-transferable\"\n",
    "\n",
    "!kli incept --name {keystore_name} --alias {aid_alias_non_transferable} --passcode {keystore_passcode} \\\n",
    "    --icount 1 --isith 1 --ncount 1 --nsith 1 --toad 0"
   ]
  },
  {
   "cell_type": "code",
   "execution_count": null,
   "id": "8be7ae50-0dc6-4f9a-a085-bb1f8cdc72c3",
   "metadata": {},
   "outputs": [],
   "source": [
    "!kli query --name {keystore_name} --passcode {keystore_passcode} --alias {aid_alias_transferable} --prefix \"EJq-DYl9EQVlY1lShETUWLQuDEcVdRkWXfkkGBNDugjZ\""
   ]
  },
  {
   "cell_type": "code",
   "execution_count": null,
   "id": "013da7f7-1536-4597-82b5-7107e376e7b1",
   "metadata": {},
   "outputs": [],
   "source": [
    "!curl -s http://witness-demo:5642/oobi/BEG5uWt6xB94bIkdGUCjYcBf_ryDgPa7t1GUtVc7lerw/witness/BBilc4-L3tFUnfM_wJr4S4OJanAv_VmF_dJNN6vkf2Ha"
   ]
  },
  {
   "cell_type": "code",
   "execution_count": null,
   "id": "d3229521-1517-4847-95bf-86fc6da82866",
   "metadata": {},
   "outputs": [],
   "source": [
    "!kli status --name {keystore_name} --passcode {keystore_passcode} --alias {aid_alias_transferable} --verbose"
   ]
  },
  {
   "cell_type": "code",
   "execution_count": null,
   "id": "16e98670-2aa8-4e07-9a30-15872b61fa8b",
   "metadata": {},
   "outputs": [],
   "source": [
    "!kli query --name {keystore_name} --passcode {keystore_passcode} --alias {aid_alias_transferable} --prefix \"BBilc4-L3tFUnfM_wJr4S4OJanAv_VmF_dJNN6vkf2Ha\""
   ]
  },
  {
   "cell_type": "code",
   "execution_count": null,
   "id": "cdbb6a11-f404-4ac6-acf4-e0d12d100039",
   "metadata": {},
   "outputs": [],
   "source": [
    "!kli query --name {keystore_name} --passcode {keystore_passcode} --alias {aid_alias_non_transferable} --prefix \"BEG5uWt6xB94bIkdGUCjYcBf_ryDgPa7t1GUtVc7lerw\""
   ]
  },
  {
   "cell_type": "code",
   "execution_count": null,
   "id": "0be4a47a-4c1f-4500-bc0e-ca34bd02642d",
   "metadata": {},
   "outputs": [],
   "source": [
    "!kli status --name {keystore_name} --passcode {keystore_passcode} --alias {aid_alias_non_transferable} --verbose"
   ]
  }
 ],
 "metadata": {
  "kernelspec": {
   "display_name": "Python 3 (ipykernel)",
   "language": "python",
   "name": "python3"
  },
  "language_info": {
   "codemirror_mode": {
    "name": "ipython",
    "version": 3
   },
   "file_extension": ".py",
   "mimetype": "text/x-python",
   "name": "python",
   "nbconvert_exporter": "python",
   "pygments_lexer": "ipython3",
   "version": "3.12.9"
  }
 },
 "nbformat": 4,
 "nbformat_minor": 5
}
